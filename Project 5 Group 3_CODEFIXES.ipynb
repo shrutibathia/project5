{
 "cells": [
  {
   "cell_type": "markdown",
   "metadata": {},
   "source": [
    "## [Computational Social Science] Project 5: Natural Language Processing\n",
    "**Group 3: Jose Aveldanes, Shruti Bathia, and Diana Casanova**"
   ]
  },
  {
   "cell_type": "markdown",
   "metadata": {},
   "source": [
    "## 1. Introduction\n",
    "In this project, you will use natural language processing techniques to explore a dataset containing tweets from members of the 116th United States Congress that met from January 3, 2019 to January 2, 2021. The dataset has also been cleaned to contain information about each legislator. Concretely, you will do the following:\n",
    "\n",
    "* Preprocess the text of legislators' tweets\n",
    "* Conduct Exploratory Data Analysis of the text\n",
    "* Use sentiment analysis to explore differences between legislators' tweets\n",
    "* Featurize text with manual feature engineering, frequency-based, and vector-based techniques\n",
    "* Predict legislators' political parties and whether they are a Senator or Representative\n",
    "\n",
    "You will explore two questions that relate to two central findings in political science and examine how they relate to the text of legislators' tweets. First, political scientists have argued that U.S. politics is currently highly polarized relative to other periods in American history, but also that the polarization is asymmetric. Historically, there were several conservative Democrats (i.e. \"blue dog Democrats\") and liberal Republicans (i.e. \"Rockefeller Republicans\"), as measured by popular measurement tools like [DW-NOMINATE](https://en.wikipedia.org/wiki/NOMINATE_(scaling_method)#:~:text=DW\\%2DNOMINATE\\%20scores\\%20have\\%20been,in\\%20the\\%20liberal\\%2Dconservative\\%20scale.). However, in the last few years, there are few if any examples of any Democrat in Congress being further to the right than any Republican and vice versa. At the same time, scholars have argued that this polarization is mostly a function of the Republican party moving further right than the Democratic party has moved left. **Does this sort of asymmetric polarization show up in how politicians communicate to their constituents through tweets?**\n",
    "\n",
    "Second, the U.S. Congress is a bicameral legislature, and there has long been debate about partisanship in the Senate versus the House. The House of Representatives is apportioned by population and all members serve two year terms. In the Senate, each state receives two Senators and each Senator serves a term of six years. For a variety of reasons (smaller chamber size, more insulation from the voters, rules and norms like the filibuster, etc.), the Senate has been argued to be the \"cooling saucer\" of Congress in that it is more bipartisan and moderate than the House. **Does the theory that the Senate is more moderate have support in Senators' tweets?**\n",
    "\n",
    "**Note**: See the project handout for more details on caveats and the data dictionary."
   ]
  },
  {
   "cell_type": "code",
   "execution_count": 232,
   "metadata": {},
   "outputs": [],
   "source": [
    "# pandas and numpy\n",
    "import pandas as pd\n",
    "import numpy as numpy\n",
    "\n",
    "# punctuation, stop words and English language model\n",
    "from string import punctuation\n",
    "from spacy.lang.en.stop_words import STOP_WORDS\n",
    "import en_core_web_sm\n",
    "nlp = en_core_web_sm.load()\n",
    "from sklearn.preprocessing import StandardScaler\n",
    "\n",
    "# textblob\n",
    "from textblob import TextBlob\n",
    "\n",
    "# countvectorizer, tfidfvectorizer\n",
    "from sklearn.feature_extraction.text import CountVectorizer, TfidfVectorizer\n",
    "\n",
    "#LDA Topic Modeling\n",
    "from sklearn.decomposition import LatentDirichletAllocation , NMF\n",
    "\n",
    "# gensim\n",
    "import gensim\n",
    "from gensim import models\n",
    "from gensim.models.doc2vec import Doc2Vec, TaggedDocument\n",
    "\n",
    "# plotting\n",
    "import matplotlib.pyplot as plt\n",
    "import seaborn as sns\n",
    "%matplotlib inline\n",
    "\n",
    "#WordCloud for EDA\n",
    "from wordcloud import WordCloud, STOPWORDS, ImageColorGenerator\n",
    "\n",
    "#removing emojis\n",
    "import re\n",
    "\n",
    "#import emoji\n",
    "#import scattertext as st\n",
    "\n",
    "from sklearn.decomposition import PCA\n",
    "\n",
    "##machine learning and classification part \n",
    "from sklearn.model_selection import train_test_split\n",
    "from sklearn.preprocessing import LabelBinarizer\n",
    "from sklearn.linear_model import LogisticRegression\n",
    "from sklearn.metrics import confusion_matrix\n",
    "\n",
    "##helps deal with the Spanish words issue with word corpus method\n",
    "import nltk\n",
    "#nltk.download('words')"
   ]
  },
  {
   "cell_type": "markdown",
   "metadata": {},
   "source": [
    "## 2. Data"
   ]
  },
  {
   "cell_type": "code",
   "execution_count": 233,
   "metadata": {
    "scrolled": true
   },
   "outputs": [
    {
     "data": {
      "text/html": [
       "<div>\n",
       "<style scoped>\n",
       "    .dataframe tbody tr th:only-of-type {\n",
       "        vertical-align: middle;\n",
       "    }\n",
       "\n",
       "    .dataframe tbody tr th {\n",
       "        vertical-align: top;\n",
       "    }\n",
       "\n",
       "    .dataframe thead th {\n",
       "        text-align: right;\n",
       "    }\n",
       "</style>\n",
       "<table border=\"1\" class=\"dataframe\">\n",
       "  <thead>\n",
       "    <tr style=\"text-align: right;\">\n",
       "      <th></th>\n",
       "      <th>index</th>\n",
       "      <th>tweet_id</th>\n",
       "      <th>screen_name</th>\n",
       "      <th>datetime</th>\n",
       "      <th>text</th>\n",
       "      <th>name_wikipedia</th>\n",
       "      <th>position</th>\n",
       "      <th>joined_congress_date</th>\n",
       "      <th>birthday</th>\n",
       "      <th>gender</th>\n",
       "      <th>state</th>\n",
       "      <th>district_number</th>\n",
       "      <th>party</th>\n",
       "      <th>trump_2016_state_share</th>\n",
       "      <th>clinton_2016_state_share</th>\n",
       "      <th>obama_2012_state_share</th>\n",
       "      <th>romney_2012_state_share</th>\n",
       "    </tr>\n",
       "  </thead>\n",
       "  <tbody>\n",
       "    <tr>\n",
       "      <th>0</th>\n",
       "      <td>217331</td>\n",
       "      <td>1.174780e+18</td>\n",
       "      <td>RepValDemings</td>\n",
       "      <td>2019-09-19T16:10:19-04:00</td>\n",
       "      <td>Thank you for testifying today Mr. Blake. http...</td>\n",
       "      <td>Val Demings</td>\n",
       "      <td>Rep</td>\n",
       "      <td>3-Jan-17</td>\n",
       "      <td>3/12/1957</td>\n",
       "      <td>F</td>\n",
       "      <td>FL</td>\n",
       "      <td>10</td>\n",
       "      <td>Democrat</td>\n",
       "      <td>4,617,886</td>\n",
       "      <td>4,504,975</td>\n",
       "      <td>4,237,756</td>\n",
       "      <td>4,163,447</td>\n",
       "    </tr>\n",
       "    <tr>\n",
       "      <th>1</th>\n",
       "      <td>258764</td>\n",
       "      <td>1.139590e+18</td>\n",
       "      <td>RepHankJohnson</td>\n",
       "      <td>2019-06-14T14:05:48-04:00</td>\n",
       "      <td>My Twitter Town Hall on healthcare has begun a...</td>\n",
       "      <td>Hank Johnson</td>\n",
       "      <td>Rep</td>\n",
       "      <td>3-Jan-07</td>\n",
       "      <td>10/2/1954</td>\n",
       "      <td>M</td>\n",
       "      <td>GA</td>\n",
       "      <td>4</td>\n",
       "      <td>Democrat</td>\n",
       "      <td>2,089,104</td>\n",
       "      <td>1,877,963</td>\n",
       "      <td>1,773,827</td>\n",
       "      <td>2,078,688</td>\n",
       "    </tr>\n",
       "    <tr>\n",
       "      <th>2</th>\n",
       "      <td>50091</td>\n",
       "      <td>1.217600e+18</td>\n",
       "      <td>RepFrenchHill</td>\n",
       "      <td>2020-01-15T19:02:21-05:00</td>\n",
       "      <td>Scipio Jones‘ fight for civil rights and equal...</td>\n",
       "      <td>French Hill</td>\n",
       "      <td>Rep</td>\n",
       "      <td>3-Jan-15</td>\n",
       "      <td>12/5/1956</td>\n",
       "      <td>M</td>\n",
       "      <td>AR</td>\n",
       "      <td>2</td>\n",
       "      <td>Republican</td>\n",
       "      <td>684,872</td>\n",
       "      <td>380,494</td>\n",
       "      <td>394,409</td>\n",
       "      <td>647,744</td>\n",
       "    </tr>\n",
       "    <tr>\n",
       "      <th>3</th>\n",
       "      <td>205601</td>\n",
       "      <td>1.120440e+18</td>\n",
       "      <td>RepTedDeutch</td>\n",
       "      <td>2019-04-22T17:49:57-04:00</td>\n",
       "      <td>There is no better time to #ActOnClimate than ...</td>\n",
       "      <td>Ted Deutch</td>\n",
       "      <td>Rep</td>\n",
       "      <td>13-Apr-10</td>\n",
       "      <td>5/7/1966</td>\n",
       "      <td>M</td>\n",
       "      <td>FL</td>\n",
       "      <td>22</td>\n",
       "      <td>Democrat</td>\n",
       "      <td>4,617,886</td>\n",
       "      <td>4,504,975</td>\n",
       "      <td>4,237,756</td>\n",
       "      <td>4,163,447</td>\n",
       "    </tr>\n",
       "    <tr>\n",
       "      <th>4</th>\n",
       "      <td>85993</td>\n",
       "      <td>1.167160e+18</td>\n",
       "      <td>RepLaMalfa</td>\n",
       "      <td>2019-08-29T15:43:43-04:00</td>\n",
       "      <td>I understand the VA often has problems recruit...</td>\n",
       "      <td>Doug LaMalfa</td>\n",
       "      <td>Rep</td>\n",
       "      <td>3-Jan-13</td>\n",
       "      <td>7/2/1960</td>\n",
       "      <td>M</td>\n",
       "      <td>CA</td>\n",
       "      <td>1</td>\n",
       "      <td>Republican</td>\n",
       "      <td>4,483,814</td>\n",
       "      <td>8,753,792</td>\n",
       "      <td>7,854,285</td>\n",
       "      <td>4,839,958</td>\n",
       "    </tr>\n",
       "  </tbody>\n",
       "</table>\n",
       "</div>"
      ],
      "text/plain": [
       "    index      tweet_id     screen_name                   datetime  \\\n",
       "0  217331  1.174780e+18   RepValDemings  2019-09-19T16:10:19-04:00   \n",
       "1  258764  1.139590e+18  RepHankJohnson  2019-06-14T14:05:48-04:00   \n",
       "2   50091  1.217600e+18   RepFrenchHill  2020-01-15T19:02:21-05:00   \n",
       "3  205601  1.120440e+18    RepTedDeutch  2019-04-22T17:49:57-04:00   \n",
       "4   85993  1.167160e+18      RepLaMalfa  2019-08-29T15:43:43-04:00   \n",
       "\n",
       "                                                text name_wikipedia position  \\\n",
       "0  Thank you for testifying today Mr. Blake. http...    Val Demings      Rep   \n",
       "1  My Twitter Town Hall on healthcare has begun a...   Hank Johnson      Rep   \n",
       "2  Scipio Jones‘ fight for civil rights and equal...    French Hill      Rep   \n",
       "3  There is no better time to #ActOnClimate than ...     Ted Deutch      Rep   \n",
       "4  I understand the VA often has problems recruit...   Doug LaMalfa      Rep   \n",
       "\n",
       "  joined_congress_date   birthday gender state district_number       party  \\\n",
       "0             3-Jan-17  3/12/1957      F    FL              10    Democrat   \n",
       "1             3-Jan-07  10/2/1954      M    GA               4    Democrat   \n",
       "2             3-Jan-15  12/5/1956      M    AR               2  Republican   \n",
       "3            13-Apr-10   5/7/1966      M    FL              22    Democrat   \n",
       "4             3-Jan-13   7/2/1960      M    CA               1  Republican   \n",
       "\n",
       "  trump_2016_state_share clinton_2016_state_share obama_2012_state_share  \\\n",
       "0              4,617,886                4,504,975              4,237,756   \n",
       "1              2,089,104                1,877,963              1,773,827   \n",
       "2                684,872                  380,494                394,409   \n",
       "3              4,617,886                4,504,975              4,237,756   \n",
       "4              4,483,814                8,753,792              7,854,285   \n",
       "\n",
       "  romney_2012_state_share  \n",
       "0               4,163,447  \n",
       "1               2,078,688  \n",
       "2                 647,744  \n",
       "3               4,163,447  \n",
       "4               4,839,958  "
      ]
     },
     "execution_count": 233,
     "metadata": {},
     "output_type": "execute_result"
    }
   ],
   "source": [
    "congress_tweets = pd.read_csv(\"116th Congressional Tweets and Demographics.csv\")\n",
    "congress_tweets = congress_tweets.dropna(subset = ['text']).reset_index()\n",
    "numpy.random.seed(44)\n",
    "congress_tweets = congress_tweets.sample(frac=0.001, random_state=1)\n",
    "congress_tweets = congress_tweets.reset_index(drop = True)\n",
    "congress_tweets.head()\n",
    "# COMPLETE - fill in this line of code with a sufficient number of tweets, depending on your computational resources\n",
    "# COMPLETE congress_tweets = congress_tweets.sample(...)"
   ]
  },
  {
   "cell_type": "markdown",
   "metadata": {},
   "source": [
    "## 3. Preprocessing"
   ]
  },
  {
   "cell_type": "markdown",
   "metadata": {},
   "source": [
    "The first step in working with text data is to preprocess it. Make sure you do the following:\n",
    "\n",
    "* Remove punctuation and stop words. The `rem_punc_stop()` function we used in lab is provided to you but you should feel free to edit it as necessary for other steps\n",
    "* Remove tokens that occur frequently in tweets, but may not be helpful for downstream classification. For instance, many tweets contain a flag for retweeting, or share a URL \n",
    "\n",
    "As you search online, you might run into solutions that rely on regular expressions. You are free to use these, but you should also be able to preprocess using the techniques we covered in lab. Specifically, we encourage you to use spaCy's token attributes and string methods to do some of this text preprocessing."
   ]
  },
  {
   "cell_type": "code",
   "execution_count": 234,
   "metadata": {},
   "outputs": [],
   "source": [
    "nlp = en_core_web_sm.load()"
   ]
  },
  {
   "cell_type": "code",
   "execution_count": 235,
   "metadata": {},
   "outputs": [],
   "source": [
    "def remove_emojis(string):\n",
    "    emoji_pattern = re.compile(\n",
    "        \"[\"\n",
    "        u\"\\U0001F600-\\U0001F64F\" #emoticons  \n",
    "        u\"\\U0001F300-\\U0001F5FF\" #symbols & pictographs \n",
    "        u\"\\U0001F680-\\U0001F6FF\" #transport & map symbols\n",
    "        u\"\\U0001F1E0-\\U0001F1FF\" #flags(iOS)\n",
    "        u\"\\U00002702-\\U000027B0\"\n",
    "        u\"\\U000024C2-\\U0001F251\"   \n",
    "        \"]+\", \n",
    "        flags=re.UNICODE,)\n",
    "    return emoji_pattern.sub(r\"\", string)"
   ]
  },
  {
   "cell_type": "code",
   "execution_count": 236,
   "metadata": {},
   "outputs": [],
   "source": [
    "congress_tweets['text_deEmojify'] = congress_tweets['text'].map(lambda x: remove_emojis(x))"
   ]
  },
  {
   "cell_type": "code",
   "execution_count": 237,
   "metadata": {},
   "outputs": [
    {
     "name": "stdout",
     "output_type": "stream",
     "text": [
      "RT @Johnson4Dallas This is the most accurate description of the current City of Dallas budget debate (and surrounding noise) that I have read thus far. Kudos to the author for helping to arm the residents of Dallas with actual facts instead of useless political gossip. https://texasscorecard.com/commentary/montoya-citizens-matter-not-city-hall-brawls/\n"
     ]
    }
   ],
   "source": [
    "print(congress_tweets.iloc[5]['text_deEmojify']) #checking to see if emojis were removed"
   ]
  },
  {
   "cell_type": "code",
   "execution_count": 238,
   "metadata": {},
   "outputs": [],
   "source": [
    "#Removing new line\n",
    "congress_tweets[\"text_deEmojify\"] = congress_tweets[\"text_deEmojify\"].str.replace('\\n','')\n",
    "#Removing New Line Breaks\n",
    "congress_tweets[\"text_deEmojify\"] = congress_tweets[\"text_deEmojify\"].str.replace('•','')"
   ]
  },
  {
   "cell_type": "code",
   "execution_count": 239,
   "metadata": {},
   "outputs": [],
   "source": [
    "def rem_punc_stop(text):\n",
    "    stop_words = STOP_WORDS\n",
    "    nlp.Defaults.stop_words |= {\"amp\", \"RT\", \"today\", \"rt\", \"Today\"}\n",
    "    punc = set(punctuation)\n",
    "    \n",
    "    punc_free = \"\".join([ch for ch in text if ch not in punc])\n",
    "    \n",
    "    doc = nlp(punc_free)\n",
    "    \n",
    "    spacy_words = [token.text for token in doc]\n",
    "    \n",
    "    spacy_words = [word for word in spacy_words if not word.startswith('http')]\n",
    "    \n",
    "    no_punc = [word for word in spacy_words if word not in stop_words]\n",
    "    \n",
    "    return no_punc"
   ]
  },
  {
   "cell_type": "code",
   "execution_count": 240,
   "metadata": {
    "scrolled": true
   },
   "outputs": [
    {
     "data": {
      "text/plain": [
       "0      [Thank, testifying, Mr, Blake, QT, JRBlake, Re...\n",
       "1      [My, Twitter, Town, Hall, healthcare, begun, I...\n",
       "2      [Scipio, Jones, ‘, fight, civil, rights, equal...\n",
       "3      [There, better, time, ActOnClimate, EarthDay, ...\n",
       "4      [I, understand, VA, problems, recruiting, qual...\n",
       "                             ...                        \n",
       "942    [Thank, air, traffic, controllers, flight, att...\n",
       "943    [LawrenceGenHosp, new, coronavirus, community,...\n",
       "944    [senatemajldr, If, House, musters, courage, st...\n",
       "945    [It, important, support, policies, promote, pu...\n",
       "946    [davidmgoodwin, CDCgov, It, argument, giving, ...\n",
       "Name: tokens, Length: 947, dtype: object"
      ]
     },
     "execution_count": 240,
     "metadata": {},
     "output_type": "execute_result"
    }
   ],
   "source": [
    "congress_tweets['tokens'] = congress_tweets['text_deEmojify'].map(lambda x: rem_punc_stop(x))\n",
    "congress_tweets['tokens']"
   ]
  },
  {
   "cell_type": "code",
   "execution_count": 241,
   "metadata": {},
   "outputs": [],
   "source": [
    "#first convert to string from object\n",
    "congress_tweets['percent_trump_16'] = congress_tweets.trump_2016_state_share.astype(str)\n",
    "congress_tweets['percent_clinton_16'] = congress_tweets.clinton_2016_state_share.astype(str)\n",
    "congress_tweets['percent_obama_12'] = congress_tweets.obama_2012_state_share.astype(str)\n",
    "congress_tweets['percent_romney_12'] = congress_tweets.romney_2012_state_share.astype(str)"
   ]
  },
  {
   "cell_type": "code",
   "execution_count": 242,
   "metadata": {},
   "outputs": [],
   "source": [
    "##move commas and conver to float\n",
    "def decommify(s):\n",
    "    return float(\"\".join([ch for ch in s if ch != ',']))\n",
    "#Now run through, remove strings and return floats\n",
    "congress_tweets['percent_trump16'] = congress_tweets['percent_trump_16'].apply(decommify)\n",
    "congress_tweets['percent_clinton16'] = congress_tweets['percent_clinton_16'].apply(decommify)\n",
    "congress_tweets['percent_obama12'] = congress_tweets['percent_obama_12'].apply(decommify)\n",
    "congress_tweets['percent_romney12'] = congress_tweets['percent_romney_12'].apply(decommify)"
   ]
  },
  {
   "cell_type": "code",
   "execution_count": 243,
   "metadata": {},
   "outputs": [
    {
     "data": {
      "text/plain": [
       "0      4617886.0\n",
       "1      2089104.0\n",
       "2       684872.0\n",
       "3      4617886.0\n",
       "4      4483814.0\n",
       "         ...    \n",
       "942      95369.0\n",
       "943    1090893.0\n",
       "944    1202971.0\n",
       "945    4483814.0\n",
       "946    1202971.0\n",
       "Name: percent_trump16, Length: 947, dtype: float64"
      ]
     },
     "execution_count": 243,
     "metadata": {},
     "output_type": "execute_result"
    }
   ],
   "source": [
    "congress_tweets.percent_trump16"
   ]
  },
  {
   "cell_type": "code",
   "execution_count": 244,
   "metadata": {},
   "outputs": [],
   "source": [
    "#then convert to percentages \n",
    "congress_tweets['percent_trump16'] = congress_tweets['percent_trump16'].div(62980000)\n",
    "congress_tweets['percent_clinton16'] = congress_tweets['percent_clinton16'].div(65840000)\n",
    "congress_tweets['percent_obama12'] = congress_tweets['percent_clinton16'].div(65915795)\n",
    "congress_tweets['percent_romney12'] = congress_tweets['percent_romney12'].div(60933504)\n",
    "\n",
    "#Preprocess the raw vote counts/share of state to percentages. Need to dealing with missing values, \n",
    "#then sum each year, followed by calculating percentage. I think we want to have \n",
    "#separate columns for  percent_trump_2016, percent_clinton_2016, percent_obama_2012, and percent_romney_2012"
   ]
  },
  {
   "cell_type": "markdown",
   "metadata": {},
   "source": [
    "congress_tweets.percent_trump_16"
   ]
  },
  {
   "cell_type": "code",
   "execution_count": 227,
   "metadata": {},
   "outputs": [],
   "source": [
    "##figuring out how to remove spanish words \n",
    "words = set(nltk.corpus.words.words())\n",
    "#text_deEmojify = congress_tweets['text_deEmojify']\n",
    "# sent = text_deE\n",
    "# \"\".join(w for w in nltk.wordpunct_tokenize(sent) \\\n",
    "#          if w.lower() in words or not w.isalpha())\n",
    "def remsp(sent):\n",
    "    return \" \".join(w for w in nltk.wordpunct_tokenize(sent) \\\n",
    "         if w.lower() in words or not w.isalpha())\n",
    "\n",
    "congress_tweets['text_deEmojify'] = congress_tweets['text_deEmojify'].apply(remsp)"
   ]
  },
  {
   "cell_type": "code",
   "execution_count": 231,
   "metadata": {},
   "outputs": [
    {
     "data": {
      "text/plain": [
       "0      Thankyoufortoday.Blake.://twitter.//status/117...\n",
       "1      MyTwitterTownHallonbegunandI'myourlive.Pleaseh...\n",
       "2      ‘fightforcivilandequalityisanimportantpartof’s...\n",
       "3      Thereisnobettertimeto#than#.Weallhavearoletopl...\n",
       "4      Iunderstandtheoftenrecruitingqualified,andI'mw...\n",
       "                             ...                        \n",
       "942    Thankyouairtraffic,flight,federalandcontractfo...\n",
       "943    .@twonew#communityscreeningavailable.Youcancal...\n",
       "944    @IftheHouseeverthecouragetostandbehindtheirsla...\n",
       "945    Itneverbeenmoreimportanttosupportthatpromotepu...\n",
       "946    @david_m_goodwin@It’sanargumentfornotgivingthe...\n",
       "Name: text_deEmojify, Length: 947, dtype: object"
      ]
     },
     "execution_count": 231,
     "metadata": {},
     "output_type": "execute_result"
    }
   ],
   "source": [
    "congress_tweets.text_deEmojify"
   ]
  },
  {
   "cell_type": "markdown",
   "metadata": {},
   "source": [
    "## 4. Exploratory Data Analysis"
   ]
  },
  {
   "cell_type": "markdown",
   "metadata": {},
   "source": [
    "Use two of the techniques we covered in lab (or other techniques outside of lab!) to explore the text of the tweets. You should construct these visualizations with an eye toward the eventual classification tasks: (1) predicting the legislator's political party based on the text of their tweet, and (2) predicting whether the legislator is a Senator or Representative. As a reminder, in lab we covered word frequencies, word clouds, word/character counts, scattertext, and topic modeling as possible exploration tools. "
   ]
  },
  {
   "cell_type": "code",
   "execution_count": 14,
   "metadata": {},
   "outputs": [
    {
     "data": {
      "text/plain": [
       "Democrat       601\n",
       "Republican     343\n",
       "Independent      3\n",
       "Name: party, dtype: int64"
      ]
     },
     "execution_count": 14,
     "metadata": {},
     "output_type": "execute_result"
    }
   ],
   "source": [
    "congress_tweets['party'].value_counts()"
   ]
  },
  {
   "cell_type": "markdown",
   "metadata": {},
   "source": [
    "### EDA 1: Word Cloud"
   ]
  },
  {
   "cell_type": "code",
   "execution_count": 15,
   "metadata": {},
   "outputs": [
    {
     "data": {
      "image/png": "[encoded data removed]",
      "text/plain": [
       "<Figure size 432x288 with 1 Axes>"
      ]
     },
     "metadata": {
      "needs_background": "light"
     },
     "output_type": "display_data"
    }
   ],
   "source": [
    "text = ' '.join(congress_tweets['tokens'].map(lambda text: ' '.join(text)))\n",
    "wordcloud = WordCloud().generate(text)\n",
    "plt.imshow(wordcloud, interpolation = 'bilinear')\n",
    "plt.axis('off')\n",
    "plt.show()"
   ]
  },
  {
   "cell_type": "code",
   "execution_count": 16,
   "metadata": {},
   "outputs": [
    {
     "data": {
      "text/plain": [
       "0      Thank testifying Mr Blake QT JRBlake RepValDem...\n",
       "1      My Twitter Town Hall healthcare begun I m answ...\n",
       "2      Scipio Jones ‘ fight civil rights equality imp...\n",
       "3      There better time ActOnClimate EarthDay We rol...\n",
       "4      I understand VA problems recruiting qualified ...\n",
       "                             ...                        \n",
       "942    Thank air traffic controllers flight attendant...\n",
       "943    LawrenceGenHosp new coronavirus community scre...\n",
       "944    senatemajldr If House musters courage stand sl...\n",
       "945    It important support policies promote public h...\n",
       "946    davidmgoodwin CDCgov It argument giving medica...\n",
       "Name: tokens, Length: 947, dtype: object"
      ]
     },
     "execution_count": 16,
     "metadata": {},
     "output_type": "execute_result"
    }
   ],
   "source": [
    "congress_tweets['tokens'] = congress_tweets['tokens'].map(lambda text: ' '.join(text))\n",
    "congress_tweets['tokens']"
   ]
  },
  {
   "cell_type": "code",
   "execution_count": 17,
   "metadata": {},
   "outputs": [
    {
     "name": "stderr",
     "output_type": "stream",
     "text": [
      "/Users/joseaveldanes/.local/lib/python3.8/site-packages/sklearn/feature_extraction/text.py:383: UserWarning: Your stop_words may be inconsistent with your preprocessing. Tokenizing the stop words generated tokens ['ll', 've'] not in stop_words.\n",
      "  warnings.warn('Your stop_words may be inconsistent with '\n"
     ]
    },
    {
     "data": {
      "image/png": "[encoded data removed]",
      "text/plain": [
       "<Figure size 432x288 with 1 Axes>"
      ]
     },
     "metadata": {
      "needs_background": "light"
     },
     "output_type": "display_data"
    }
   ],
   "source": [
    "countvec = CountVectorizer(stop_words=STOP_WORDS, ngram_range=(2,2))\n",
    "ngrams = countvec.fit_transform(congress_tweets['tokens'])\n",
    "\n",
    "dictionary_dataframe = pd.DataFrame(ngrams.todense(), columns = countvec.get_feature_names())\n",
    "\n",
    "df_ngram = pd.DataFrame(dictionary_dataframe.sum().reset_index()).rename(columns={'index': 'ngrams', 0:'freq'})\n",
    "df_ngram = df_ngram.sort_values(by = ['freq'], ascending = False).reset_index(drop = True)\n",
    "df_ngram.head()\n",
    "\n",
    "sns.barplot(x=\"ngrams\", y = 'freq', data=df_ngram[0:25])\n",
    "plt.xticks(rotation=90)\n",
    "plt.show()\n"
   ]
  },
  {
   "cell_type": "markdown",
   "metadata": {},
   "source": [
    "### EDA 2: Length and Word Count"
   ]
  },
  {
   "cell_type": "code",
   "execution_count": 18,
   "metadata": {},
   "outputs": [],
   "source": [
    "congress_tweets['tweet_len'] = congress_tweets['tokens'].apply(len)\n",
    "congress_tweets['word_count'] = congress_tweets['tokens'].apply(lambda x: len(str(x).split()))"
   ]
  },
  {
   "cell_type": "code",
   "execution_count": 19,
   "metadata": {},
   "outputs": [
    {
     "data": {
      "image/png": "[encoded data removed]",
      "text/plain": [
       "<Figure size 360x360 with 1 Axes>"
      ]
     },
     "metadata": {
      "needs_background": "light"
     },
     "output_type": "display_data"
    }
   ],
   "source": [
    "sns.displot(congress_tweets, x=\"tweet_len\")\n",
    "plt.show()"
   ]
  },
  {
   "cell_type": "code",
   "execution_count": 20,
   "metadata": {},
   "outputs": [
    {
     "data": {
      "image/png": "[encoded data removed]",
      "text/plain": [
       "<Figure size 360x360 with 1 Axes>"
      ]
     },
     "metadata": {
      "needs_background": "light"
     },
     "output_type": "display_data"
    }
   ],
   "source": [
    "sns.displot(congress_tweets, x=\"word_count\")\n",
    "plt.show()"
   ]
  },
  {
   "cell_type": "code",
   "execution_count": 21,
   "metadata": {
    "scrolled": true
   },
   "outputs": [
    {
     "data": {
      "image/png": "[encoded data removed]",
      "text/plain": [
       "<Figure size 1179.25x360 with 3 Axes>"
      ]
     },
     "metadata": {
      "needs_background": "light"
     },
     "output_type": "display_data"
    }
   ],
   "source": [
    "sns.displot(congress_tweets, x=\"word_count\", hue = \"party\", col = \"party\")\n",
    "plt.show()"
   ]
  },
  {
   "cell_type": "markdown",
   "metadata": {},
   "source": [
    "### Topic Modeling"
   ]
  },
  {
   "cell_type": "code",
   "execution_count": 22,
   "metadata": {},
   "outputs": [],
   "source": [
    "X = congress_tweets['tokens']\n",
    "tf = TfidfVectorizer(tokenizer = rem_punc_stop)\n",
    "\n",
    "tfidf_matrix =  tf.fit_transform(X)\n",
    "dense_matrix = tfidf_matrix.todense()"
   ]
  },
  {
   "cell_type": "code",
   "execution_count": 23,
   "metadata": {},
   "outputs": [],
   "source": [
    "lda = LatentDirichletAllocation(n_components=5, max_iter=20, random_state=0)\n",
    "lda = lda.fit(dense_matrix)"
   ]
  },
  {
   "cell_type": "code",
   "execution_count": 24,
   "metadata": {},
   "outputs": [],
   "source": [
    "def print_top_words(model, feature_names, n_top_words):\n",
    "    for topic_idx, topic in enumerate(model.components_):\n",
    "        print(\"\\nTopic #{}:\".format(topic_idx))\n",
    "        print(\" \".join([feature_names[i]\n",
    "                        for i in topic.argsort()[:-n_top_words - 1:-1]]))\n",
    "    print()"
   ]
  },
  {
   "cell_type": "code",
   "execution_count": 25,
   "metadata": {},
   "outputs": [
    {
     "name": "stdout",
     "output_type": "stream",
     "text": [
      "\n",
      "Topic #0:\n",
      "need help    people house health country american legislation water work qt families new bill trump thank president proud federal\n",
      "\n",
      "Topic #1:\n",
      "work    time qt house americans families trump people thank — need members “ fill live health public week ”\n",
      "\n",
      "Topic #2:\n",
      "   covid19 trump president new qt continue people tax congress protect work workers time security de american – realdonaldtrump need\n",
      "\n",
      "Topic #3:\n",
      "act care    local president american crisis bill new health states immigration bipartisan legislation join qt senate ” communities work\n",
      "\n",
      "Topic #4:\n",
      "   community help thank trump covid19 happy read day new coronavirus house qt    senate act funding visit passed nt\n",
      "\n"
     ]
    }
   ],
   "source": [
    "tf_feature_names = tf.get_feature_names()\n",
    "print_top_words(lda, tf_feature_names, 20)"
   ]
  },
  {
   "cell_type": "code",
   "execution_count": 26,
   "metadata": {},
   "outputs": [
    {
     "data": {
      "text/plain": [
       "array([[0.03879515, 0.03873616, 0.84477148, 0.03888735, 0.03880986],\n",
       "       [0.04653062, 0.04660462, 0.04657066, 0.81307375, 0.04722035],\n",
       "       [0.03579373, 0.03556939, 0.03543182, 0.0357594 , 0.85744567],\n",
       "       ...,\n",
       "       [0.04048231, 0.83764868, 0.04055403, 0.04061872, 0.04069626],\n",
       "       [0.04114453, 0.83508547, 0.0418992 , 0.04105194, 0.04081885],\n",
       "       [0.85297731, 0.036546  , 0.03721208, 0.03677962, 0.03648498]])"
      ]
     },
     "execution_count": 26,
     "metadata": {},
     "output_type": "execute_result"
    }
   ],
   "source": [
    "topic_dist = lda.transform(tfidf_matrix)\n",
    "topic_dist"
   ]
  },
  {
   "cell_type": "code",
   "execution_count": 27,
   "metadata": {},
   "outputs": [
    {
     "data": {
      "text/html": [
       "<div>\n",
       "<style scoped>\n",
       "    .dataframe tbody tr th:only-of-type {\n",
       "        vertical-align: middle;\n",
       "    }\n",
       "\n",
       "    .dataframe tbody tr th {\n",
       "        vertical-align: top;\n",
       "    }\n",
       "\n",
       "    .dataframe thead th {\n",
       "        text-align: right;\n",
       "    }\n",
       "</style>\n",
       "<table border=\"1\" class=\"dataframe\">\n",
       "  <thead>\n",
       "    <tr style=\"text-align: right;\">\n",
       "      <th></th>\n",
       "      <th>0</th>\n",
       "      <th>1</th>\n",
       "      <th>2</th>\n",
       "      <th>3</th>\n",
       "      <th>4</th>\n",
       "      <th>level_0</th>\n",
       "      <th>index</th>\n",
       "      <th>tweet_id</th>\n",
       "      <th>screen_name</th>\n",
       "      <th>datetime</th>\n",
       "      <th>...</th>\n",
       "      <th>district_number</th>\n",
       "      <th>party</th>\n",
       "      <th>trump_2016_state_share</th>\n",
       "      <th>clinton_2016_state_share</th>\n",
       "      <th>obama_2012_state_share</th>\n",
       "      <th>romney_2012_state_share</th>\n",
       "      <th>text_deEmojify</th>\n",
       "      <th>tokens</th>\n",
       "      <th>tweet_len</th>\n",
       "      <th>word_count</th>\n",
       "    </tr>\n",
       "  </thead>\n",
       "  <tbody>\n",
       "    <tr>\n",
       "      <th>0</th>\n",
       "      <td>0.038795</td>\n",
       "      <td>0.038736</td>\n",
       "      <td>0.844771</td>\n",
       "      <td>0.038887</td>\n",
       "      <td>0.038810</td>\n",
       "      <td>0</td>\n",
       "      <td>217331</td>\n",
       "      <td>1.174780e+18</td>\n",
       "      <td>RepValDemings</td>\n",
       "      <td>2019-09-19T16:10:19-04:00</td>\n",
       "      <td>...</td>\n",
       "      <td>10</td>\n",
       "      <td>Democrat</td>\n",
       "      <td>4,617,886</td>\n",
       "      <td>4,504,975</td>\n",
       "      <td>4,237,756</td>\n",
       "      <td>4,163,447</td>\n",
       "      <td>Thank you for testifying today Mr. Blake. http...</td>\n",
       "      <td>Thank testifying Mr Blake QT JRBlake RepValDem...</td>\n",
       "      <td>135</td>\n",
       "      <td>19</td>\n",
       "    </tr>\n",
       "    <tr>\n",
       "      <th>1</th>\n",
       "      <td>0.046531</td>\n",
       "      <td>0.046605</td>\n",
       "      <td>0.046571</td>\n",
       "      <td>0.813074</td>\n",
       "      <td>0.047220</td>\n",
       "      <td>1</td>\n",
       "      <td>258764</td>\n",
       "      <td>1.139590e+18</td>\n",
       "      <td>RepHankJohnson</td>\n",
       "      <td>2019-06-14T14:05:48-04:00</td>\n",
       "      <td>...</td>\n",
       "      <td>4</td>\n",
       "      <td>Democrat</td>\n",
       "      <td>2,089,104</td>\n",
       "      <td>1,877,963</td>\n",
       "      <td>1,773,827</td>\n",
       "      <td>2,078,688</td>\n",
       "      <td>My Twitter Town Hall on healthcare has begun a...</td>\n",
       "      <td>My Twitter Town Hall healthcare begun I m answ...</td>\n",
       "      <td>87</td>\n",
       "      <td>15</td>\n",
       "    </tr>\n",
       "    <tr>\n",
       "      <th>2</th>\n",
       "      <td>0.035794</td>\n",
       "      <td>0.035569</td>\n",
       "      <td>0.035432</td>\n",
       "      <td>0.035759</td>\n",
       "      <td>0.857446</td>\n",
       "      <td>2</td>\n",
       "      <td>50091</td>\n",
       "      <td>1.217600e+18</td>\n",
       "      <td>RepFrenchHill</td>\n",
       "      <td>2020-01-15T19:02:21-05:00</td>\n",
       "      <td>...</td>\n",
       "      <td>2</td>\n",
       "      <td>Republican</td>\n",
       "      <td>684,872</td>\n",
       "      <td>380,494</td>\n",
       "      <td>394,409</td>\n",
       "      <td>647,744</td>\n",
       "      <td>Scipio Jones‘ fight for civil rights and equal...</td>\n",
       "      <td>Scipio Jones ‘ fight civil rights equality imp...</td>\n",
       "      <td>167</td>\n",
       "      <td>24</td>\n",
       "    </tr>\n",
       "    <tr>\n",
       "      <th>3</th>\n",
       "      <td>0.047729</td>\n",
       "      <td>0.047400</td>\n",
       "      <td>0.810332</td>\n",
       "      <td>0.047250</td>\n",
       "      <td>0.047288</td>\n",
       "      <td>3</td>\n",
       "      <td>205601</td>\n",
       "      <td>1.120440e+18</td>\n",
       "      <td>RepTedDeutch</td>\n",
       "      <td>2019-04-22T17:49:57-04:00</td>\n",
       "      <td>...</td>\n",
       "      <td>22</td>\n",
       "      <td>Democrat</td>\n",
       "      <td>4,617,886</td>\n",
       "      <td>4,504,975</td>\n",
       "      <td>4,237,756</td>\n",
       "      <td>4,163,447</td>\n",
       "      <td>There is no better time to #ActOnClimate than ...</td>\n",
       "      <td>There better time ActOnClimate EarthDay We rol...</td>\n",
       "      <td>105</td>\n",
       "      <td>14</td>\n",
       "    </tr>\n",
       "    <tr>\n",
       "      <th>4</th>\n",
       "      <td>0.041667</td>\n",
       "      <td>0.042028</td>\n",
       "      <td>0.041524</td>\n",
       "      <td>0.833116</td>\n",
       "      <td>0.041665</td>\n",
       "      <td>4</td>\n",
       "      <td>85993</td>\n",
       "      <td>1.167160e+18</td>\n",
       "      <td>RepLaMalfa</td>\n",
       "      <td>2019-08-29T15:43:43-04:00</td>\n",
       "      <td>...</td>\n",
       "      <td>1</td>\n",
       "      <td>Republican</td>\n",
       "      <td>4,483,814</td>\n",
       "      <td>8,753,792</td>\n",
       "      <td>7,854,285</td>\n",
       "      <td>4,839,958</td>\n",
       "      <td>I understand the VA often has problems recruit...</td>\n",
       "      <td>I understand VA problems recruiting qualified ...</td>\n",
       "      <td>138</td>\n",
       "      <td>19</td>\n",
       "    </tr>\n",
       "  </tbody>\n",
       "</table>\n",
       "<p>5 rows × 27 columns</p>\n",
       "</div>"
      ],
      "text/plain": [
       "          0         1         2         3         4  level_0   index  \\\n",
       "0  0.038795  0.038736  0.844771  0.038887  0.038810        0  217331   \n",
       "1  0.046531  0.046605  0.046571  0.813074  0.047220        1  258764   \n",
       "2  0.035794  0.035569  0.035432  0.035759  0.857446        2   50091   \n",
       "3  0.047729  0.047400  0.810332  0.047250  0.047288        3  205601   \n",
       "4  0.041667  0.042028  0.041524  0.833116  0.041665        4   85993   \n",
       "\n",
       "       tweet_id     screen_name                   datetime  ...  \\\n",
       "0  1.174780e+18   RepValDemings  2019-09-19T16:10:19-04:00  ...   \n",
       "1  1.139590e+18  RepHankJohnson  2019-06-14T14:05:48-04:00  ...   \n",
       "2  1.217600e+18   RepFrenchHill  2020-01-15T19:02:21-05:00  ...   \n",
       "3  1.120440e+18    RepTedDeutch  2019-04-22T17:49:57-04:00  ...   \n",
       "4  1.167160e+18      RepLaMalfa  2019-08-29T15:43:43-04:00  ...   \n",
       "\n",
       "  district_number       party trump_2016_state_share clinton_2016_state_share  \\\n",
       "0              10    Democrat              4,617,886                4,504,975   \n",
       "1               4    Democrat              2,089,104                1,877,963   \n",
       "2               2  Republican                684,872                  380,494   \n",
       "3              22    Democrat              4,617,886                4,504,975   \n",
       "4               1  Republican              4,483,814                8,753,792   \n",
       "\n",
       "  obama_2012_state_share romney_2012_state_share  \\\n",
       "0              4,237,756               4,163,447   \n",
       "1              1,773,827               2,078,688   \n",
       "2                394,409                 647,744   \n",
       "3              4,237,756               4,163,447   \n",
       "4              7,854,285               4,839,958   \n",
       "\n",
       "                                      text_deEmojify  \\\n",
       "0  Thank you for testifying today Mr. Blake. http...   \n",
       "1  My Twitter Town Hall on healthcare has begun a...   \n",
       "2  Scipio Jones‘ fight for civil rights and equal...   \n",
       "3  There is no better time to #ActOnClimate than ...   \n",
       "4  I understand the VA often has problems recruit...   \n",
       "\n",
       "                                              tokens tweet_len word_count  \n",
       "0  Thank testifying Mr Blake QT JRBlake RepValDem...       135         19  \n",
       "1  My Twitter Town Hall healthcare begun I m answ...        87         15  \n",
       "2  Scipio Jones ‘ fight civil rights equality imp...       167         24  \n",
       "3  There better time ActOnClimate EarthDay We rol...       105         14  \n",
       "4  I understand VA problems recruiting qualified ...       138         19  \n",
       "\n",
       "[5 rows x 27 columns]"
      ]
     },
     "execution_count": 27,
     "metadata": {},
     "output_type": "execute_result"
    }
   ],
   "source": [
    "topic_dist_df = pd.DataFrame(topic_dist)\n",
    "df_w_topics = topic_dist_df.join(congress_tweets.reset_index())\n",
    "df_w_topics.head()"
   ]
  },
  {
   "cell_type": "code",
   "execution_count": 28,
   "metadata": {},
   "outputs": [
    {
     "name": "stdout",
     "output_type": "stream",
     "text": [
      "party\n",
      "Independent    0.307087\n",
      "Democrat       0.223262\n",
      "Republican     0.204746\n",
      "Name: 0, dtype: float64\n",
      "party\n",
      "Independent    0.584746\n",
      "Republican     0.192466\n",
      "Democrat       0.185910\n",
      "Name: 1, dtype: float64\n",
      "party\n",
      "Republican     0.209667\n",
      "Democrat       0.192422\n",
      "Independent    0.036031\n",
      "Name: 2, dtype: float64\n",
      "party\n",
      "Democrat       0.184513\n",
      "Republican     0.159293\n",
      "Independent    0.035920\n",
      "Name: 3, dtype: float64\n",
      "party\n",
      "Republican     0.233828\n",
      "Democrat       0.213893\n",
      "Independent    0.036216\n",
      "Name: 4, dtype: float64\n"
     ]
    }
   ],
   "source": [
    "grouped = df_w_topics.groupby('party')\n",
    "for i in range(0, 5):\n",
    "    print(grouped[i].mean().sort_values(ascending=False))"
   ]
  },
  {
   "cell_type": "code",
   "execution_count": 29,
   "metadata": {
    "scrolled": true
   },
   "outputs": [
    {
     "data": {
      "image/png": "[encoded data removed]",
      "text/plain": [
       "<Figure size 459.25x360 with 1 Axes>"
      ]
     },
     "metadata": {
      "needs_background": "light"
     },
     "output_type": "display_data"
    }
   ],
   "source": [
    "sns.displot(df_w_topics, x=df_w_topics[3], hue = \"party\", kind = 'kde', fill = 'true')\n",
    "plt.show()"
   ]
  },
  {
   "cell_type": "code",
   "execution_count": 30,
   "metadata": {},
   "outputs": [
    {
     "data": {
      "image/png": "[encoded data removed]",
      "text/plain": [
       "<Figure size 459.25x360 with 1 Axes>"
      ]
     },
     "metadata": {
      "needs_background": "light"
     },
     "output_type": "display_data"
    }
   ],
   "source": [
    "sns.displot(df_w_topics, x=df_w_topics[4], hue = \"party\", kind = 'kde', fill = 'true')\n",
    "plt.show()"
   ]
  },
  {
   "cell_type": "markdown",
   "metadata": {},
   "source": [
    "## 5. Sentiment Analysis"
   ]
  },
  {
   "cell_type": "markdown",
   "metadata": {},
   "source": [
    "Next, let's analyze the sentiments contained within the tweets. You may use TextBlob or another library for these tasks. Do the following:\n",
    "\n",
    "* Choose two legislators, one who you think will be more liberal and one who you think will be more conservative, and analyze their sentiment and/or subjectivity scores per tweet. For instance, you might do two scatterplots that plot each legislator's sentiment against their subjectivity, or two density plots for their sentiments. Do the scores match what you thought?\n",
    "* Plot two more visualizations like the ones you chose in the first part, but do them to compare (1) Democrats v. Republicans and (2) Senators v. Representatives \n",
    "\n",
    "`TextBlob` has already been imported in the top cell."
   ]
  },
  {
   "cell_type": "markdown",
   "metadata": {},
   "source": [
    "### 5.1: Tammy Duckworth (D-IL) vs. Ted Cruz (R-TX)"
   ]
  },
  {
   "cell_type": "code",
   "execution_count": 31,
   "metadata": {},
   "outputs": [
    {
     "data": {
      "text/html": [
       "<div>\n",
       "<style scoped>\n",
       "    .dataframe tbody tr th:only-of-type {\n",
       "        vertical-align: middle;\n",
       "    }\n",
       "\n",
       "    .dataframe tbody tr th {\n",
       "        vertical-align: top;\n",
       "    }\n",
       "\n",
       "    .dataframe thead th {\n",
       "        text-align: right;\n",
       "    }\n",
       "</style>\n",
       "<table border=\"1\" class=\"dataframe\">\n",
       "  <thead>\n",
       "    <tr style=\"text-align: right;\">\n",
       "      <th></th>\n",
       "      <th>index</th>\n",
       "      <th>tweet_id</th>\n",
       "      <th>screen_name</th>\n",
       "      <th>datetime</th>\n",
       "      <th>text</th>\n",
       "      <th>name_wikipedia</th>\n",
       "      <th>position</th>\n",
       "      <th>joined_congress_date</th>\n",
       "      <th>birthday</th>\n",
       "      <th>gender</th>\n",
       "      <th>...</th>\n",
       "      <th>trump_2016_state_share</th>\n",
       "      <th>clinton_2016_state_share</th>\n",
       "      <th>obama_2012_state_share</th>\n",
       "      <th>romney_2012_state_share</th>\n",
       "      <th>text_deEmojify</th>\n",
       "      <th>tokens</th>\n",
       "      <th>tweet_len</th>\n",
       "      <th>word_count</th>\n",
       "      <th>polarity</th>\n",
       "      <th>subjectivity</th>\n",
       "    </tr>\n",
       "  </thead>\n",
       "  <tbody>\n",
       "    <tr>\n",
       "      <th>57</th>\n",
       "      <td>820487</td>\n",
       "      <td>1.279160e+18</td>\n",
       "      <td>SenTedCruz</td>\n",
       "      <td>2020-07-03T17:11:55-04:00</td>\n",
       "      <td>This weekend, we celebrate the birth of our na...</td>\n",
       "      <td>Ted Cruz</td>\n",
       "      <td>Sen</td>\n",
       "      <td>3-Jan-13</td>\n",
       "      <td>12/22/1970</td>\n",
       "      <td>M</td>\n",
       "      <td>...</td>\n",
       "      <td>4,685,047</td>\n",
       "      <td>3,877,868</td>\n",
       "      <td>3,308,124</td>\n",
       "      <td>4,569,843</td>\n",
       "      <td>This weekend, we celebrate the birth of our na...</td>\n",
       "      <td>This weekend celebrate birth nation gift indep...</td>\n",
       "      <td>153</td>\n",
       "      <td>20</td>\n",
       "      <td>0.000000</td>\n",
       "      <td>0.000000</td>\n",
       "    </tr>\n",
       "    <tr>\n",
       "      <th>238</th>\n",
       "      <td>811947</td>\n",
       "      <td>1.256300e+18</td>\n",
       "      <td>SenTedCruz</td>\n",
       "      <td>2020-05-01T15:29:55-04:00</td>\n",
       "      <td>RT @EricTrump Challenge accepted @SeanHannity!...</td>\n",
       "      <td>Ted Cruz</td>\n",
       "      <td>Sen</td>\n",
       "      <td>3-Jan-13</td>\n",
       "      <td>12/22/1970</td>\n",
       "      <td>M</td>\n",
       "      <td>...</td>\n",
       "      <td>4,685,047</td>\n",
       "      <td>3,877,868</td>\n",
       "      <td>3,308,124</td>\n",
       "      <td>4,569,843</td>\n",
       "      <td>RT @EricTrump Challenge accepted @SeanHannity!...</td>\n",
       "      <td>EricTrump Challenge accepted SeanHannity Along...</td>\n",
       "      <td>412</td>\n",
       "      <td>54</td>\n",
       "      <td>0.500000</td>\n",
       "      <td>0.600000</td>\n",
       "    </tr>\n",
       "    <tr>\n",
       "      <th>705</th>\n",
       "      <td>797929</td>\n",
       "      <td>1.220850e+18</td>\n",
       "      <td>SenTedCruz</td>\n",
       "      <td>2020-01-24T18:29:25-05:00</td>\n",
       "      <td>My thoughts &amp;amp; prayers are with the familie...</td>\n",
       "      <td>Ted Cruz</td>\n",
       "      <td>Sen</td>\n",
       "      <td>3-Jan-13</td>\n",
       "      <td>12/22/1970</td>\n",
       "      <td>M</td>\n",
       "      <td>...</td>\n",
       "      <td>4,685,047</td>\n",
       "      <td>3,877,868</td>\n",
       "      <td>3,308,124</td>\n",
       "      <td>4,569,843</td>\n",
       "      <td>My thoughts &amp;amp; prayers are with the familie...</td>\n",
       "      <td>My thoughts prayers families 2 Houstonians liv...</td>\n",
       "      <td>406</td>\n",
       "      <td>47</td>\n",
       "      <td>-0.059524</td>\n",
       "      <td>0.238095</td>\n",
       "    </tr>\n",
       "    <tr>\n",
       "      <th>755</th>\n",
       "      <td>787860</td>\n",
       "      <td>1.187810e+18</td>\n",
       "      <td>SenTedCruz</td>\n",
       "      <td>2019-10-25T15:26:23-04:00</td>\n",
       "      <td>It’s time for Congress and the American people...</td>\n",
       "      <td>Ted Cruz</td>\n",
       "      <td>Sen</td>\n",
       "      <td>3-Jan-13</td>\n",
       "      <td>12/22/1970</td>\n",
       "      <td>M</td>\n",
       "      <td>...</td>\n",
       "      <td>4,685,047</td>\n",
       "      <td>3,877,868</td>\n",
       "      <td>3,308,124</td>\n",
       "      <td>4,569,843</td>\n",
       "      <td>It’s time for Congress and the American people...</td>\n",
       "      <td>It time Congress American people hear directly...</td>\n",
       "      <td>160</td>\n",
       "      <td>25</td>\n",
       "      <td>0.150000</td>\n",
       "      <td>0.225000</td>\n",
       "    </tr>\n",
       "    <tr>\n",
       "      <th>823</th>\n",
       "      <td>760177</td>\n",
       "      <td>1.088950e+18</td>\n",
       "      <td>SenTedCruz</td>\n",
       "      <td>2019-01-25T18:47:06-05:00</td>\n",
       "      <td>Yesterday, I fought hard to immediately pay ev...</td>\n",
       "      <td>Ted Cruz</td>\n",
       "      <td>Sen</td>\n",
       "      <td>3-Jan-13</td>\n",
       "      <td>12/22/1970</td>\n",
       "      <td>M</td>\n",
       "      <td>...</td>\n",
       "      <td>4,685,047</td>\n",
       "      <td>3,877,868</td>\n",
       "      <td>3,308,124</td>\n",
       "      <td>4,569,843</td>\n",
       "      <td>Yesterday, I fought hard to immediately pay ev...</td>\n",
       "      <td>Yesterday I fought hard immediately pay single...</td>\n",
       "      <td>193</td>\n",
       "      <td>28</td>\n",
       "      <td>-0.090774</td>\n",
       "      <td>0.338988</td>\n",
       "    </tr>\n",
       "    <tr>\n",
       "      <th>49</th>\n",
       "      <td>275506</td>\n",
       "      <td>1.104010e+18</td>\n",
       "      <td>SenDuckworth</td>\n",
       "      <td>2019-03-08T08:29:02-05:00</td>\n",
       "      <td>After my father lost his job when I was a teen...</td>\n",
       "      <td>Tammy Duckworth</td>\n",
       "      <td>Sen</td>\n",
       "      <td>3-Jan-17</td>\n",
       "      <td>3/12/1968</td>\n",
       "      <td>F</td>\n",
       "      <td>...</td>\n",
       "      <td>2,146,015</td>\n",
       "      <td>3,090,729</td>\n",
       "      <td>3,019,512</td>\n",
       "      <td>2,135,216</td>\n",
       "      <td>After my father lost his job when I was a teen...</td>\n",
       "      <td>After father lost job I teenager food stamps r...</td>\n",
       "      <td>156</td>\n",
       "      <td>23</td>\n",
       "      <td>0.000000</td>\n",
       "      <td>0.000000</td>\n",
       "    </tr>\n",
       "    <tr>\n",
       "      <th>291</th>\n",
       "      <td>300399</td>\n",
       "      <td>1.267590e+18</td>\n",
       "      <td>SenDuckworth</td>\n",
       "      <td>2020-06-01T18:39:18-04:00</td>\n",
       "      <td>For Chicago Public School students in need of ...</td>\n",
       "      <td>Tammy Duckworth</td>\n",
       "      <td>Sen</td>\n",
       "      <td>3-Jan-17</td>\n",
       "      <td>3/12/1968</td>\n",
       "      <td>F</td>\n",
       "      <td>...</td>\n",
       "      <td>2,146,015</td>\n",
       "      <td>3,090,729</td>\n",
       "      <td>3,019,512</td>\n",
       "      <td>2,135,216</td>\n",
       "      <td>For Chicago Public School students in need of ...</td>\n",
       "      <td>For Chicago Public School students need food F...</td>\n",
       "      <td>332</td>\n",
       "      <td>46</td>\n",
       "      <td>0.000000</td>\n",
       "      <td>0.066667</td>\n",
       "    </tr>\n",
       "    <tr>\n",
       "      <th>418</th>\n",
       "      <td>277686</td>\n",
       "      <td>1.120440e+18</td>\n",
       "      <td>SenDuckworth</td>\n",
       "      <td>2019-04-22T17:21:32-04:00</td>\n",
       "      <td>RT @thehill NEW: Dem senators launch Environme...</td>\n",
       "      <td>Tammy Duckworth</td>\n",
       "      <td>Sen</td>\n",
       "      <td>3-Jan-17</td>\n",
       "      <td>3/12/1968</td>\n",
       "      <td>F</td>\n",
       "      <td>...</td>\n",
       "      <td>2,146,015</td>\n",
       "      <td>3,090,729</td>\n",
       "      <td>3,019,512</td>\n",
       "      <td>2,135,216</td>\n",
       "      <td>RT @thehill NEW: Dem senators launch Environme...</td>\n",
       "      <td>thehill NEW Dem senators launch Environmental ...</td>\n",
       "      <td>70</td>\n",
       "      <td>10</td>\n",
       "      <td>0.136364</td>\n",
       "      <td>0.454545</td>\n",
       "    </tr>\n",
       "    <tr>\n",
       "      <th>560</th>\n",
       "      <td>274612</td>\n",
       "      <td>1.098000e+18</td>\n",
       "      <td>SenDuckworth</td>\n",
       "      <td>2019-02-19T18:12:33-05:00</td>\n",
       "      <td>Depriving Victor Valladares Diaz of his prosth...</td>\n",
       "      <td>Tammy Duckworth</td>\n",
       "      <td>Sen</td>\n",
       "      <td>3-Jan-17</td>\n",
       "      <td>3/12/1968</td>\n",
       "      <td>F</td>\n",
       "      <td>...</td>\n",
       "      <td>2,146,015</td>\n",
       "      <td>3,090,729</td>\n",
       "      <td>3,019,512</td>\n",
       "      <td>2,135,216</td>\n",
       "      <td>Depriving Victor Valladares Diaz of his prosth...</td>\n",
       "      <td>Depriving Victor Valladares Diaz prosthetic li...</td>\n",
       "      <td>311</td>\n",
       "      <td>39</td>\n",
       "      <td>-0.090000</td>\n",
       "      <td>0.305000</td>\n",
       "    </tr>\n",
       "    <tr>\n",
       "      <th>567</th>\n",
       "      <td>280922</td>\n",
       "      <td>1.142460e+18</td>\n",
       "      <td>SenDuckworth</td>\n",
       "      <td>2019-06-22T12:01:02-04:00</td>\n",
       "      <td>Three years ago today, days after the horrific...</td>\n",
       "      <td>Tammy Duckworth</td>\n",
       "      <td>Sen</td>\n",
       "      <td>3-Jan-17</td>\n",
       "      <td>3/12/1968</td>\n",
       "      <td>F</td>\n",
       "      <td>...</td>\n",
       "      <td>2,146,015</td>\n",
       "      <td>3,090,729</td>\n",
       "      <td>3,019,512</td>\n",
       "      <td>2,135,216</td>\n",
       "      <td>Three years ago today, days after the horrific...</td>\n",
       "      <td>Three years ago days horrific PulseShooting do...</td>\n",
       "      <td>213</td>\n",
       "      <td>29</td>\n",
       "      <td>-0.500000</td>\n",
       "      <td>0.500000</td>\n",
       "    </tr>\n",
       "    <tr>\n",
       "      <th>582</th>\n",
       "      <td>281742</td>\n",
       "      <td>1.149410e+18</td>\n",
       "      <td>SenDuckworth</td>\n",
       "      <td>2019-07-11T16:00:58-04:00</td>\n",
       "      <td>I will keep working to ensure every family in ...</td>\n",
       "      <td>Tammy Duckworth</td>\n",
       "      <td>Sen</td>\n",
       "      <td>3-Jan-17</td>\n",
       "      <td>3/12/1968</td>\n",
       "      <td>F</td>\n",
       "      <td>...</td>\n",
       "      <td>2,146,015</td>\n",
       "      <td>3,090,729</td>\n",
       "      <td>3,019,512</td>\n",
       "      <td>2,135,216</td>\n",
       "      <td>I will keep working to ensure every family in ...</td>\n",
       "      <td>I working ensure family America – matter live ...</td>\n",
       "      <td>163</td>\n",
       "      <td>24</td>\n",
       "      <td>0.460606</td>\n",
       "      <td>0.640000</td>\n",
       "    </tr>\n",
       "    <tr>\n",
       "      <th>656</th>\n",
       "      <td>300329</td>\n",
       "      <td>1.266910e+18</td>\n",
       "      <td>SenDuckworth</td>\n",
       "      <td>2020-05-30T21:52:51-04:00</td>\n",
       "      <td>The President of the United States should unit...</td>\n",
       "      <td>Tammy Duckworth</td>\n",
       "      <td>Sen</td>\n",
       "      <td>3-Jan-17</td>\n",
       "      <td>3/12/1968</td>\n",
       "      <td>F</td>\n",
       "      <td>...</td>\n",
       "      <td>2,146,015</td>\n",
       "      <td>3,090,729</td>\n",
       "      <td>3,019,512</td>\n",
       "      <td>2,135,216</td>\n",
       "      <td>The President of the United States should unit...</td>\n",
       "      <td>The President United States unite empower lead...</td>\n",
       "      <td>112</td>\n",
       "      <td>16</td>\n",
       "      <td>0.000000</td>\n",
       "      <td>0.000000</td>\n",
       "    </tr>\n",
       "    <tr>\n",
       "      <th>784</th>\n",
       "      <td>294033</td>\n",
       "      <td>1.236020e+18</td>\n",
       "      <td>SenDuckworth</td>\n",
       "      <td>2020-03-06T14:47:01-05:00</td>\n",
       "      <td>Modernizing our roadways, bridges, airports an...</td>\n",
       "      <td>Tammy Duckworth</td>\n",
       "      <td>Sen</td>\n",
       "      <td>3-Jan-17</td>\n",
       "      <td>3/12/1968</td>\n",
       "      <td>F</td>\n",
       "      <td>...</td>\n",
       "      <td>2,146,015</td>\n",
       "      <td>3,090,729</td>\n",
       "      <td>3,019,512</td>\n",
       "      <td>2,135,216</td>\n",
       "      <td>Modernizing our roadways, bridges, airports an...</td>\n",
       "      <td>Modernizing roadways bridges airports transit ...</td>\n",
       "      <td>417</td>\n",
       "      <td>48</td>\n",
       "      <td>0.125000</td>\n",
       "      <td>0.512500</td>\n",
       "    </tr>\n",
       "    <tr>\n",
       "      <th>869</th>\n",
       "      <td>274888</td>\n",
       "      <td>1.100510e+18</td>\n",
       "      <td>SenDuckworth</td>\n",
       "      <td>2019-02-26T16:39:32-05:00</td>\n",
       "      <td>We can do so much more to help survivors of br...</td>\n",
       "      <td>Tammy Duckworth</td>\n",
       "      <td>Sen</td>\n",
       "      <td>3-Jan-17</td>\n",
       "      <td>3/12/1968</td>\n",
       "      <td>F</td>\n",
       "      <td>...</td>\n",
       "      <td>2,146,015</td>\n",
       "      <td>3,090,729</td>\n",
       "      <td>3,019,512</td>\n",
       "      <td>2,135,216</td>\n",
       "      <td>We can do so much more to help survivors of br...</td>\n",
       "      <td>We help survivors breast cancer return health ...</td>\n",
       "      <td>164</td>\n",
       "      <td>24</td>\n",
       "      <td>1.000000</td>\n",
       "      <td>0.300000</td>\n",
       "    </tr>\n",
       "    <tr>\n",
       "      <th>901</th>\n",
       "      <td>285163</td>\n",
       "      <td>1.177010e+18</td>\n",
       "      <td>SenDuckworth</td>\n",
       "      <td>2019-09-25T20:04:00-04:00</td>\n",
       "      <td>The #ADA Amendments Act of 2008 was signed int...</td>\n",
       "      <td>Tammy Duckworth</td>\n",
       "      <td>Sen</td>\n",
       "      <td>3-Jan-17</td>\n",
       "      <td>3/12/1968</td>\n",
       "      <td>F</td>\n",
       "      <td>...</td>\n",
       "      <td>2,146,015</td>\n",
       "      <td>3,090,729</td>\n",
       "      <td>3,019,512</td>\n",
       "      <td>2,135,216</td>\n",
       "      <td>The #ADA Amendments Act of 2008 was signed int...</td>\n",
       "      <td>The ADA Amendments Act 2008 signed law years a...</td>\n",
       "      <td>132</td>\n",
       "      <td>17</td>\n",
       "      <td>0.000000</td>\n",
       "      <td>0.125000</td>\n",
       "    </tr>\n",
       "  </tbody>\n",
       "</table>\n",
       "<p>15 rows × 23 columns</p>\n",
       "</div>"
      ],
      "text/plain": [
       "      index      tweet_id   screen_name                   datetime  \\\n",
       "57   820487  1.279160e+18    SenTedCruz  2020-07-03T17:11:55-04:00   \n",
       "238  811947  1.256300e+18    SenTedCruz  2020-05-01T15:29:55-04:00   \n",
       "705  797929  1.220850e+18    SenTedCruz  2020-01-24T18:29:25-05:00   \n",
       "755  787860  1.187810e+18    SenTedCruz  2019-10-25T15:26:23-04:00   \n",
       "823  760177  1.088950e+18    SenTedCruz  2019-01-25T18:47:06-05:00   \n",
       "49   275506  1.104010e+18  SenDuckworth  2019-03-08T08:29:02-05:00   \n",
       "291  300399  1.267590e+18  SenDuckworth  2020-06-01T18:39:18-04:00   \n",
       "418  277686  1.120440e+18  SenDuckworth  2019-04-22T17:21:32-04:00   \n",
       "560  274612  1.098000e+18  SenDuckworth  2019-02-19T18:12:33-05:00   \n",
       "567  280922  1.142460e+18  SenDuckworth  2019-06-22T12:01:02-04:00   \n",
       "582  281742  1.149410e+18  SenDuckworth  2019-07-11T16:00:58-04:00   \n",
       "656  300329  1.266910e+18  SenDuckworth  2020-05-30T21:52:51-04:00   \n",
       "784  294033  1.236020e+18  SenDuckworth  2020-03-06T14:47:01-05:00   \n",
       "869  274888  1.100510e+18  SenDuckworth  2019-02-26T16:39:32-05:00   \n",
       "901  285163  1.177010e+18  SenDuckworth  2019-09-25T20:04:00-04:00   \n",
       "\n",
       "                                                  text   name_wikipedia  \\\n",
       "57   This weekend, we celebrate the birth of our na...         Ted Cruz   \n",
       "238  RT @EricTrump Challenge accepted @SeanHannity!...         Ted Cruz   \n",
       "705  My thoughts &amp; prayers are with the familie...         Ted Cruz   \n",
       "755  It’s time for Congress and the American people...         Ted Cruz   \n",
       "823  Yesterday, I fought hard to immediately pay ev...         Ted Cruz   \n",
       "49   After my father lost his job when I was a teen...  Tammy Duckworth   \n",
       "291  For Chicago Public School students in need of ...  Tammy Duckworth   \n",
       "418  RT @thehill NEW: Dem senators launch Environme...  Tammy Duckworth   \n",
       "560  Depriving Victor Valladares Diaz of his prosth...  Tammy Duckworth   \n",
       "567  Three years ago today, days after the horrific...  Tammy Duckworth   \n",
       "582  I will keep working to ensure every family in ...  Tammy Duckworth   \n",
       "656  The President of the United States should unit...  Tammy Duckworth   \n",
       "784  Modernizing our roadways, bridges, airports an...  Tammy Duckworth   \n",
       "869  We can do so much more to help survivors of br...  Tammy Duckworth   \n",
       "901  The #ADA Amendments Act of 2008 was signed int...  Tammy Duckworth   \n",
       "\n",
       "    position joined_congress_date    birthday gender  ...  \\\n",
       "57       Sen             3-Jan-13  12/22/1970      M  ...   \n",
       "238      Sen             3-Jan-13  12/22/1970      M  ...   \n",
       "705      Sen             3-Jan-13  12/22/1970      M  ...   \n",
       "755      Sen             3-Jan-13  12/22/1970      M  ...   \n",
       "823      Sen             3-Jan-13  12/22/1970      M  ...   \n",
       "49       Sen             3-Jan-17   3/12/1968      F  ...   \n",
       "291      Sen             3-Jan-17   3/12/1968      F  ...   \n",
       "418      Sen             3-Jan-17   3/12/1968      F  ...   \n",
       "560      Sen             3-Jan-17   3/12/1968      F  ...   \n",
       "567      Sen             3-Jan-17   3/12/1968      F  ...   \n",
       "582      Sen             3-Jan-17   3/12/1968      F  ...   \n",
       "656      Sen             3-Jan-17   3/12/1968      F  ...   \n",
       "784      Sen             3-Jan-17   3/12/1968      F  ...   \n",
       "869      Sen             3-Jan-17   3/12/1968      F  ...   \n",
       "901      Sen             3-Jan-17   3/12/1968      F  ...   \n",
       "\n",
       "    trump_2016_state_share clinton_2016_state_share obama_2012_state_share  \\\n",
       "57               4,685,047                3,877,868              3,308,124   \n",
       "238              4,685,047                3,877,868              3,308,124   \n",
       "705              4,685,047                3,877,868              3,308,124   \n",
       "755              4,685,047                3,877,868              3,308,124   \n",
       "823              4,685,047                3,877,868              3,308,124   \n",
       "49               2,146,015                3,090,729              3,019,512   \n",
       "291              2,146,015                3,090,729              3,019,512   \n",
       "418              2,146,015                3,090,729              3,019,512   \n",
       "560              2,146,015                3,090,729              3,019,512   \n",
       "567              2,146,015                3,090,729              3,019,512   \n",
       "582              2,146,015                3,090,729              3,019,512   \n",
       "656              2,146,015                3,090,729              3,019,512   \n",
       "784              2,146,015                3,090,729              3,019,512   \n",
       "869              2,146,015                3,090,729              3,019,512   \n",
       "901              2,146,015                3,090,729              3,019,512   \n",
       "\n",
       "    romney_2012_state_share  \\\n",
       "57                4,569,843   \n",
       "238               4,569,843   \n",
       "705               4,569,843   \n",
       "755               4,569,843   \n",
       "823               4,569,843   \n",
       "49                2,135,216   \n",
       "291               2,135,216   \n",
       "418               2,135,216   \n",
       "560               2,135,216   \n",
       "567               2,135,216   \n",
       "582               2,135,216   \n",
       "656               2,135,216   \n",
       "784               2,135,216   \n",
       "869               2,135,216   \n",
       "901               2,135,216   \n",
       "\n",
       "                                        text_deEmojify  \\\n",
       "57   This weekend, we celebrate the birth of our na...   \n",
       "238  RT @EricTrump Challenge accepted @SeanHannity!...   \n",
       "705  My thoughts &amp; prayers are with the familie...   \n",
       "755  It’s time for Congress and the American people...   \n",
       "823  Yesterday, I fought hard to immediately pay ev...   \n",
       "49   After my father lost his job when I was a teen...   \n",
       "291  For Chicago Public School students in need of ...   \n",
       "418  RT @thehill NEW: Dem senators launch Environme...   \n",
       "560  Depriving Victor Valladares Diaz of his prosth...   \n",
       "567  Three years ago today, days after the horrific...   \n",
       "582  I will keep working to ensure every family in ...   \n",
       "656  The President of the United States should unit...   \n",
       "784  Modernizing our roadways, bridges, airports an...   \n",
       "869  We can do so much more to help survivors of br...   \n",
       "901  The #ADA Amendments Act of 2008 was signed int...   \n",
       "\n",
       "                                                tokens tweet_len word_count  \\\n",
       "57   This weekend celebrate birth nation gift indep...       153         20   \n",
       "238  EricTrump Challenge accepted SeanHannity Along...       412         54   \n",
       "705  My thoughts prayers families 2 Houstonians liv...       406         47   \n",
       "755  It time Congress American people hear directly...       160         25   \n",
       "823  Yesterday I fought hard immediately pay single...       193         28   \n",
       "49   After father lost job I teenager food stamps r...       156         23   \n",
       "291  For Chicago Public School students need food F...       332         46   \n",
       "418  thehill NEW Dem senators launch Environmental ...        70         10   \n",
       "560  Depriving Victor Valladares Diaz prosthetic li...       311         39   \n",
       "567  Three years ago days horrific PulseShooting do...       213         29   \n",
       "582  I working ensure family America – matter live ...       163         24   \n",
       "656  The President United States unite empower lead...       112         16   \n",
       "784  Modernizing roadways bridges airports transit ...       417         48   \n",
       "869  We help survivors breast cancer return health ...       164         24   \n",
       "901  The ADA Amendments Act 2008 signed law years a...       132         17   \n",
       "\n",
       "     polarity  subjectivity  \n",
       "57   0.000000      0.000000  \n",
       "238  0.500000      0.600000  \n",
       "705 -0.059524      0.238095  \n",
       "755  0.150000      0.225000  \n",
       "823 -0.090774      0.338988  \n",
       "49   0.000000      0.000000  \n",
       "291  0.000000      0.066667  \n",
       "418  0.136364      0.454545  \n",
       "560 -0.090000      0.305000  \n",
       "567 -0.500000      0.500000  \n",
       "582  0.460606      0.640000  \n",
       "656  0.000000      0.000000  \n",
       "784  0.125000      0.512500  \n",
       "869  1.000000      0.300000  \n",
       "901  0.000000      0.125000  \n",
       "\n",
       "[15 rows x 23 columns]"
      ]
     },
     "execution_count": 31,
     "metadata": {},
     "output_type": "execute_result"
    }
   ],
   "source": [
    "#Ted Cruz and Tammy Duckworth Tweets\n",
    "cruz_tweets = congress_tweets[congress_tweets.name_wikipedia == 'Ted Cruz']\n",
    "duckworth_tweets = congress_tweets[congress_tweets.name_wikipedia == \"Tammy Duckworth\"]\n",
    "\n",
    "#Combining dataframes\n",
    "cruz_duck_df = [cruz_tweets, duckworth_tweets]\n",
    "cruz_duck_tweets = pd.concat(cruz_duck_df)\n",
    "\n",
    "#Polarity and Subjectivity\n",
    "cruz_duck_tweets['polarity'] = cruz_duck_tweets['tokens'].map(lambda text: TextBlob(text).sentiment.polarity)\n",
    "cruz_duck_tweets['subjectivity'] = cruz_duck_tweets['tokens'].map(lambda text: TextBlob(text).sentiment.subjectivity)\n",
    "\n",
    "cruz_duck_tweets.head(25)"
   ]
  },
  {
   "cell_type": "markdown",
   "metadata": {},
   "source": [
    "### Polarity"
   ]
  },
  {
   "cell_type": "code",
   "execution_count": 32,
   "metadata": {},
   "outputs": [
    {
     "data": {
      "image/png": "[encoded data removed]",
      "text/plain": [
       "<Figure size 848.625x360 with 2 Axes>"
      ]
     },
     "metadata": {
      "needs_background": "light"
     },
     "output_type": "display_data"
    }
   ],
   "source": [
    "sns.displot(cruz_duck_tweets, x=\"polarity\", hue = \"name_wikipedia\", col = \"name_wikipedia\")\n",
    "plt.show()"
   ]
  },
  {
   "cell_type": "markdown",
   "metadata": {},
   "source": [
    "### Tweets with the largest polarity"
   ]
  },
  {
   "cell_type": "markdown",
   "metadata": {},
   "source": [
    "**Tammy Duckworth:**"
   ]
  },
  {
   "cell_type": "code",
   "execution_count": 33,
   "metadata": {},
   "outputs": [
    {
     "name": "stdout",
     "output_type": "stream",
     "text": [
      "We can do so much more to help survivors of breast cancer return to health and achieve the best quality of life. That's why I'm introducing the Breast Cancer Patient Equity Act with @lisamurkowski, @RepJudyChu &amp; @RepWalorski https://www.duckworth.senate.gov/news/press-releases/-duckworth-murkowski-chu-and-walorski-re-introduce-bipartisan-bicameral-bill-to-expand-coverage-for-breast-cancer-patients-and-survivors\n",
      "\n"
     ]
    },
    {
     "name": "stderr",
     "output_type": "stream",
     "text": [
      "<ipython-input-33-647af7a0291e>:1: SettingWithCopyWarning: \n",
      "A value is trying to be set on a copy of a slice from a DataFrame.\n",
      "Try using .loc[row_indexer,col_indexer] = value instead\n",
      "\n",
      "See the caveats in the documentation: https://pandas.pydata.org/pandas-docs/stable/user_guide/indexing.html#returning-a-view-versus-a-copy\n",
      "  duckworth_tweets['polarity'] = duckworth_tweets['tokens'].map(lambda text: TextBlob(text).sentiment.polarity)\n"
     ]
    }
   ],
   "source": [
    "duckworth_tweets['polarity'] = duckworth_tweets['tokens'].map(lambda text: TextBlob(text).sentiment.polarity)\n",
    "for tweets in duckworth_tweets.nlargest(1, \"polarity\")['text']:\n",
    "    print(tweets + \"\\n\")"
   ]
  },
  {
   "cell_type": "markdown",
   "metadata": {},
   "source": [
    "**Ted Cruz:**"
   ]
  },
  {
   "cell_type": "code",
   "execution_count": 34,
   "metadata": {},
   "outputs": [
    {
     "name": "stdout",
     "output_type": "stream",
     "text": [
      "RT @EricTrump Challenge accepted @SeanHannity! Along with the amazing team from @TrumpNationalNY, we are providing food to all police, firefighters and first responders in our town today! They are incredible men and women who have been in the front lines since the begining. @LaraLeaTrump https://twitter.com/seanhannity/status/1254552056347664384 QT @seanhannity Challenge met. I called my friend Randy Levine of the NY .@Yankees and  purchased 500 Yankee Tkts for The Hero medical workers all over NY. Randy and Hal Steinbrenner and the Yankees immediately donated 500 more tkts!! \n",
      "\n",
      "I now Challenge My friends\n",
      ".@LaraLeaTrump  and .@EricTrump https://twitter.com/ainsleyearhardt/status/1253833611469520897\n",
      "\n"
     ]
    },
    {
     "name": "stderr",
     "output_type": "stream",
     "text": [
      "<ipython-input-34-0809f2072989>:1: SettingWithCopyWarning: \n",
      "A value is trying to be set on a copy of a slice from a DataFrame.\n",
      "Try using .loc[row_indexer,col_indexer] = value instead\n",
      "\n",
      "See the caveats in the documentation: https://pandas.pydata.org/pandas-docs/stable/user_guide/indexing.html#returning-a-view-versus-a-copy\n",
      "  cruz_tweets['polarity'] = cruz_tweets['tokens'].map(lambda text: TextBlob(text).sentiment.polarity)\n"
     ]
    }
   ],
   "source": [
    "cruz_tweets['polarity'] = cruz_tweets['tokens'].map(lambda text: TextBlob(text).sentiment.polarity)\n",
    "for tweets in cruz_tweets.nlargest(1, \"polarity\")['text']:\n",
    "    print(tweets + \"\\n\")"
   ]
  },
  {
   "cell_type": "markdown",
   "metadata": {},
   "source": [
    "### Tweets with the smallest polarity"
   ]
  },
  {
   "cell_type": "markdown",
   "metadata": {},
   "source": [
    "**Tammy Duckworth:**"
   ]
  },
  {
   "cell_type": "code",
   "execution_count": 35,
   "metadata": {},
   "outputs": [
    {
     "name": "stdout",
     "output_type": "stream",
     "text": [
      "Three years ago today, days after the horrific #PulseShooting, dozens of Congresspeople led by civil rights hero @repjohnlewis gathered on the House floor to stage an historic, 25-hour sit-in demanding a House vote to #EndGunViolence &amp; an end to GOP efforts to block those votes.\n",
      "\n"
     ]
    }
   ],
   "source": [
    "for tweets in duckworth_tweets.nsmallest(1, \"polarity\")['text']:\n",
    "    print(tweets + \"\\n\")"
   ]
  },
  {
   "cell_type": "markdown",
   "metadata": {},
   "source": [
    "**Ted Cruz:**"
   ]
  },
  {
   "cell_type": "code",
   "execution_count": 36,
   "metadata": {},
   "outputs": [
    {
     "name": "stdout",
     "output_type": "stream",
     "text": [
      "Yesterday, I fought hard to immediately pay every single essential federal employee – every essential employee at the Coast Guard, the TSA, air traffic controllers, Border Patrol agents, ICE agents, FBI agents, and those throughout law enforcement.\n",
      "\n"
     ]
    }
   ],
   "source": [
    "for tweets in cruz_tweets.nsmallest(1, \"polarity\")['text']:\n",
    "    print(tweets + \"\\n\")"
   ]
  },
  {
   "cell_type": "markdown",
   "metadata": {},
   "source": [
    "### Subjectivity"
   ]
  },
  {
   "cell_type": "code",
   "execution_count": 37,
   "metadata": {},
   "outputs": [
    {
     "data": {
      "image/png": "[encoded data removed]",
      "text/plain": [
       "<Figure size 848.625x360 with 2 Axes>"
      ]
     },
     "metadata": {
      "needs_background": "light"
     },
     "output_type": "display_data"
    }
   ],
   "source": [
    "sns.displot(cruz_duck_tweets, x=\"subjectivity\", hue = \"name_wikipedia\", col = \"name_wikipedia\")\n",
    "plt.show()"
   ]
  },
  {
   "cell_type": "markdown",
   "metadata": {},
   "source": [
    "### Tweets with the largest subjectivity"
   ]
  },
  {
   "cell_type": "markdown",
   "metadata": {},
   "source": [
    "**Tammy Duckworth:**"
   ]
  },
  {
   "cell_type": "code",
   "execution_count": 38,
   "metadata": {},
   "outputs": [
    {
     "name": "stdout",
     "output_type": "stream",
     "text": [
      "I will keep working to ensure every family in America – no matter where they live – has access to clean and safe drinking water, and I’m proud to introduce this bill with @RepDanKildee to better protect our children from lead-contaminated water. https://www.duckworth.senate.gov/news/press-releases/07/11/2019/duckworth-kildee-re-introduce-legislation-to-help-protect-families-from-lead-contaminated-water\n",
      "\n"
     ]
    },
    {
     "name": "stderr",
     "output_type": "stream",
     "text": [
      "<ipython-input-38-5401f4840256>:1: SettingWithCopyWarning: \n",
      "A value is trying to be set on a copy of a slice from a DataFrame.\n",
      "Try using .loc[row_indexer,col_indexer] = value instead\n",
      "\n",
      "See the caveats in the documentation: https://pandas.pydata.org/pandas-docs/stable/user_guide/indexing.html#returning-a-view-versus-a-copy\n",
      "  duckworth_tweets['subjectivity'] = duckworth_tweets['tokens'].map(lambda text: TextBlob(text).sentiment.subjectivity)\n"
     ]
    }
   ],
   "source": [
    "duckworth_tweets['subjectivity'] = duckworth_tweets['tokens'].map(lambda text: TextBlob(text).sentiment.subjectivity)\n",
    "for tweets in duckworth_tweets.nlargest(1, 'subjectivity')['text']:\n",
    "    print(tweets + \"\\n\")"
   ]
  },
  {
   "cell_type": "markdown",
   "metadata": {},
   "source": [
    "**Ted Cruz**"
   ]
  },
  {
   "cell_type": "code",
   "execution_count": 39,
   "metadata": {},
   "outputs": [
    {
     "name": "stdout",
     "output_type": "stream",
     "text": [
      "RT @EricTrump Challenge accepted @SeanHannity! Along with the amazing team from @TrumpNationalNY, we are providing food to all police, firefighters and first responders in our town today! They are incredible men and women who have been in the front lines since the begining. @LaraLeaTrump https://twitter.com/seanhannity/status/1254552056347664384 QT @seanhannity Challenge met. I called my friend Randy Levine of the NY .@Yankees and  purchased 500 Yankee Tkts for The Hero medical workers all over NY. Randy and Hal Steinbrenner and the Yankees immediately donated 500 more tkts!! \n",
      "\n",
      "I now Challenge My friends\n",
      ".@LaraLeaTrump  and .@EricTrump https://twitter.com/ainsleyearhardt/status/1253833611469520897\n",
      "\n"
     ]
    },
    {
     "name": "stderr",
     "output_type": "stream",
     "text": [
      "<ipython-input-39-d66c643106dc>:1: SettingWithCopyWarning: \n",
      "A value is trying to be set on a copy of a slice from a DataFrame.\n",
      "Try using .loc[row_indexer,col_indexer] = value instead\n",
      "\n",
      "See the caveats in the documentation: https://pandas.pydata.org/pandas-docs/stable/user_guide/indexing.html#returning-a-view-versus-a-copy\n",
      "  cruz_tweets['subjectivity'] = cruz_tweets['tokens'].map(lambda text: TextBlob(text).sentiment.subjectivity)\n"
     ]
    }
   ],
   "source": [
    "cruz_tweets['subjectivity'] = cruz_tweets['tokens'].map(lambda text: TextBlob(text).sentiment.subjectivity)\n",
    "for tweets in cruz_tweets.nlargest(1, \"subjectivity\")['text']:\n",
    "    print(tweets + \"\\n\")"
   ]
  },
  {
   "cell_type": "markdown",
   "metadata": {},
   "source": [
    "### Tweets with the smallest subjectivity"
   ]
  },
  {
   "cell_type": "markdown",
   "metadata": {},
   "source": [
    "**Tammy Duckworth:**"
   ]
  },
  {
   "cell_type": "code",
   "execution_count": 40,
   "metadata": {},
   "outputs": [
    {
     "name": "stdout",
     "output_type": "stream",
     "text": [
      "After my father lost his job when I was a teenager, food stamps and reduced price meals at school helped keep me from going hungry. I wasn’t alone, either: millions of children across our nation rely on #SchoolBreakfast and other nutritious meals too.\n",
      "\n"
     ]
    }
   ],
   "source": [
    "for tweets in duckworth_tweets.nsmallest(1, \"subjectivity\")['text']:\n",
    "    print(tweets + \"\\n\")"
   ]
  },
  {
   "cell_type": "markdown",
   "metadata": {},
   "source": [
    "**Ted Cruz:**"
   ]
  },
  {
   "cell_type": "code",
   "execution_count": 41,
   "metadata": {},
   "outputs": [
    {
     "name": "stdout",
     "output_type": "stream",
     "text": [
      "This weekend, we celebrate the birth of our nation and the gift of independence. Throughout the history of mankind, freedom has been the exception. And yet, here in America, freedom has been delivered and defended for every man, women, and child.\n",
      "\n"
     ]
    }
   ],
   "source": [
    "for tweets in cruz_tweets.nsmallest(1, \"subjectivity\")['text']:\n",
    "    print(tweets + \"\\n\")"
   ]
  },
  {
   "cell_type": "markdown",
   "metadata": {},
   "source": [
    "### Sujectivity vs. Polarity"
   ]
  },
  {
   "cell_type": "code",
   "execution_count": 42,
   "metadata": {},
   "outputs": [
    {
     "data": {
      "text/plain": [
       "<AxesSubplot:xlabel='polarity', ylabel='subjectivity'>"
      ]
     },
     "execution_count": 42,
     "metadata": {},
     "output_type": "execute_result"
    },
    {
     "data": {
      "image/png": "[encoded data removed]",
      "text/plain": [
       "<Figure size 432x288 with 1 Axes>"
      ]
     },
     "metadata": {
      "needs_background": "light"
     },
     "output_type": "display_data"
    }
   ],
   "source": [
    "sns.scatterplot(x = cruz_duck_tweets['polarity'], y = cruz_duck_tweets['subjectivity'], hue = cruz_duck_tweets['name_wikipedia'])"
   ]
  },
  {
   "cell_type": "markdown",
   "metadata": {},
   "source": [
    "### 5.2: Party Affiliation and Bodies of Congress"
   ]
  },
  {
   "cell_type": "markdown",
   "metadata": {},
   "source": [
    "### Polarity "
   ]
  },
  {
   "cell_type": "code",
   "execution_count": 43,
   "metadata": {},
   "outputs": [],
   "source": [
    "congress_tweets['polarity'] = congress_tweets['tokens'].map(lambda text: TextBlob(text).sentiment.polarity)"
   ]
  },
  {
   "cell_type": "markdown",
   "metadata": {},
   "source": [
    "**Party Affiliation**"
   ]
  },
  {
   "cell_type": "code",
   "execution_count": 44,
   "metadata": {},
   "outputs": [
    {
     "data": {
      "image/png": "[encoded data removed]",
      "text/plain": [
       "<Figure size 1179.25x360 with 3 Axes>"
      ]
     },
     "metadata": {
      "needs_background": "light"
     },
     "output_type": "display_data"
    }
   ],
   "source": [
    "#By Party\n",
    "sns.displot(congress_tweets, x=\"polarity\", hue = \"party\", col = \"party\")\n",
    "plt.show()"
   ]
  },
  {
   "cell_type": "markdown",
   "metadata": {},
   "source": [
    "**Bodies of Congress**"
   ]
  },
  {
   "cell_type": "code",
   "execution_count": 45,
   "metadata": {},
   "outputs": [
    {
     "data": {
      "image/png": "[encoded data removed]",
      "text/plain": [
       "<Figure size 774.75x360 with 2 Axes>"
      ]
     },
     "metadata": {
      "needs_background": "light"
     },
     "output_type": "display_data"
    }
   ],
   "source": [
    "sns.displot(congress_tweets, x=\"polarity\", hue = \"position\", col = \"position\")\n",
    "plt.show()"
   ]
  },
  {
   "cell_type": "markdown",
   "metadata": {},
   "source": [
    "### Subjectivity"
   ]
  },
  {
   "cell_type": "code",
   "execution_count": 46,
   "metadata": {},
   "outputs": [],
   "source": [
    "congress_tweets['subjectivity'] = congress_tweets['tokens'].map(lambda text: TextBlob(text).sentiment.subjectivity)"
   ]
  },
  {
   "cell_type": "markdown",
   "metadata": {},
   "source": [
    "**Party Affiliation**"
   ]
  },
  {
   "cell_type": "code",
   "execution_count": 47,
   "metadata": {},
   "outputs": [
    {
     "data": {
      "image/png": "[encoded data removed]",
      "text/plain": [
       "<Figure size 1179.25x360 with 3 Axes>"
      ]
     },
     "metadata": {
      "needs_background": "light"
     },
     "output_type": "display_data"
    }
   ],
   "source": [
    "#by party\n",
    "sns.displot(congress_tweets, x=\"subjectivity\", hue = \"party\", col = \"party\")\n",
    "plt.show()"
   ]
  },
  {
   "cell_type": "markdown",
   "metadata": {},
   "source": [
    "**Bodies of Congress**"
   ]
  },
  {
   "cell_type": "code",
   "execution_count": 48,
   "metadata": {
    "scrolled": true
   },
   "outputs": [
    {
     "data": {
      "image/png": "[encoded data removed]",
      "text/plain": [
       "<Figure size 774.75x360 with 2 Axes>"
      ]
     },
     "metadata": {
      "needs_background": "light"
     },
     "output_type": "display_data"
    }
   ],
   "source": [
    "sns.displot(congress_tweets, x=\"subjectivity\", hue = \"position\", col = \"position\")\n",
    "plt.show()"
   ]
  },
  {
   "cell_type": "markdown",
   "metadata": {},
   "source": [
    "## 6. Featurization"
   ]
  },
  {
   "cell_type": "markdown",
   "metadata": {},
   "source": [
    "Before going to classification, explore different featurization techniques. Create three dataframes or arrays to represent your text features, specifically:\n",
    "\n",
    "* Features engineered from your previous analysis. For example, word counts, sentiment scores, topic model etc.\n",
    "* A term frequency-inverse document frequency matrix. \n",
    "* An embedding-based featurization (like a document averaged word2vec)\n",
    "\n",
    "In the next section, you will experiment with each of these featurization techniques to see which one produces the best classifications."
   ]
  },
  {
   "cell_type": "code",
   "execution_count": 49,
   "metadata": {},
   "outputs": [
    {
     "data": {
      "text/plain": [
       "Index(['index', 'tweet_id', 'screen_name', 'datetime', 'text',\n",
       "       'name_wikipedia', 'position', 'joined_congress_date', 'birthday',\n",
       "       'gender', 'state', 'district_number', 'party', 'trump_2016_state_share',\n",
       "       'clinton_2016_state_share', 'obama_2012_state_share',\n",
       "       'romney_2012_state_share', 'text_deEmojify', 'tokens', 'tweet_len',\n",
       "       'word_count', 'polarity', 'subjectivity'],\n",
       "      dtype='object')"
      ]
     },
     "execution_count": 49,
     "metadata": {},
     "output_type": "execute_result"
    }
   ],
   "source": [
    "congress_tweets.columns"
   ]
  },
  {
   "cell_type": "markdown",
   "metadata": {},
   "source": [
    "### Engineered Text Features"
   ]
  },
  {
   "cell_type": "code",
   "execution_count": 50,
   "metadata": {},
   "outputs": [],
   "source": [
    "# Engineered Text Features\n",
    "engineered_features = congress_tweets[['tweet_len', 'word_count', 'polarity', 'subjectivity']].reset_index(drop = True)"
   ]
  },
  {
   "cell_type": "code",
   "execution_count": 51,
   "metadata": {},
   "outputs": [],
   "source": [
    "# Topic Model + Engineered Features\n",
    "engineered_features_with_topics = topic_dist_df.join(engineered_features.reset_index(drop = True))"
   ]
  },
  {
   "cell_type": "code",
   "execution_count": 52,
   "metadata": {},
   "outputs": [],
   "source": [
    "# Non-text features\n",
    "non_text_features = congress_tweets[['position', 'joined_congress_date','gender', 'state','trump_2016_state_share', \n",
    "                                     'clinton_2016_state_share', 'obama_2012_state_share', 'romney_2012_state_share']]\n",
    "non_text_features_dummies = pd.get_dummies(non_text_features).reset_index(drop = True)"
   ]
  },
  {
   "cell_type": "code",
   "execution_count": 53,
   "metadata": {},
   "outputs": [],
   "source": [
    "# Non-text features + engineered features\n",
    "non_text_engineered_features = non_text_features_dummies.reset_index(drop = True).join(engineered_features_with_topics)"
   ]
  },
  {
   "cell_type": "markdown",
   "metadata": {},
   "source": [
    "### Tf-idf "
   ]
  },
  {
   "cell_type": "code",
   "execution_count": 54,
   "metadata": {},
   "outputs": [],
   "source": [
    "# Non-text features + tfidf\n",
    "tfidf_df = pd.DataFrame(tfidf_matrix.todense(), columns = tf.get_feature_names())\n",
    "non_text_plus_tfidf = non_text_features_dummies.reset_index(drop = True).join(tfidf_df)"
   ]
  },
  {
   "cell_type": "markdown",
   "metadata": {},
   "source": [
    "### Dictionary with top 25 n-grams"
   ]
  },
  {
   "cell_type": "code",
   "execution_count": 55,
   "metadata": {},
   "outputs": [
    {
     "name": "stderr",
     "output_type": "stream",
     "text": [
      "/Users/joseaveldanes/.local/lib/python3.8/site-packages/sklearn/feature_extraction/text.py:383: UserWarning: Your stop_words may be inconsistent with your preprocessing. Tokenizing the stop words generated tokens ['ll', 've'] not in stop_words.\n",
      "  warnings.warn('Your stop_words may be inconsistent with '\n"
     ]
    },
    {
     "data": {
      "text/html": [
       "<div>\n",
       "<style scoped>\n",
       "    .dataframe tbody tr th:only-of-type {\n",
       "        vertical-align: middle;\n",
       "    }\n",
       "\n",
       "    .dataframe tbody tr th {\n",
       "        vertical-align: top;\n",
       "    }\n",
       "\n",
       "    .dataframe thead th {\n",
       "        text-align: right;\n",
       "    }\n",
       "</style>\n",
       "<table border=\"1\" class=\"dataframe\">\n",
       "  <thead>\n",
       "    <tr style=\"text-align: right;\">\n",
       "      <th></th>\n",
       "      <th>health care</th>\n",
       "      <th>president trump</th>\n",
       "      <th>american people</th>\n",
       "      <th>small businesses</th>\n",
       "      <th>united states</th>\n",
       "      <th>trump administration</th>\n",
       "      <th>town hall</th>\n",
       "      <th>years ago</th>\n",
       "      <th>white house</th>\n",
       "      <th>house passed</th>\n",
       "      <th>...</th>\n",
       "      <th>social security</th>\n",
       "      <th>covid19 crisis</th>\n",
       "      <th>national security</th>\n",
       "      <th>coast guard</th>\n",
       "      <th>coronavirus relief</th>\n",
       "      <th>men women</th>\n",
       "      <th>high school</th>\n",
       "      <th>state local</th>\n",
       "      <th>qt thehill</th>\n",
       "      <th>millions americans</th>\n",
       "    </tr>\n",
       "  </thead>\n",
       "  <tbody>\n",
       "    <tr>\n",
       "      <th>0</th>\n",
       "      <td>0</td>\n",
       "      <td>0</td>\n",
       "      <td>0</td>\n",
       "      <td>0</td>\n",
       "      <td>0</td>\n",
       "      <td>0</td>\n",
       "      <td>0</td>\n",
       "      <td>0</td>\n",
       "      <td>0</td>\n",
       "      <td>0</td>\n",
       "      <td>...</td>\n",
       "      <td>0</td>\n",
       "      <td>0</td>\n",
       "      <td>0</td>\n",
       "      <td>0</td>\n",
       "      <td>0</td>\n",
       "      <td>0</td>\n",
       "      <td>0</td>\n",
       "      <td>0</td>\n",
       "      <td>0</td>\n",
       "      <td>0</td>\n",
       "    </tr>\n",
       "    <tr>\n",
       "      <th>1</th>\n",
       "      <td>0</td>\n",
       "      <td>0</td>\n",
       "      <td>0</td>\n",
       "      <td>0</td>\n",
       "      <td>0</td>\n",
       "      <td>0</td>\n",
       "      <td>1</td>\n",
       "      <td>0</td>\n",
       "      <td>0</td>\n",
       "      <td>0</td>\n",
       "      <td>...</td>\n",
       "      <td>0</td>\n",
       "      <td>0</td>\n",
       "      <td>0</td>\n",
       "      <td>0</td>\n",
       "      <td>0</td>\n",
       "      <td>0</td>\n",
       "      <td>0</td>\n",
       "      <td>0</td>\n",
       "      <td>0</td>\n",
       "      <td>0</td>\n",
       "    </tr>\n",
       "    <tr>\n",
       "      <th>2</th>\n",
       "      <td>0</td>\n",
       "      <td>0</td>\n",
       "      <td>0</td>\n",
       "      <td>0</td>\n",
       "      <td>0</td>\n",
       "      <td>0</td>\n",
       "      <td>0</td>\n",
       "      <td>0</td>\n",
       "      <td>0</td>\n",
       "      <td>0</td>\n",
       "      <td>...</td>\n",
       "      <td>0</td>\n",
       "      <td>0</td>\n",
       "      <td>0</td>\n",
       "      <td>0</td>\n",
       "      <td>0</td>\n",
       "      <td>0</td>\n",
       "      <td>0</td>\n",
       "      <td>0</td>\n",
       "      <td>0</td>\n",
       "      <td>0</td>\n",
       "    </tr>\n",
       "    <tr>\n",
       "      <th>3</th>\n",
       "      <td>0</td>\n",
       "      <td>0</td>\n",
       "      <td>0</td>\n",
       "      <td>0</td>\n",
       "      <td>0</td>\n",
       "      <td>0</td>\n",
       "      <td>0</td>\n",
       "      <td>0</td>\n",
       "      <td>0</td>\n",
       "      <td>0</td>\n",
       "      <td>...</td>\n",
       "      <td>0</td>\n",
       "      <td>0</td>\n",
       "      <td>0</td>\n",
       "      <td>0</td>\n",
       "      <td>0</td>\n",
       "      <td>0</td>\n",
       "      <td>0</td>\n",
       "      <td>0</td>\n",
       "      <td>0</td>\n",
       "      <td>0</td>\n",
       "    </tr>\n",
       "    <tr>\n",
       "      <th>4</th>\n",
       "      <td>0</td>\n",
       "      <td>0</td>\n",
       "      <td>0</td>\n",
       "      <td>0</td>\n",
       "      <td>0</td>\n",
       "      <td>0</td>\n",
       "      <td>0</td>\n",
       "      <td>0</td>\n",
       "      <td>0</td>\n",
       "      <td>0</td>\n",
       "      <td>...</td>\n",
       "      <td>0</td>\n",
       "      <td>0</td>\n",
       "      <td>0</td>\n",
       "      <td>0</td>\n",
       "      <td>0</td>\n",
       "      <td>0</td>\n",
       "      <td>0</td>\n",
       "      <td>0</td>\n",
       "      <td>0</td>\n",
       "      <td>0</td>\n",
       "    </tr>\n",
       "  </tbody>\n",
       "</table>\n",
       "<p>5 rows × 25 columns</p>\n",
       "</div>"
      ],
      "text/plain": [
       "   health care  president trump  american people  small businesses  \\\n",
       "0            0                0                0                 0   \n",
       "1            0                0                0                 0   \n",
       "2            0                0                0                 0   \n",
       "3            0                0                0                 0   \n",
       "4            0                0                0                 0   \n",
       "\n",
       "   united states  trump administration  town hall  years ago  white house  \\\n",
       "0              0                     0          0          0            0   \n",
       "1              0                     0          1          0            0   \n",
       "2              0                     0          0          0            0   \n",
       "3              0                     0          0          0            0   \n",
       "4              0                     0          0          0            0   \n",
       "\n",
       "   house passed  ...  social security  covid19 crisis  national security  \\\n",
       "0             0  ...                0               0                  0   \n",
       "1             0  ...                0               0                  0   \n",
       "2             0  ...                0               0                  0   \n",
       "3             0  ...                0               0                  0   \n",
       "4             0  ...                0               0                  0   \n",
       "\n",
       "   coast guard  coronavirus relief  men women  high school  state local  \\\n",
       "0            0                   0          0            0            0   \n",
       "1            0                   0          0            0            0   \n",
       "2            0                   0          0            0            0   \n",
       "3            0                   0          0            0            0   \n",
       "4            0                   0          0            0            0   \n",
       "\n",
       "   qt thehill  millions americans  \n",
       "0           0                   0  \n",
       "1           0                   0  \n",
       "2           0                   0  \n",
       "3           0                   0  \n",
       "4           0                   0  \n",
       "\n",
       "[5 rows x 25 columns]"
      ]
     },
     "execution_count": 55,
     "metadata": {},
     "output_type": "execute_result"
    }
   ],
   "source": [
    "countvec = CountVectorizer(stop_words=STOP_WORDS, ngram_range=(2,3))\n",
    "ngrams = countvec.fit_transform(congress_tweets['tokens'])\n",
    "\n",
    "dictionary_dataframe = pd.DataFrame(ngrams.todense(), columns = countvec.get_feature_names())\n",
    "\n",
    "df_ngram = pd.DataFrame(dictionary_dataframe.sum().reset_index()).rename(columns={'index': 'ngrams', 0:'freq'})\n",
    "df_ngram = df_ngram.sort_values(by = ['freq'], ascending = False).reset_index(drop = True)\n",
    "\n",
    "top_25_ngrams = dictionary_dataframe.loc[:,df_ngram[0:25]['ngrams']]\n",
    "top_25_ngrams.head()"
   ]
  },
  {
   "cell_type": "code",
   "execution_count": 56,
   "metadata": {},
   "outputs": [],
   "source": [
    "# Top 25 ngrams + non-text\n",
    "non_text_with_ngrams = non_text_features_dummies.reset_index(drop = True).join(top_25_ngrams)"
   ]
  },
  {
   "cell_type": "markdown",
   "metadata": {},
   "source": [
    "### Embedding Based Featurization"
   ]
  },
  {
   "cell_type": "code",
   "execution_count": 178,
   "metadata": {},
   "outputs": [
    {
     "data": {
      "text/plain": [
       "0      [Thank, testifying, Mr, Blake, QT, JRBlake, Re...\n",
       "1      [My, Twitter, Town, Hall, healthcare, begun, I...\n",
       "2      [Scipio, Jones, ‘, fight, civil, rights, equal...\n",
       "3      [There, better, time, ActOnClimate, EarthDay, ...\n",
       "4      [I, understand, VA, problems, recruiting, qual...\n",
       "                             ...                        \n",
       "942    [Thank, air, traffic, controllers, flight, att...\n",
       "943    [LawrenceGenHosp, new, coronavirus, community,...\n",
       "944    [senatemajldr, If, House, musters, courage, st...\n",
       "945    [It, important, support, policies, promote, pu...\n",
       "946    [davidmgoodwin, CDCgov, It, argument, giving, ...\n",
       "Name: tokens, Length: 947, dtype: object"
      ]
     },
     "execution_count": 178,
     "metadata": {},
     "output_type": "execute_result"
    }
   ],
   "source": [
    "#Converting from string back to list\n",
    "congress_tweets['tokens'] = congress_tweets['text_deEmojify'].map(lambda x: rem_punc_stop(x))\n",
    "congress_tweets['tokens']"
   ]
  },
  {
   "cell_type": "code",
   "execution_count": 58,
   "metadata": {},
   "outputs": [
    {
     "ename": "FileNotFoundError",
     "evalue": "[Errno 2] No such file or directory: 'data/GoogleNews-vectors-negative300.bin.gz'",
     "output_type": "error",
     "traceback": [
      "\u001b[0;31m---------------------------------------------------------------------------\u001b[0m",
      "\u001b[0;31mFileNotFoundError\u001b[0m                         Traceback (most recent call last)",
      "\u001b[0;32m<ipython-input-58-dc2bc7a5089f>\u001b[0m in \u001b[0;36m<module>\u001b[0;34m\u001b[0m\n\u001b[0;32m----> 1\u001b[0;31m \u001b[0mmodel\u001b[0m \u001b[0;34m=\u001b[0m \u001b[0mgensim\u001b[0m\u001b[0;34m.\u001b[0m\u001b[0mmodels\u001b[0m\u001b[0;34m.\u001b[0m\u001b[0mKeyedVectors\u001b[0m\u001b[0;34m.\u001b[0m\u001b[0mload_word2vec_format\u001b[0m\u001b[0;34m(\u001b[0m\u001b[0;34m'data/GoogleNews-vectors-negative300.bin.gz'\u001b[0m\u001b[0;34m,\u001b[0m \u001b[0mbinary\u001b[0m \u001b[0;34m=\u001b[0m \u001b[0;32mTrue\u001b[0m\u001b[0;34m)\u001b[0m\u001b[0;34m\u001b[0m\u001b[0;34m\u001b[0m\u001b[0m\n\u001b[0m",
      "\u001b[0;32m/opt/anaconda3/lib/python3.8/site-packages/gensim/models/keyedvectors.py\u001b[0m in \u001b[0;36mload_word2vec_format\u001b[0;34m(cls, fname, fvocab, binary, encoding, unicode_errors, limit, datatype)\u001b[0m\n\u001b[1;32m   1545\u001b[0m         \"\"\"\n\u001b[1;32m   1546\u001b[0m         \u001b[0;31m# from gensim.models.word2vec import load_word2vec_format\u001b[0m\u001b[0;34m\u001b[0m\u001b[0;34m\u001b[0m\u001b[0;34m\u001b[0m\u001b[0m\n\u001b[0;32m-> 1547\u001b[0;31m         return _load_word2vec_format(\n\u001b[0m\u001b[1;32m   1548\u001b[0m             \u001b[0mcls\u001b[0m\u001b[0;34m,\u001b[0m \u001b[0mfname\u001b[0m\u001b[0;34m,\u001b[0m \u001b[0mfvocab\u001b[0m\u001b[0;34m=\u001b[0m\u001b[0mfvocab\u001b[0m\u001b[0;34m,\u001b[0m \u001b[0mbinary\u001b[0m\u001b[0;34m=\u001b[0m\u001b[0mbinary\u001b[0m\u001b[0;34m,\u001b[0m \u001b[0mencoding\u001b[0m\u001b[0;34m=\u001b[0m\u001b[0mencoding\u001b[0m\u001b[0;34m,\u001b[0m \u001b[0municode_errors\u001b[0m\u001b[0;34m=\u001b[0m\u001b[0municode_errors\u001b[0m\u001b[0;34m,\u001b[0m\u001b[0;34m\u001b[0m\u001b[0;34m\u001b[0m\u001b[0m\n\u001b[1;32m   1549\u001b[0m             limit=limit, datatype=datatype)\n",
      "\u001b[0;32m/opt/anaconda3/lib/python3.8/site-packages/gensim/models/utils_any2vec.py\u001b[0m in \u001b[0;36m_load_word2vec_format\u001b[0;34m(cls, fname, fvocab, binary, encoding, unicode_errors, limit, datatype, binary_chunk_size)\u001b[0m\n\u001b[1;32m    273\u001b[0m \u001b[0;34m\u001b[0m\u001b[0m\n\u001b[1;32m    274\u001b[0m     \u001b[0mlogger\u001b[0m\u001b[0;34m.\u001b[0m\u001b[0minfo\u001b[0m\u001b[0;34m(\u001b[0m\u001b[0;34m\"loading projection weights from %s\"\u001b[0m\u001b[0;34m,\u001b[0m \u001b[0mfname\u001b[0m\u001b[0;34m)\u001b[0m\u001b[0;34m\u001b[0m\u001b[0;34m\u001b[0m\u001b[0m\n\u001b[0;32m--> 275\u001b[0;31m     \u001b[0;32mwith\u001b[0m \u001b[0mutils\u001b[0m\u001b[0;34m.\u001b[0m\u001b[0mopen\u001b[0m\u001b[0;34m(\u001b[0m\u001b[0mfname\u001b[0m\u001b[0;34m,\u001b[0m \u001b[0;34m'rb'\u001b[0m\u001b[0;34m)\u001b[0m \u001b[0;32mas\u001b[0m \u001b[0mfin\u001b[0m\u001b[0;34m:\u001b[0m\u001b[0;34m\u001b[0m\u001b[0;34m\u001b[0m\u001b[0m\n\u001b[0m\u001b[1;32m    276\u001b[0m         \u001b[0mheader\u001b[0m \u001b[0;34m=\u001b[0m \u001b[0mutils\u001b[0m\u001b[0;34m.\u001b[0m\u001b[0mto_unicode\u001b[0m\u001b[0;34m(\u001b[0m\u001b[0mfin\u001b[0m\u001b[0;34m.\u001b[0m\u001b[0mreadline\u001b[0m\u001b[0;34m(\u001b[0m\u001b[0;34m)\u001b[0m\u001b[0;34m,\u001b[0m \u001b[0mencoding\u001b[0m\u001b[0;34m=\u001b[0m\u001b[0mencoding\u001b[0m\u001b[0;34m)\u001b[0m\u001b[0;34m\u001b[0m\u001b[0;34m\u001b[0m\u001b[0m\n\u001b[1;32m    277\u001b[0m         \u001b[0mvocab_size\u001b[0m\u001b[0;34m,\u001b[0m \u001b[0mvector_size\u001b[0m \u001b[0;34m=\u001b[0m \u001b[0;34m(\u001b[0m\u001b[0mint\u001b[0m\u001b[0;34m(\u001b[0m\u001b[0mx\u001b[0m\u001b[0;34m)\u001b[0m \u001b[0;32mfor\u001b[0m \u001b[0mx\u001b[0m \u001b[0;32min\u001b[0m \u001b[0mheader\u001b[0m\u001b[0;34m.\u001b[0m\u001b[0msplit\u001b[0m\u001b[0;34m(\u001b[0m\u001b[0;34m)\u001b[0m\u001b[0;34m)\u001b[0m  \u001b[0;31m# throws for invalid file format\u001b[0m\u001b[0;34m\u001b[0m\u001b[0;34m\u001b[0m\u001b[0m\n",
      "\u001b[0;32m/opt/anaconda3/lib/python3.8/site-packages/smart_open/smart_open_lib.py\u001b[0m in \u001b[0;36mopen\u001b[0;34m(uri, mode, buffering, encoding, errors, newline, closefd, opener, ignore_ext, transport_params)\u001b[0m\n\u001b[1;32m    219\u001b[0m         \u001b[0;32mraise\u001b[0m \u001b[0mNotImplementedError\u001b[0m\u001b[0;34m(\u001b[0m\u001b[0mve\u001b[0m\u001b[0;34m.\u001b[0m\u001b[0margs\u001b[0m\u001b[0;34m[\u001b[0m\u001b[0;36m0\u001b[0m\u001b[0;34m]\u001b[0m\u001b[0;34m)\u001b[0m\u001b[0;34m\u001b[0m\u001b[0;34m\u001b[0m\u001b[0m\n\u001b[1;32m    220\u001b[0m \u001b[0;34m\u001b[0m\u001b[0m\n\u001b[0;32m--> 221\u001b[0;31m     \u001b[0mbinary\u001b[0m \u001b[0;34m=\u001b[0m \u001b[0m_open_binary_stream\u001b[0m\u001b[0;34m(\u001b[0m\u001b[0muri\u001b[0m\u001b[0;34m,\u001b[0m \u001b[0mbinary_mode\u001b[0m\u001b[0;34m,\u001b[0m \u001b[0mtransport_params\u001b[0m\u001b[0;34m)\u001b[0m\u001b[0;34m\u001b[0m\u001b[0;34m\u001b[0m\u001b[0m\n\u001b[0m\u001b[1;32m    222\u001b[0m     \u001b[0;32mif\u001b[0m \u001b[0mignore_ext\u001b[0m\u001b[0;34m:\u001b[0m\u001b[0;34m\u001b[0m\u001b[0;34m\u001b[0m\u001b[0m\n\u001b[1;32m    223\u001b[0m         \u001b[0mdecompressed\u001b[0m \u001b[0;34m=\u001b[0m \u001b[0mbinary\u001b[0m\u001b[0;34m\u001b[0m\u001b[0;34m\u001b[0m\u001b[0m\n",
      "\u001b[0;32m/opt/anaconda3/lib/python3.8/site-packages/smart_open/smart_open_lib.py\u001b[0m in \u001b[0;36m_open_binary_stream\u001b[0;34m(uri, mode, transport_params)\u001b[0m\n\u001b[1;32m    381\u001b[0m     \u001b[0mscheme\u001b[0m \u001b[0;34m=\u001b[0m \u001b[0m_sniff_scheme\u001b[0m\u001b[0;34m(\u001b[0m\u001b[0muri\u001b[0m\u001b[0;34m)\u001b[0m\u001b[0;34m\u001b[0m\u001b[0;34m\u001b[0m\u001b[0m\n\u001b[1;32m    382\u001b[0m     \u001b[0msubmodule\u001b[0m \u001b[0;34m=\u001b[0m \u001b[0mtransport\u001b[0m\u001b[0;34m.\u001b[0m\u001b[0mget_transport\u001b[0m\u001b[0;34m(\u001b[0m\u001b[0mscheme\u001b[0m\u001b[0;34m)\u001b[0m\u001b[0;34m\u001b[0m\u001b[0;34m\u001b[0m\u001b[0m\n\u001b[0;32m--> 383\u001b[0;31m     \u001b[0mfobj\u001b[0m \u001b[0;34m=\u001b[0m \u001b[0msubmodule\u001b[0m\u001b[0;34m.\u001b[0m\u001b[0mopen_uri\u001b[0m\u001b[0;34m(\u001b[0m\u001b[0muri\u001b[0m\u001b[0;34m,\u001b[0m \u001b[0mmode\u001b[0m\u001b[0;34m,\u001b[0m \u001b[0mtransport_params\u001b[0m\u001b[0;34m)\u001b[0m\u001b[0;34m\u001b[0m\u001b[0;34m\u001b[0m\u001b[0m\n\u001b[0m\u001b[1;32m    384\u001b[0m     \u001b[0;32mif\u001b[0m \u001b[0;32mnot\u001b[0m \u001b[0mhasattr\u001b[0m\u001b[0;34m(\u001b[0m\u001b[0mfobj\u001b[0m\u001b[0;34m,\u001b[0m \u001b[0;34m'name'\u001b[0m\u001b[0;34m)\u001b[0m\u001b[0;34m:\u001b[0m\u001b[0;34m\u001b[0m\u001b[0;34m\u001b[0m\u001b[0m\n\u001b[1;32m    385\u001b[0m         \u001b[0mfobj\u001b[0m\u001b[0;34m.\u001b[0m\u001b[0mname\u001b[0m \u001b[0;34m=\u001b[0m \u001b[0muri\u001b[0m\u001b[0;34m\u001b[0m\u001b[0;34m\u001b[0m\u001b[0m\n",
      "\u001b[0;32m/opt/anaconda3/lib/python3.8/site-packages/smart_open/local_file.py\u001b[0m in \u001b[0;36mopen_uri\u001b[0;34m(uri_as_string, mode, transport_params)\u001b[0m\n\u001b[1;32m     32\u001b[0m \u001b[0;32mdef\u001b[0m \u001b[0mopen_uri\u001b[0m\u001b[0;34m(\u001b[0m\u001b[0muri_as_string\u001b[0m\u001b[0;34m,\u001b[0m \u001b[0mmode\u001b[0m\u001b[0;34m,\u001b[0m \u001b[0mtransport_params\u001b[0m\u001b[0;34m)\u001b[0m\u001b[0;34m:\u001b[0m\u001b[0;34m\u001b[0m\u001b[0;34m\u001b[0m\u001b[0m\n\u001b[1;32m     33\u001b[0m     \u001b[0mparsed_uri\u001b[0m \u001b[0;34m=\u001b[0m \u001b[0mparse_uri\u001b[0m\u001b[0;34m(\u001b[0m\u001b[0muri_as_string\u001b[0m\u001b[0;34m)\u001b[0m\u001b[0;34m\u001b[0m\u001b[0;34m\u001b[0m\u001b[0m\n\u001b[0;32m---> 34\u001b[0;31m     \u001b[0mfobj\u001b[0m \u001b[0;34m=\u001b[0m \u001b[0mio\u001b[0m\u001b[0;34m.\u001b[0m\u001b[0mopen\u001b[0m\u001b[0;34m(\u001b[0m\u001b[0mparsed_uri\u001b[0m\u001b[0;34m[\u001b[0m\u001b[0;34m'uri_path'\u001b[0m\u001b[0;34m]\u001b[0m\u001b[0;34m,\u001b[0m \u001b[0mmode\u001b[0m\u001b[0;34m)\u001b[0m\u001b[0;34m\u001b[0m\u001b[0;34m\u001b[0m\u001b[0m\n\u001b[0m\u001b[1;32m     35\u001b[0m     \u001b[0;32mreturn\u001b[0m \u001b[0mfobj\u001b[0m\u001b[0;34m\u001b[0m\u001b[0;34m\u001b[0m\u001b[0m\n\u001b[1;32m     36\u001b[0m \u001b[0;34m\u001b[0m\u001b[0m\n",
      "\u001b[0;31mFileNotFoundError\u001b[0m: [Errno 2] No such file or directory: 'data/GoogleNews-vectors-negative300.bin.gz'"
     ]
    }
   ],
   "source": [
    "model = gensim.models.KeyedVectors.load_word2vec_format('data/GoogleNews-vectors-negative300.bin.gz', binary = True) "
   ]
  },
  {
   "cell_type": "code",
   "execution_count": null,
   "metadata": {},
   "outputs": [],
   "source": [
    "# retrain congress_tweets['tokens'] model so it has the same dimensions as the google vector\n",
    "word2vec_model = gensim.models.Word2Vec(size = 300, window=5, min_count = 1, workers = 3)\n",
    " \n",
    "word2vec_model.build_vocab(congress_tweets['tokens'])\n",
    " \n",
    "# set lockf = 1 to allow updating\n",
    " \n",
    "word2vec_model.intersect_word2vec_format('data/GoogleNews-vectors-negative300.bin.gz', lockf=1.0, binary=True)\n",
    " \n",
    "# Finish training model\n",
    "word2vec_model.train(congress_tweets['tokens'], total_examples=3, epochs = 5)"
   ]
  },
  {
   "cell_type": "code",
   "execution_count": null,
   "metadata": {},
   "outputs": [],
   "source": [
    "words = list(word2vec_model.wv.vocab)\n",
    "print(words[0:100])"
   ]
  },
  {
   "cell_type": "code",
   "execution_count": null,
   "metadata": {},
   "outputs": [],
   "source": [
    "doc = [word for word in congress_tweets['tokens'][0] if word in word2vec_model.wv.vocab]\n",
    "len(doc)"
   ]
  },
  {
   "cell_type": "code",
   "execution_count": null,
   "metadata": {},
   "outputs": [],
   "source": [
    "first_vec = []\n",
    "for token in word2vec_model.wv.__getitem__(doc):\n",
    "    first_vec.append(token[0])\n",
    "numpy.mean(first_vec)"
   ]
  },
  {
   "cell_type": "code",
   "execution_count": null,
   "metadata": {},
   "outputs": [],
   "source": [
    "def document_vector(word2vec_model, doc):\n",
    "    doc = [word for word in congress_tweets['tokens'][0] if word in word2vec_model.wv.vocab]\n",
    "    return numpy.mean(word2vec_model.wv.__getitem__(doc), axis=0)"
   ]
  },
  {
   "cell_type": "code",
   "execution_count": null,
   "metadata": {},
   "outputs": [],
   "source": [
    "# Initialize an array for the size of the corpus\n",
    "empty_list_embeddings_means = []\n",
    "for doc in congress_tweets['tokens']: # append the vector for each document\n",
    "    empty_list_embeddings_means.append(document_vector(word2vec_model, doc))\n",
    "    \n",
    "doc_average_embeddings = numpy.array(empty_list_embeddings_means) # list to array"
   ]
  },
  {
   "cell_type": "code",
   "execution_count": null,
   "metadata": {},
   "outputs": [],
   "source": [
    "doc_average_embeddings"
   ]
  },
  {
   "cell_type": "code",
   "execution_count": null,
   "metadata": {},
   "outputs": [],
   "source": [
    "word2vec_features_df = pd.DataFrame(doc_average_embeddings)"
   ]
  },
  {
   "cell_type": "markdown",
   "metadata": {},
   "source": [
    "## 7. Classification"
   ]
  },
  {
   "cell_type": "markdown",
   "metadata": {},
   "source": [
    "Either use cross-validation or partition your data with training/validation/test sets for this section. Do the following:\n",
    "\n",
    "* Choose a supervised learning algorithm such as logistic regression, random forest etc. \n",
    "* Train six models. For each of the three dataframes you created in the featurization part, train one model to predict whether the author of the tweet is a Democrat or Republican, and a second model to predict whether the author is a Senator or Representative.\n",
    "* Report the accuracy and other relevant metrics for each of these six models.\n",
    "* Choose the featurization technique associated with your best model. Combine those text features with non-text features. Train two more models: (1) A supervised learning algorithm that uses just the non-text features and (2) a supervised learning algorithm that combines text and non-text features. Report accuracy and other relevant metrics. \n",
    "\n",
    "If time permits, you are encouraged to use hyperparameter tuning or AutoML techniques like TPOT, but are not explicitly required to do so."
   ]
  },
  {
   "cell_type": "markdown",
   "metadata": {},
   "source": [
    "### Train Six Models with Just Text"
   ]
  },
  {
   "cell_type": "code",
   "execution_count": null,
   "metadata": {},
   "outputs": [],
   "source": [
    "congress_tweets.loc[congress_tweets['party'] == \"Independent\"]"
   ]
  },
  {
   "cell_type": "code",
   "execution_count": null,
   "metadata": {},
   "outputs": [],
   "source": [
    "congress_tweets['ReporDem'] = congress_tweets['party'].apply(lambda x: 0 if x=='Democrat' and x!='Independent' else 1)\n",
    "congress_tweets.head()"
   ]
  },
  {
   "cell_type": "code",
   "execution_count": null,
   "metadata": {},
   "outputs": [],
   "source": [
    "congress_tweets.dtypes"
   ]
  },
  {
   "cell_type": "code",
   "execution_count": null,
   "metadata": {},
   "outputs": [],
   "source": [
    "X"
   ]
  },
  {
   "cell_type": "code",
   "execution_count": null,
   "metadata": {},
   "outputs": [],
   "source": [
    "# Engineered Text Features\n",
    "engineered_features = congress_tweets[['tweet_len', 'word_count', 'polarity', 'subjectivity']].reset_index(drop = True)\n",
    "\n",
    "# Topic Model + Engineered Features\n",
    "engineered_features_with_topics = topic_dist_df.join(engineered_features.reset_index(drop = True))\n",
    "\n",
    "# Non-text features\n",
    "non_text_features = congress_tweets[['position', 'joined_congress_date',\n",
    "       'gender', 'state','trump_2016_state_share', 'clinton_2016_state_share']]\n",
    "\n",
    "non_text_features_dummies = pd.get_dummies(non_text_features).reset_index(drop = True)\n",
    "\n",
    "# Non-text features + engineered features\n",
    "non_text_engineered_features = non_text_features_dummies.reset_index(drop = True).join(engineered_features_with_topics)\n",
    "\n",
    "# Non-text features + tfidf\n",
    "tfidf_df = pd.DataFrame(tfidf_matrix.todense(), columns = tf.get_feature_names())\n",
    "non_text_plus_tfidf = non_text_features_dummies.reset_index(drop = True).join(tfidf_df)\n",
    "\n",
    "# Top 25 ngrams + non-text\n",
    "non_text_with_ngrams = non_text_features_dummies.reset_index(drop = True).join(top_25_ngrams)"
   ]
  },
  {
   "cell_type": "code",
   "execution_count": null,
   "metadata": {},
   "outputs": [],
   "source": [
    "non_text_features_dummies"
   ]
  },
  {
   "cell_type": "code",
   "execution_count": null,
   "metadata": {},
   "outputs": [],
   "source": [
    "##train the Y and do the thing you need to do \n",
    "dataframes = [engineered_features, \n",
    "              engineered_features_with_topics,\n",
    "              non_text_features_dummies,\n",
    "              non_text_engineered_features,\n",
    "              tfidf_df, \n",
    "              non_text_plus_tfidf,\n",
    "             top_25_ngrams,\n",
    "             non_text_with_ngrams,\n",
    "            word2vec_features_df]\n",
    "\n",
    "featurization_technique = ['Engineered Text Features',\n",
    "                            'Engineered Features + Topic Model',\n",
    "                           'Non-Text Features',\n",
    "                           'Non-Text + Engineered Text Features',\n",
    "                           'Tf-idf Features',\n",
    "                           'Non-Text + Tf-idf Features',\n",
    "                          'Top 25 N-Gram Features',\n",
    "                          'Non-Text + Top 25 N-Gram Features',\n",
    "                          'word2vec_features_df']\n",
    "\n",
    "                          \n",
    "lb_style = LabelBinarizer()\n",
    "y = lb_style.fit_transform(congress_tweets[\"ReporDem\"])"
   ]
  },
  {
   "cell_type": "code",
   "execution_count": null,
   "metadata": {},
   "outputs": [],
   "source": [
    "# six models ([engineered features, frequency-based, embedding] * [democrat/republican, senator/representative])\n",
    "\n",
    "##There are the first three models with democrat and republican \n",
    "for dataframe, featurization in zip(dataframes, featurization_technique):\n",
    "    X_train, X_test, y_train, y_test = train_test_split(dataframe, \n",
    "                                                        y, \n",
    "                                                        train_size = .80, \n",
    "                                                        test_size=0.20, \n",
    "                                                        random_state = 10)\n",
    "    # create a model\n",
    "    logit_reg = LogisticRegression(max_iter=200)\n",
    "    \n",
    "    # fit the model\n",
    "    #logit_model = logit_reg_extra.fit(X_train, y_train.ravel())\n",
    "    logit_model = logit_reg.fit(X_train, y_train.ravel())\n",
    "\n",
    "    y_pred = logit_model.predict(X_test)\n",
    "    \n",
    "    cf_matrix = confusion_matrix(y_test, y_pred, normalize = \"true\")\n",
    "\n",
    "    df_cm = pd.DataFrame(cf_matrix, range(2),\n",
    "                      range(2))\n",
    "\n",
    "    df_cm = df_cm.rename(index=str, columns={0: \"Democrat Tweet\", 1: \"Republican Tweet\"})\n",
    "    df_cm.index = [\"Democrat Tweet\", \"Republican Tweet\"]\n",
    "    plt.figure(figsize = (10,7))\n",
    "    sns.set(font_scale=1.4)#for label size\n",
    "    sns.heatmap(df_cm, \n",
    "               annot=True,\n",
    "               annot_kws={\"size\": 16},\n",
    "               fmt='g')\n",
    "\n",
    "    plt.title(featurization)\n",
    "    plt.xlabel(\"Predicted Label\")\n",
    "    plt.ylabel(\"True Label\")\n",
    "    plt.show()"
   ]
  },
  {
   "cell_type": "code",
   "execution_count": null,
   "metadata": {},
   "outputs": [],
   "source": [
    "congress_tweets.head()"
   ]
  },
  {
   "cell_type": "code",
   "execution_count": null,
   "metadata": {},
   "outputs": [],
   "source": [
    "sns.scatterplot(x = congress_tweets['polarity'], y = congress_tweets['subjectivity'], hue = congress_tweets['ReporDem'])"
   ]
  },
  {
   "cell_type": "markdown",
   "metadata": {},
   "source": [
    "### Two Combined Models"
   ]
  },
  {
   "cell_type": "code",
   "execution_count": null,
   "metadata": {},
   "outputs": [],
   "source": [
    "# two models ([best text features + non-text features] * [democrat/republican, senator/representative])\n",
    "\n",
    "\n",
    "..."
   ]
  },
  {
   "cell_type": "markdown",
   "metadata": {},
   "source": [
    "## 8. Discussion Questions"
   ]
  },
  {
   "cell_type": "markdown",
   "metadata": {},
   "source": [
    "1. Why do standard preprocessing techniques need to be further customized to a particular corpus?"
   ]
  },
  {
   "cell_type": "markdown",
   "metadata": {},
   "source": [
    "**Your Answer Here**"
   ]
  },
  {
   "cell_type": "markdown",
   "metadata": {},
   "source": [
    "2. Did you find evidence for the idea that Democrats and Republicans have different sentiments in their tweets? What about Senators and Representatives?"
   ]
  },
  {
   "cell_type": "markdown",
   "metadata": {},
   "source": [
    "**Your Answer Here**"
   ]
  },
  {
   "cell_type": "markdown",
   "metadata": {},
   "source": [
    "3. Why is validating your exploratory and unsupervised learning approaches with a supervised learning algorithm valuable?"
   ]
  },
  {
   "cell_type": "markdown",
   "metadata": {},
   "source": [
    "**Your Answer Here**"
   ]
  },
  {
   "cell_type": "markdown",
   "metadata": {},
   "source": [
    "4. Did text only, non-text only, or text and non-text features together perform the best? What is the intuition behind combining text and non-text features in a supervised learning algorithm?"
   ]
  },
  {
   "cell_type": "markdown",
   "metadata": {},
   "source": [
    "**Your Answer Here**"
   ]
  },
  {
   "cell_type": "code",
   "execution_count": null,
   "metadata": {},
   "outputs": [],
   "source": []
  },
  {
   "cell_type": "markdown",
   "metadata": {},
   "source": [
    "### PCA"
   ]
  },
  {
   "cell_type": "code",
   "execution_count": null,
   "metadata": {},
   "outputs": [],
   "source": [
    "#X = word2vec_model.wv.__getitem__(word2vec_model.wv.vocab)"
   ]
  },
  {
   "cell_type": "code",
   "execution_count": null,
   "metadata": {},
   "outputs": [],
   "source": [
    "# scale the data\n",
    "#X_std = StandardScaler().fit_transform(X)"
   ]
  },
  {
   "cell_type": "code",
   "execution_count": null,
   "metadata": {},
   "outputs": [],
   "source": [
    "# make a PCA\n",
    "#pca = PCA(n_components=2) #set n_components to 2 to graph in 2-D\n",
    "\n",
    "# fit the standardized data\n",
    "#Y_pca = pca.fit_transform(X_std)"
   ]
  },
  {
   "cell_type": "code",
   "execution_count": null,
   "metadata": {},
   "outputs": [],
   "source": [
    "#sns.scatterplot(x = Y_pca[:, 0], y = Y_pca[:, 1])"
   ]
  },
  {
   "cell_type": "code",
   "execution_count": null,
   "metadata": {},
   "outputs": [],
   "source": [
    "#import random\n",
    "#random.seed(10)\n",
    "#rando = random.sample(list(model.wv.vocab), 25)\n",
    "\n",
    "#X1 = model.wv.__getitem__(rando)\n",
    "#pca1 = PCA(n_components=2)\n",
    "#result = pca.fit_transform(X1)\n",
    "#result_df = pd.DataFrame(result, columns = ['PC1', 'PC2'], index = rando)\n",
    "#sns.scatterplot(x = 'PC1', y = 'PC2', data = result_df)\n",
    "\n",
    "#from adjustText import adjust_text\n",
    "#texts = []\n",
    "\n",
    "# Append words to list\n",
    "#for word in result_df.index:\n",
    "    texts.append(plt.text(result_df.loc[word, 'PC1'], result_df.loc[word, 'PC2'], word, fontsize = 8))\n",
    "    \n",
    "# Plot text using adjust_text (because overlapping text is hard to read)\n",
    "#adjust_text(texts, force_points = 0.4, force_text = 0.4, \n",
    "            expand_points = (2,1), expand_text = (1,2),\n",
    "            arrowprops = dict(arrowstyle = \"-\", color = 'black', lw = 0.5))\n",
    "\n",
    "#plt.show()"
   ]
  },
  {
   "cell_type": "code",
   "execution_count": null,
   "metadata": {},
   "outputs": [],
   "source": [
    "# Engineered Text Features\n",
    "#engineered_features = congress_tweets[['tweet_len', 'word_count', 'polarity', 'subjectivity']].reset_index(drop = True)\n",
    "\n",
    "# Topic Model + Engineered Features\n",
    "#engineered_features_with_topics = topic_dist_df.join(engineered_features.reset_index(drop = True))\n",
    "\n",
    "# Non-text features\n",
    "#non_text_features = congress_tweets[['position', 'joined_congress_date','gender', 'state','trump_2016_state_share', 'clinton_2016_state_share',\n",
    "                                    'obama_2012_state_share', 'romney_2012_state_share']]\n",
    "#removing party\n",
    "\n",
    "#non_text_features_dummies = pd.get_dummies(non_text_features).reset_index(drop = True)\n",
    "\n",
    "\n",
    "# Non-text features + engineered features\n",
    "#non_text_engineered_features = non_text_features_dummies.reset_index(drop = True).join(engineered_features_with_topics)\n",
    "\n",
    "# Non-text features + tfidf\n",
    "#tfidf_df = pd.DataFrame(tfidf_matrix.todense(), columns = tf.get_feature_names())\n",
    "#non_text_plus_tfidf = non_text_features_dummies.reset_index(drop = True).join(tfidf_df)\n",
    "\n",
    "# Top 25 ngrams + non-text\n",
    "#non_text_with_ngrams = non_text_features_dummies.reset_index(drop = True).join(top_25_ngrams)"
   ]
  },
  {
   "cell_type": "code",
   "execution_count": null,
   "metadata": {},
   "outputs": [],
   "source": [
    "#dataframes = [engineered_features, \n",
    "             # engineered_features_with_topics,\n",
    "              #non_text_features_dummies,\n",
    "              #non_text_engineered_features,\n",
    "              #tfidf_df, \n",
    "              #non_text_plus_tfidf,\n",
    "             #top_25_ngrams,\n",
    "            # non_text_with_ngrams,\n",
    "            # word2vec_features_df]\n",
    "\n",
    "#featurization_technique = ['Engineered Text Features',\n",
    "                         #   'Engineered Features + Topic Model',\n",
    "                          # 'Non-Text Features',\n",
    "                          # 'Non-Text + Engineered Text Features',\n",
    "                          # 'Tf-idf Features',\n",
    "                          # 'Non-Text + Tf-idf Features',\n",
    "                          #'Top 25 N-Gram Features',\n",
    "                          #'Non-Text + Top 25 N-Gram Features',\n",
    "                          #'word2vec_features_df']"
   ]
  },
  {
   "cell_type": "markdown",
   "metadata": {},
   "source": [
    "#Average Word Embeddings Classification\n",
    "\n",
    "#y = congress_tweets[\"ReporDem\"]\n",
    "\n",
    "#X_train, X_test, y_train, y_test = train_test_split(word2vec_features_df, \n",
    "                                                    y, \n",
    "                                                    train_size = .80, \n",
    "                                                    test_size=0.20, \n",
    "                                                    random_state = 10)\n",
    "# create a model\n",
    "#logit_reg = LogisticRegression()\n",
    "\n",
    "# fit the model\n",
    "#logit_model = logit_reg.fit(X_train, y_train.ravel())\n",
    "\n",
    "#y_pred = logit_model.predict(X_test)\n",
    "\n",
    "cf_matrix = confusion_matrix(y_test, y_pred, normalize = \"true\")\n",
    "\n",
    "df_cm = pd.DataFrame(cf_matrix, range(2),\n",
    "                  range(2))\n",
    "\n",
    "df_cm = df_cm.rename(index=str, columns={0: \"Democrat\", 1: \"Republican\"})\n",
    "df_cm.index = [\"Democrat\", \"Republican\"]\n",
    "plt.figure(figsize = (10,7))\n",
    "sns.set(font_scale=1.4)#for label size\n",
    "sns.heatmap(df_cm, \n",
    "           annot=True,\n",
    "           annot_kws={\"size\": 16},\n",
    "           fmt='g')\n",
    "\n",
    "plt.title('Google Document Averaged Embeddings')\n",
    "plt.xlabel(\"Predicted Label\")\n",
    "plt.ylabel(\"True Label\")\n",
    "plt.show()"
   ]
  }
 ],
 "metadata": {
  "kernelspec": {
   "display_name": "Python 3",
   "language": "python",
   "name": "python3"
  },
  "language_info": {
   "codemirror_mode": {
    "name": "ipython",
    "version": 3
   },
   "file_extension": ".py",
   "mimetype": "text/x-python",
   "name": "python",
   "nbconvert_exporter": "python",
   "pygments_lexer": "ipython3",
   "version": "3.8.5"
  }
 },
 "nbformat": 4,
 "nbformat_minor": 4
}
