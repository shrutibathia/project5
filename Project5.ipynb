{
 "cells": [
  {
   "cell_type": "code",
   "execution_count": 96,
   "metadata": {},
   "outputs": [],
   "source": [
    "# pandas and numpy\n",
    "import pandas as pd\n",
    "import numpy as numpy\n",
    "\n",
    "# punctuation, stop words and English language model\n",
    "from string import punctuation\n",
    "from spacy.lang.en.stop_words import STOP_WORDS\n",
    "import en_core_web_sm\n",
    "nlp = en_core_web_sm.load()\n",
    "\n",
    "# textblob\n",
    "from textblob import TextBlob\n",
    "\n",
    "# countvectorizer, tfidfvectorizer\n",
    "from sklearn.feature_extraction.text import CountVectorizer, TfidfVectorizer\n",
    "\n",
    "# gensim\n",
    "import gensim\n",
    "from gensim import models\n",
    "\n",
    "# plotting\n",
    "import matplotlib.pyplot as plt\n",
    "import seaborn as sns\n",
    "%matplotlib inline"
   ]
  },
  {
   "cell_type": "code",
   "execution_count": 97,
   "metadata": {
    "scrolled": true
   },
   "outputs": [
    {
     "data": {
      "text/html": [
       "<div>\n",
       "<style scoped>\n",
       "    .dataframe tbody tr th:only-of-type {\n",
       "        vertical-align: middle;\n",
       "    }\n",
       "\n",
       "    .dataframe tbody tr th {\n",
       "        vertical-align: top;\n",
       "    }\n",
       "\n",
       "    .dataframe thead th {\n",
       "        text-align: right;\n",
       "    }\n",
       "</style>\n",
       "<table border=\"1\" class=\"dataframe\">\n",
       "  <thead>\n",
       "    <tr style=\"text-align: right;\">\n",
       "      <th></th>\n",
       "      <th>index</th>\n",
       "      <th>tweet_id</th>\n",
       "      <th>screen_name</th>\n",
       "      <th>datetime</th>\n",
       "      <th>text</th>\n",
       "      <th>name_wikipedia</th>\n",
       "      <th>position</th>\n",
       "      <th>joined_congress_date</th>\n",
       "      <th>birthday</th>\n",
       "      <th>gender</th>\n",
       "      <th>state</th>\n",
       "      <th>district_number</th>\n",
       "      <th>party</th>\n",
       "      <th>trump_2016_state_share</th>\n",
       "      <th>clinton_2016_state_share</th>\n",
       "      <th>obama_2012_state_share</th>\n",
       "      <th>romney_2012_state_share</th>\n",
       "    </tr>\n",
       "  </thead>\n",
       "  <tbody>\n",
       "    <tr>\n",
       "      <th>0</th>\n",
       "      <td>0</td>\n",
       "      <td>1.081010e+18</td>\n",
       "      <td>RepByrne</td>\n",
       "      <td>2019-01-03T21:23:00-05:00</td>\n",
       "      <td>Great news for Baldwin County! The economy of ...</td>\n",
       "      <td>Bradley Byrne</td>\n",
       "      <td>Rep</td>\n",
       "      <td>8-Jan-14</td>\n",
       "      <td>2/16/1955</td>\n",
       "      <td>M</td>\n",
       "      <td>AL</td>\n",
       "      <td>1</td>\n",
       "      <td>Republican</td>\n",
       "      <td>1,318,255</td>\n",
       "      <td>729,547</td>\n",
       "      <td>795,696</td>\n",
       "      <td>1,255,925</td>\n",
       "    </tr>\n",
       "    <tr>\n",
       "      <th>1</th>\n",
       "      <td>1</td>\n",
       "      <td>1.080880e+18</td>\n",
       "      <td>RepByrne</td>\n",
       "      <td>2019-01-03T12:30:38-05:00</td>\n",
       "      <td>Outstanding news today from @Airbus! @JetBlue ...</td>\n",
       "      <td>Bradley Byrne</td>\n",
       "      <td>Rep</td>\n",
       "      <td>8-Jan-14</td>\n",
       "      <td>2/16/1955</td>\n",
       "      <td>M</td>\n",
       "      <td>AL</td>\n",
       "      <td>1</td>\n",
       "      <td>Republican</td>\n",
       "      <td>1,318,255</td>\n",
       "      <td>729,547</td>\n",
       "      <td>795,696</td>\n",
       "      <td>1,255,925</td>\n",
       "    </tr>\n",
       "    <tr>\n",
       "      <th>2</th>\n",
       "      <td>2</td>\n",
       "      <td>1.080830e+18</td>\n",
       "      <td>RepByrne</td>\n",
       "      <td>2019-01-03T09:12:07-05:00</td>\n",
       "      <td>RT @senatemajldr Democrats will have to get se...</td>\n",
       "      <td>Bradley Byrne</td>\n",
       "      <td>Rep</td>\n",
       "      <td>8-Jan-14</td>\n",
       "      <td>2/16/1955</td>\n",
       "      <td>M</td>\n",
       "      <td>AL</td>\n",
       "      <td>1</td>\n",
       "      <td>Republican</td>\n",
       "      <td>1,318,255</td>\n",
       "      <td>729,547</td>\n",
       "      <td>795,696</td>\n",
       "      <td>1,255,925</td>\n",
       "    </tr>\n",
       "    <tr>\n",
       "      <th>3</th>\n",
       "      <td>3</td>\n",
       "      <td>1.080890e+18</td>\n",
       "      <td>RepByrne</td>\n",
       "      <td>2019-01-03T13:20:53-05:00</td>\n",
       "      <td>Here is a sign of things to come: As Democrats...</td>\n",
       "      <td>Bradley Byrne</td>\n",
       "      <td>Rep</td>\n",
       "      <td>8-Jan-14</td>\n",
       "      <td>2/16/1955</td>\n",
       "      <td>M</td>\n",
       "      <td>AL</td>\n",
       "      <td>1</td>\n",
       "      <td>Republican</td>\n",
       "      <td>1,318,255</td>\n",
       "      <td>729,547</td>\n",
       "      <td>795,696</td>\n",
       "      <td>1,255,925</td>\n",
       "    </tr>\n",
       "    <tr>\n",
       "      <th>4</th>\n",
       "      <td>4</td>\n",
       "      <td>1.080870e+18</td>\n",
       "      <td>RepByrne</td>\n",
       "      <td>2019-01-03T12:10:26-05:00</td>\n",
       "      <td>Let's understand what we're dealing with here:...</td>\n",
       "      <td>Bradley Byrne</td>\n",
       "      <td>Rep</td>\n",
       "      <td>8-Jan-14</td>\n",
       "      <td>2/16/1955</td>\n",
       "      <td>M</td>\n",
       "      <td>AL</td>\n",
       "      <td>1</td>\n",
       "      <td>Republican</td>\n",
       "      <td>1,318,255</td>\n",
       "      <td>729,547</td>\n",
       "      <td>795,696</td>\n",
       "      <td>1,255,925</td>\n",
       "    </tr>\n",
       "  </tbody>\n",
       "</table>\n",
       "</div>"
      ],
      "text/plain": [
       "   index      tweet_id screen_name                   datetime  \\\n",
       "0      0  1.081010e+18    RepByrne  2019-01-03T21:23:00-05:00   \n",
       "1      1  1.080880e+18    RepByrne  2019-01-03T12:30:38-05:00   \n",
       "2      2  1.080830e+18    RepByrne  2019-01-03T09:12:07-05:00   \n",
       "3      3  1.080890e+18    RepByrne  2019-01-03T13:20:53-05:00   \n",
       "4      4  1.080870e+18    RepByrne  2019-01-03T12:10:26-05:00   \n",
       "\n",
       "                                                text name_wikipedia position  \\\n",
       "0  Great news for Baldwin County! The economy of ...  Bradley Byrne      Rep   \n",
       "1  Outstanding news today from @Airbus! @JetBlue ...  Bradley Byrne      Rep   \n",
       "2  RT @senatemajldr Democrats will have to get se...  Bradley Byrne      Rep   \n",
       "3  Here is a sign of things to come: As Democrats...  Bradley Byrne      Rep   \n",
       "4  Let's understand what we're dealing with here:...  Bradley Byrne      Rep   \n",
       "\n",
       "  joined_congress_date   birthday gender state district_number       party  \\\n",
       "0             8-Jan-14  2/16/1955      M    AL               1  Republican   \n",
       "1             8-Jan-14  2/16/1955      M    AL               1  Republican   \n",
       "2             8-Jan-14  2/16/1955      M    AL               1  Republican   \n",
       "3             8-Jan-14  2/16/1955      M    AL               1  Republican   \n",
       "4             8-Jan-14  2/16/1955      M    AL               1  Republican   \n",
       "\n",
       "  trump_2016_state_share clinton_2016_state_share obama_2012_state_share  \\\n",
       "0              1,318,255                  729,547                795,696   \n",
       "1              1,318,255                  729,547                795,696   \n",
       "2              1,318,255                  729,547                795,696   \n",
       "3              1,318,255                  729,547                795,696   \n",
       "4              1,318,255                  729,547                795,696   \n",
       "\n",
       "  romney_2012_state_share  \n",
       "0               1,255,925  \n",
       "1               1,255,925  \n",
       "2               1,255,925  \n",
       "3               1,255,925  \n",
       "4               1,255,925  "
      ]
     },
     "execution_count": 97,
     "metadata": {},
     "output_type": "execute_result"
    }
   ],
   "source": [
    "congress_tweets = pd.read_csv(\"116th Congressional Tweets and Demographics.csv\")\n",
    "congress_tweets = congress_tweets.dropna(subset = ['text']).reset_index()\n",
    "# fill in this line of code with a sufficient number of tweets, depending on your computational resources\n",
    "congress_tweets.head()"
   ]
  },
  {
   "cell_type": "code",
   "execution_count": 98,
   "metadata": {},
   "outputs": [
    {
     "data": {
      "text/plain": [
       "(946791, 17)"
      ]
     },
     "execution_count": 98,
     "metadata": {},
     "output_type": "execute_result"
    }
   ],
   "source": [
    "# using only the text column of the dataframe\n",
    "#text = congress_tweets[['text']]\n",
    "#text = congress_tweets.filter(['text'], axis=1)\n",
    "#text.head()\n",
    "congress_tweets.shape"
   ]
  },
  {
   "cell_type": "code",
   "execution_count": 99,
   "metadata": {},
   "outputs": [],
   "source": [
    "congress_tweets = congress_tweets.sample(frac=0.001, replace = True, random_state=1)"
   ]
  },
  {
   "cell_type": "code",
   "execution_count": 6,
   "metadata": {},
   "outputs": [
    {
     "data": {
      "text/plain": [
       "\"                                                     text\\n0       Great news for Baldwin County! The economy of ...\\n1       Outstanding news today from @Airbus! @JetBlue ...\\n2       RT @senatemajldr Democrats will have to get se...\\n3       Here is a sign of things to come: As Democrats...\\n4       Let's understand what we're dealing with here:...\\n...                                                   ...\\n946786  From our family to yours, we wish you a very M...\\n946787  Bobbi and I wish everyone a wonderful Christma...\\n946788  God bless the six brave law enforcement office...\\n946789  Wishing a healthy and very happy New Year to e...\\n946790  Bobbi and I wish you all a healthy and happy N...\\n\\n[946791 rows x 1 columns]\""
      ]
     },
     "execution_count": 6,
     "metadata": {},
     "output_type": "execute_result"
    }
   ],
   "source": [
    "# converting dataframe to string for NLP\n",
    "#text = str(text)\n",
    "#text\n",
    "#write.csv for dataframe\n",
    "# json.dump or something\n",
    "#text['text']"
   ]
  },
  {
   "cell_type": "code",
   "execution_count": 79,
   "metadata": {},
   "outputs": [],
   "source": [
    "nlp = en_core_web_sm.load()\n",
    "##cfpb['tokens'] = cfpb['Consumer complaint narrative'].map(lambda x: rem_punc_stop(x))\n",
    "congress_tweets['text_parsed'] = congress_tweets['text'].apply(nlp)"
   ]
  },
  {
   "cell_type": "code",
   "execution_count": 80,
   "metadata": {},
   "outputs": [
    {
     "data": {
      "text/html": [
       "<div>\n",
       "<style scoped>\n",
       "    .dataframe tbody tr th:only-of-type {\n",
       "        vertical-align: middle;\n",
       "    }\n",
       "\n",
       "    .dataframe tbody tr th {\n",
       "        vertical-align: top;\n",
       "    }\n",
       "\n",
       "    .dataframe thead th {\n",
       "        text-align: right;\n",
       "    }\n",
       "</style>\n",
       "<table border=\"1\" class=\"dataframe\">\n",
       "  <thead>\n",
       "    <tr style=\"text-align: right;\">\n",
       "      <th></th>\n",
       "      <th>index</th>\n",
       "      <th>tweet_id</th>\n",
       "      <th>screen_name</th>\n",
       "      <th>datetime</th>\n",
       "      <th>text</th>\n",
       "      <th>name_wikipedia</th>\n",
       "      <th>position</th>\n",
       "      <th>joined_congress_date</th>\n",
       "      <th>birthday</th>\n",
       "      <th>gender</th>\n",
       "      <th>state</th>\n",
       "      <th>district_number</th>\n",
       "      <th>party</th>\n",
       "      <th>trump_2016_state_share</th>\n",
       "      <th>clinton_2016_state_share</th>\n",
       "      <th>obama_2012_state_share</th>\n",
       "      <th>romney_2012_state_share</th>\n",
       "      <th>text_parsed</th>\n",
       "    </tr>\n",
       "  </thead>\n",
       "  <tbody>\n",
       "    <tr>\n",
       "      <th>645097</th>\n",
       "      <td>645097</td>\n",
       "      <td>1.258820e+18</td>\n",
       "      <td>RepAGonzalez</td>\n",
       "      <td>2020-05-08T14:03:49-04:00</td>\n",
       "      <td>Rebuilding America will be a long and bumpy ro...</td>\n",
       "      <td>Anthony Gonzalez</td>\n",
       "      <td>Rep</td>\n",
       "      <td>3-Jan-19</td>\n",
       "      <td>9/19/1984</td>\n",
       "      <td>M</td>\n",
       "      <td>OH</td>\n",
       "      <td>16</td>\n",
       "      <td>Republican</td>\n",
       "      <td>2,841,005</td>\n",
       "      <td>2,394,164</td>\n",
       "      <td>2,827,709</td>\n",
       "      <td>2,661,437</td>\n",
       "      <td>(Rebuilding, America, will, be, a, long, and, ...</td>\n",
       "    </tr>\n",
       "  </tbody>\n",
       "</table>\n",
       "</div>"
      ],
      "text/plain": [
       "         index      tweet_id   screen_name                   datetime  \\\n",
       "645097  645097  1.258820e+18  RepAGonzalez  2020-05-08T14:03:49-04:00   \n",
       "\n",
       "                                                     text    name_wikipedia  \\\n",
       "645097  Rebuilding America will be a long and bumpy ro...  Anthony Gonzalez   \n",
       "\n",
       "       position joined_congress_date   birthday gender state district_number  \\\n",
       "645097      Rep             3-Jan-19  9/19/1984      M    OH              16   \n",
       "\n",
       "             party trump_2016_state_share clinton_2016_state_share  \\\n",
       "645097  Republican              2,841,005                2,394,164   \n",
       "\n",
       "       obama_2012_state_share romney_2012_state_share  \\\n",
       "645097              2,827,709               2,661,437   \n",
       "\n",
       "                                              text_parsed  \n",
       "645097  (Rebuilding, America, will, be, a, long, and, ...  "
      ]
     },
     "execution_count": 80,
     "metadata": {},
     "output_type": "execute_result"
    }
   ],
   "source": [
    "congress_tweets.head()"
   ]
  },
  {
   "cell_type": "code",
   "execution_count": 81,
   "metadata": {},
   "outputs": [],
   "source": [
    "def rem_punc_stop(text):\n",
    "    stop_words = STOP_WORDS\n",
    "    punc = set(punctuation)\n",
    "    \n",
    "    punc_free = \"\".join([ch for ch in text if ch not in punc])\n",
    "    \n",
    "    doc = nlp(punc_free)\n",
    "    \n",
    "    spacy_words = [token.text for token in doc]\n",
    "    \n",
    "    spacy_words = [word for word in spacy_words if not word.startswith('http')]\n",
    "    \n",
    "    no_punc = [word for word in spacy_words if word not in stop_words]\n",
    "    \n",
    "    return no_punc"
   ]
  },
  {
   "cell_type": "code",
   "execution_count": 88,
   "metadata": {},
   "outputs": [],
   "source": [
    "#tokens_reduced = rem_punc_stop(text)\n",
    "#congress_tweets['text_parsed_new'] = rem_punc_stop(congress_tweets['text_parsed'])\n",
    "congress_tweets['text'] =congress_tweets['text'].apply(rem_punc_stop)"
   ]
  },
  {
   "cell_type": "code",
   "execution_count": 100,
   "metadata": {},
   "outputs": [],
   "source": [
    "bow_vector = CountVectorizer(tokenizer = rem_punc_stop, ngram_range=(1,1))"
   ]
  },
  {
   "cell_type": "code",
   "execution_count": 102,
   "metadata": {},
   "outputs": [],
   "source": [
    "bow_matrix = bow_vector.fit_transform(congress_tweets['text'])"
   ]
  },
  {
   "cell_type": "code",
   "execution_count": 103,
   "metadata": {},
   "outputs": [
    {
     "data": {
      "text/plain": [
       "matrix([[0, 0, 0, ..., 0, 0, 0],\n",
       "        [0, 0, 0, ..., 0, 0, 0],\n",
       "        [0, 0, 0, ..., 0, 0, 0],\n",
       "        ...,\n",
       "        [0, 0, 0, ..., 0, 0, 0],\n",
       "        [0, 1, 0, ..., 0, 0, 0],\n",
       "        [0, 0, 0, ..., 0, 0, 0]])"
      ]
     },
     "execution_count": 103,
     "metadata": {},
     "output_type": "execute_result"
    }
   ],
   "source": [
    "bow_matrix.todense()"
   ]
  },
  {
   "cell_type": "code",
   "execution_count": 104,
   "metadata": {},
   "outputs": [
    {
     "data": {
      "text/plain": [
       "['\\n', '\\n\\n', '\\n\\n ', '\\n ', '\\n \\n', '\\n\\xa0\\n', ' ', ' \\n', ' \\n\\n', '  ']"
      ]
     },
     "execution_count": 104,
     "metadata": {},
     "output_type": "execute_result"
    }
   ],
   "source": [
    "feature_names = bow_vector.get_feature_names()\n",
    "feature_names[0:10]"
   ]
  },
  {
   "cell_type": "code",
   "execution_count": null,
   "metadata": {},
   "outputs": [],
   "source": []
  }
 ],
 "metadata": {
  "kernelspec": {
   "display_name": "Python 3",
   "language": "python",
   "name": "python3"
  },
  "language_info": {
   "codemirror_mode": {
    "name": "ipython",
    "version": 3
   },
   "file_extension": ".py",
   "mimetype": "text/x-python",
   "name": "python",
   "nbconvert_exporter": "python",
   "pygments_lexer": "ipython3",
   "version": "3.8.3"
  }
 },
 "nbformat": 4,
 "nbformat_minor": 4
}
