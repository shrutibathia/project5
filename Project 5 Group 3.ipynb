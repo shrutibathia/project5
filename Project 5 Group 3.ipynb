{
 "cells": [
  {
   "cell_type": "markdown",
   "metadata": {},
   "source": [
    "## [Computational Social Science] Project 5: Natural Language Processing\n",
    "**Group 3: Jose Aveldanes, Shruti Bathia, and Diana Casanova**"
   ]
  },
  {
   "cell_type": "markdown",
   "metadata": {},
   "source": [
    "## 1. Introduction\n",
    "In this project, you will use natural language processing techniques to explore a dataset containing tweets from members of the 116th United States Congress that met from January 3, 2019 to January 2, 2021. The dataset has also been cleaned to contain information about each legislator. Concretely, you will do the following:\n",
    "\n",
    "* Preprocess the text of legislators' tweets\n",
    "* Conduct Exploratory Data Analysis of the text\n",
    "* Use sentiment analysis to explore differences between legislators' tweets\n",
    "* Featurize text with manual feature engineering, frequency-based, and vector-based techniques\n",
    "* Predict legislators' political parties and whether they are a Senator or Representative\n",
    "\n",
    "You will explore two questions that relate to two central findings in political science and examine how they relate to the text of legislators' tweets. First, political scientists have argued that U.S. politics is currently highly polarized relative to other periods in American history, but also that the polarization is asymmetric. Historically, there were several conservative Democrats (i.e. \"blue dog Democrats\") and liberal Republicans (i.e. \"Rockefeller Republicans\"), as measured by popular measurement tools like [DW-NOMINATE](https://en.wikipedia.org/wiki/NOMINATE_(scaling_method)#:~:text=DW\\%2DNOMINATE\\%20scores\\%20have\\%20been,in\\%20the\\%20liberal\\%2Dconservative\\%20scale.). However, in the last few years, there are few if any examples of any Democrat in Congress being further to the right than any Republican and vice versa. At the same time, scholars have argued that this polarization is mostly a function of the Republican party moving further right than the Democratic party has moved left. **Does this sort of asymmetric polarization show up in how politicians communicate to their constituents through tweets?**\n",
    "\n",
    "Second, the U.S. Congress is a bicameral legislature, and there has long been debate about partisanship in the Senate versus the House. The House of Representatives is apportioned by population and all members serve two year terms. In the Senate, each state receives two Senators and each Senator serves a term of six years. For a variety of reasons (smaller chamber size, more insulation from the voters, rules and norms like the filibuster, etc.), the Senate has been argued to be the \"cooling saucer\" of Congress in that it is more bipartisan and moderate than the House. **Does the theory that the Senate is more moderate have support in Senators' tweets?**\n",
    "\n",
    "**Note**: See the project handout for more details on caveats and the data dictionary."
   ]
  },
  {
   "cell_type": "code",
   "execution_count": 51,
   "metadata": {},
   "outputs": [],
   "source": [
    "# pandas and numpy\n",
    "import pandas as pd\n",
    "import numpy as numpy\n",
    "\n",
    "# punctuation, stop words and English language model\n",
    "from string import punctuation\n",
    "from spacy.lang.en.stop_words import STOP_WORDS\n",
    "import en_core_web_sm\n",
    "nlp = en_core_web_sm.load()\n",
    "\n",
    "# textblob\n",
    "from textblob import TextBlob\n",
    "\n",
    "# countvectorizer, tfidfvectorizer\n",
    "from sklearn.feature_extraction.text import CountVectorizer, TfidfVectorizer\n",
    "\n",
    "#LDA Topic Modeling\n",
    "from sklearn.decomposition import LatentDirichletAllocation , NMF\n",
    "\n",
    "# gensim\n",
    "import gensim\n",
    "from gensim import models\n",
    "\n",
    "# plotting\n",
    "import matplotlib.pyplot as plt\n",
    "import seaborn as sns\n",
    "%matplotlib inline\n",
    "\n",
    "#WordCloud for EDA\n",
    "from wordcloud import WordCloud, STOPWORDS, ImageColorGenerator\n",
    "\n",
    "#removing emojis\n",
    "import re\n",
    "\n",
    "#import emoji\n",
    "#import scattertext as st"
   ]
  },
  {
   "cell_type": "markdown",
   "metadata": {},
   "source": [
    "## 2. Data"
   ]
  },
  {
   "cell_type": "code",
   "execution_count": 2,
   "metadata": {
    "scrolled": true
   },
   "outputs": [
    {
     "data": {
      "text/html": [
       "<div>\n",
       "<style scoped>\n",
       "    .dataframe tbody tr th:only-of-type {\n",
       "        vertical-align: middle;\n",
       "    }\n",
       "\n",
       "    .dataframe tbody tr th {\n",
       "        vertical-align: top;\n",
       "    }\n",
       "\n",
       "    .dataframe thead th {\n",
       "        text-align: right;\n",
       "    }\n",
       "</style>\n",
       "<table border=\"1\" class=\"dataframe\">\n",
       "  <thead>\n",
       "    <tr style=\"text-align: right;\">\n",
       "      <th></th>\n",
       "      <th>index</th>\n",
       "      <th>tweet_id</th>\n",
       "      <th>screen_name</th>\n",
       "      <th>datetime</th>\n",
       "      <th>text</th>\n",
       "      <th>name_wikipedia</th>\n",
       "      <th>position</th>\n",
       "      <th>joined_congress_date</th>\n",
       "      <th>birthday</th>\n",
       "      <th>gender</th>\n",
       "      <th>state</th>\n",
       "      <th>district_number</th>\n",
       "      <th>party</th>\n",
       "      <th>trump_2016_state_share</th>\n",
       "      <th>clinton_2016_state_share</th>\n",
       "      <th>obama_2012_state_share</th>\n",
       "      <th>romney_2012_state_share</th>\n",
       "    </tr>\n",
       "  </thead>\n",
       "  <tbody>\n",
       "    <tr>\n",
       "      <th>217331</th>\n",
       "      <td>217331</td>\n",
       "      <td>1.174780e+18</td>\n",
       "      <td>RepValDemings</td>\n",
       "      <td>2019-09-19T16:10:19-04:00</td>\n",
       "      <td>Thank you for testifying today Mr. Blake. http...</td>\n",
       "      <td>Val Demings</td>\n",
       "      <td>Rep</td>\n",
       "      <td>3-Jan-17</td>\n",
       "      <td>3/12/1957</td>\n",
       "      <td>F</td>\n",
       "      <td>FL</td>\n",
       "      <td>10</td>\n",
       "      <td>Democrat</td>\n",
       "      <td>4,617,886</td>\n",
       "      <td>4,504,975</td>\n",
       "      <td>4,237,756</td>\n",
       "      <td>4,163,447</td>\n",
       "    </tr>\n",
       "    <tr>\n",
       "      <th>258764</th>\n",
       "      <td>258764</td>\n",
       "      <td>1.139590e+18</td>\n",
       "      <td>RepHankJohnson</td>\n",
       "      <td>2019-06-14T14:05:48-04:00</td>\n",
       "      <td>My Twitter Town Hall on healthcare has begun a...</td>\n",
       "      <td>Hank Johnson</td>\n",
       "      <td>Rep</td>\n",
       "      <td>3-Jan-07</td>\n",
       "      <td>10/2/1954</td>\n",
       "      <td>M</td>\n",
       "      <td>GA</td>\n",
       "      <td>4</td>\n",
       "      <td>Democrat</td>\n",
       "      <td>2,089,104</td>\n",
       "      <td>1,877,963</td>\n",
       "      <td>1,773,827</td>\n",
       "      <td>2,078,688</td>\n",
       "    </tr>\n",
       "    <tr>\n",
       "      <th>50091</th>\n",
       "      <td>50091</td>\n",
       "      <td>1.217600e+18</td>\n",
       "      <td>RepFrenchHill</td>\n",
       "      <td>2020-01-15T19:02:21-05:00</td>\n",
       "      <td>Scipio Jones‘ fight for civil rights and equal...</td>\n",
       "      <td>French Hill</td>\n",
       "      <td>Rep</td>\n",
       "      <td>3-Jan-15</td>\n",
       "      <td>12/5/1956</td>\n",
       "      <td>M</td>\n",
       "      <td>AR</td>\n",
       "      <td>2</td>\n",
       "      <td>Republican</td>\n",
       "      <td>684,872</td>\n",
       "      <td>380,494</td>\n",
       "      <td>394,409</td>\n",
       "      <td>647,744</td>\n",
       "    </tr>\n",
       "    <tr>\n",
       "      <th>205601</th>\n",
       "      <td>205601</td>\n",
       "      <td>1.120440e+18</td>\n",
       "      <td>RepTedDeutch</td>\n",
       "      <td>2019-04-22T17:49:57-04:00</td>\n",
       "      <td>There is no better time to #ActOnClimate than ...</td>\n",
       "      <td>Ted Deutch</td>\n",
       "      <td>Rep</td>\n",
       "      <td>13-Apr-10</td>\n",
       "      <td>5/7/1966</td>\n",
       "      <td>M</td>\n",
       "      <td>FL</td>\n",
       "      <td>22</td>\n",
       "      <td>Democrat</td>\n",
       "      <td>4,617,886</td>\n",
       "      <td>4,504,975</td>\n",
       "      <td>4,237,756</td>\n",
       "      <td>4,163,447</td>\n",
       "    </tr>\n",
       "    <tr>\n",
       "      <th>85993</th>\n",
       "      <td>85993</td>\n",
       "      <td>1.167160e+18</td>\n",
       "      <td>RepLaMalfa</td>\n",
       "      <td>2019-08-29T15:43:43-04:00</td>\n",
       "      <td>I understand the VA often has problems recruit...</td>\n",
       "      <td>Doug LaMalfa</td>\n",
       "      <td>Rep</td>\n",
       "      <td>3-Jan-13</td>\n",
       "      <td>7/2/1960</td>\n",
       "      <td>M</td>\n",
       "      <td>CA</td>\n",
       "      <td>1</td>\n",
       "      <td>Republican</td>\n",
       "      <td>4,483,814</td>\n",
       "      <td>8,753,792</td>\n",
       "      <td>7,854,285</td>\n",
       "      <td>4,839,958</td>\n",
       "    </tr>\n",
       "  </tbody>\n",
       "</table>\n",
       "</div>"
      ],
      "text/plain": [
       "         index      tweet_id     screen_name                   datetime  \\\n",
       "217331  217331  1.174780e+18   RepValDemings  2019-09-19T16:10:19-04:00   \n",
       "258764  258764  1.139590e+18  RepHankJohnson  2019-06-14T14:05:48-04:00   \n",
       "50091    50091  1.217600e+18   RepFrenchHill  2020-01-15T19:02:21-05:00   \n",
       "205601  205601  1.120440e+18    RepTedDeutch  2019-04-22T17:49:57-04:00   \n",
       "85993    85993  1.167160e+18      RepLaMalfa  2019-08-29T15:43:43-04:00   \n",
       "\n",
       "                                                     text name_wikipedia  \\\n",
       "217331  Thank you for testifying today Mr. Blake. http...    Val Demings   \n",
       "258764  My Twitter Town Hall on healthcare has begun a...   Hank Johnson   \n",
       "50091   Scipio Jones‘ fight for civil rights and equal...    French Hill   \n",
       "205601  There is no better time to #ActOnClimate than ...     Ted Deutch   \n",
       "85993   I understand the VA often has problems recruit...   Doug LaMalfa   \n",
       "\n",
       "       position joined_congress_date   birthday gender state district_number  \\\n",
       "217331      Rep             3-Jan-17  3/12/1957      F    FL              10   \n",
       "258764      Rep             3-Jan-07  10/2/1954      M    GA               4   \n",
       "50091       Rep             3-Jan-15  12/5/1956      M    AR               2   \n",
       "205601      Rep            13-Apr-10   5/7/1966      M    FL              22   \n",
       "85993       Rep             3-Jan-13   7/2/1960      M    CA               1   \n",
       "\n",
       "             party trump_2016_state_share clinton_2016_state_share  \\\n",
       "217331    Democrat              4,617,886                4,504,975   \n",
       "258764    Democrat              2,089,104                1,877,963   \n",
       "50091   Republican                684,872                  380,494   \n",
       "205601    Democrat              4,617,886                4,504,975   \n",
       "85993   Republican              4,483,814                8,753,792   \n",
       "\n",
       "       obama_2012_state_share romney_2012_state_share  \n",
       "217331              4,237,756               4,163,447  \n",
       "258764              1,773,827               2,078,688  \n",
       "50091                 394,409                 647,744  \n",
       "205601              4,237,756               4,163,447  \n",
       "85993               7,854,285               4,839,958  "
      ]
     },
     "execution_count": 2,
     "metadata": {},
     "output_type": "execute_result"
    }
   ],
   "source": [
    "congress_tweets = pd.read_csv(\"116th Congressional Tweets and Demographics.csv\")\n",
    "congress_tweets = congress_tweets.dropna(subset = ['text']).reset_index()\n",
    "numpy.random.seed(44)\n",
    "congress_tweets = congress_tweets.sample(frac=0.001, random_state=1)\n",
    "congress_tweets.head()\n",
    "# COMPLETE - fill in this line of code with a sufficient number of tweets, depending on your computational resources\n",
    "# COMPLETE congress_tweets = congress_tweets.sample(...)"
   ]
  },
  {
   "cell_type": "markdown",
   "metadata": {},
   "source": [
    "## 3. Preprocessing"
   ]
  },
  {
   "cell_type": "markdown",
   "metadata": {},
   "source": [
    "The first step in working with text data is to preprocess it. Make sure you do the following:\n",
    "\n",
    "* Remove punctuation and stop words. The `rem_punc_stop()` function we used in lab is provided to you but you should feel free to edit it as necessary for other steps\n",
    "* Remove tokens that occur frequently in tweets, but may not be helpful for downstream classification. For instance, many tweets contain a flag for retweeting, or share a URL \n",
    "\n",
    "As you search online, you might run into solutions that rely on regular expressions. You are free to use these, but you should also be able to preprocess using the techniques we covered in lab. Specifically, we encourage you to use spaCy's token attributes and string methods to do some of this text preprocessing."
   ]
  },
  {
   "cell_type": "code",
   "execution_count": 3,
   "metadata": {},
   "outputs": [],
   "source": [
    "nlp = en_core_web_sm.load()"
   ]
  },
  {
   "cell_type": "code",
   "execution_count": 4,
   "metadata": {},
   "outputs": [],
   "source": [
    "def remove_emojis(string):\n",
    "    emoji_pattern = re.compile(\n",
    "        \"[\"\n",
    "        u\"\\U0001F600-\\U0001F64F\" #emoticons  \n",
    "        u\"\\U0001F300-\\U0001F5FF\" #symbols & pictographs \n",
    "        u\"\\U0001F680-\\U0001F6FF\" #transport & map symbols\n",
    "        u\"\\U0001F1E0-\\U0001F1FF\" #flags(iOS)\n",
    "        u\"\\U00002702-\\U000027B0\"\n",
    "        u\"\\U000024C2-\\U0001F251\"   \n",
    "        \"]+\", \n",
    "        flags=re.UNICODE,)\n",
    "    return emoji_pattern.sub(r\"\", string)"
   ]
  },
  {
   "cell_type": "code",
   "execution_count": 5,
   "metadata": {},
   "outputs": [],
   "source": [
    "congress_tweets['text_deEmojify'] = congress_tweets['text'].map(lambda x: remove_emojis(x))"
   ]
  },
  {
   "cell_type": "code",
   "execution_count": 6,
   "metadata": {},
   "outputs": [
    {
     "name": "stdout",
     "output_type": "stream",
     "text": [
      "RT @Johnson4Dallas This is the most accurate description of the current City of Dallas budget debate (and surrounding noise) that I have read thus far. Kudos to the author for helping to arm the residents of Dallas with actual facts instead of useless political gossip. https://texasscorecard.com/commentary/montoya-citizens-matter-not-city-hall-brawls/\n"
     ]
    }
   ],
   "source": [
    "print(congress_tweets.iloc[5]['text_deEmojify']) #checking to see if emojis were removed"
   ]
  },
  {
   "cell_type": "code",
   "execution_count": 7,
   "metadata": {},
   "outputs": [],
   "source": [
    "#Removing new line\n",
    "congress_tweets[\"text_deEmojify\"] = congress_tweets[\"text_deEmojify\"].str.replace('\\n','')\n",
    "#Removing New Line Breaks\n",
    "congress_tweets[\"text_deEmojify\"] = congress_tweets[\"text_deEmojify\"].str.replace('•','')"
   ]
  },
  {
   "cell_type": "code",
   "execution_count": 8,
   "metadata": {},
   "outputs": [],
   "source": [
    "def rem_punc_stop(text):\n",
    "    stop_words = STOP_WORDS\n",
    "    nlp.Defaults.stop_words |= {\"amp\", \"RT\", \"today\", \"rt\", \"Today\"}\n",
    "    punc = set(punctuation)\n",
    "    \n",
    "    punc_free = \"\".join([ch for ch in text if ch not in punc])\n",
    "    \n",
    "    doc = nlp(punc_free)\n",
    "    \n",
    "    \n",
    "    spacy_words = [token.text for token in doc]\n",
    "    \n",
    "    spacy_words = [word for word in spacy_words if not word.startswith('http')]\n",
    "    \n",
    "    no_punc = [word for word in spacy_words if word not in stop_words]\n",
    "    \n",
    "    return no_punc"
   ]
  },
  {
   "cell_type": "code",
   "execution_count": 9,
   "metadata": {},
   "outputs": [
    {
     "data": {
      "text/plain": [
       "217331    [Thank, testifying, Mr, Blake, QT, JRBlake, Re...\n",
       "258764    [My, Twitter, Town, Hall, healthcare, begun, I...\n",
       "50091     [Scipio, Jones, ‘, fight, civil, rights, equal...\n",
       "205601    [There, better, time, ActOnClimate, EarthDay, ...\n",
       "85993     [I, understand, VA, problems, recruiting, qual...\n",
       "                                ...                        \n",
       "849015    [Thank, air, traffic, controllers, flight, att...\n",
       "402238    [LawrenceGenHosp, new, coronavirus, community,...\n",
       "349360    [senatemajldr, If, House, musters, courage, st...\n",
       "65615     [It, important, support, policies, promote, pu...\n",
       "356055    [davidmgoodwin, CDCgov, It, argument, giving, ...\n",
       "Name: tokens, Length: 947, dtype: object"
      ]
     },
     "execution_count": 9,
     "metadata": {},
     "output_type": "execute_result"
    }
   ],
   "source": [
    "congress_tweets['tokens'] = congress_tweets['text_deEmojify'].map(lambda x: rem_punc_stop(x))\n",
    "congress_tweets['tokens']"
   ]
  },
  {
   "cell_type": "code",
   "execution_count": 10,
   "metadata": {},
   "outputs": [],
   "source": [
    "text = ' '.join(congress_tweets['tokens'].map(lambda text: ' '.join(text)))"
   ]
  },
  {
   "cell_type": "code",
   "execution_count": 11,
   "metadata": {},
   "outputs": [],
   "source": [
    "#lemmatization\n",
    "#for word in nlp(text):\n",
    "    #print(word.text,  word.lemma_)"
   ]
  },
  {
   "cell_type": "markdown",
   "metadata": {},
   "source": [
    "## 4. Exploratory Data Analysis"
   ]
  },
  {
   "cell_type": "markdown",
   "metadata": {},
   "source": [
    "Use two of the techniques we covered in lab (or other techniques outside of lab!) to explore the text of the tweets. You should construct these visualizations with an eye toward the eventual classification tasks: (1) predicting the legislator's political party based on the text of their tweet, and (2) predicting whether the legislator is a Senator or Representative. As a reminder, in lab we covered word frequencies, word clouds, word/character counts, scattertext, and topic modeling as possible exploration tools. "
   ]
  },
  {
   "cell_type": "markdown",
   "metadata": {},
   "source": [
    "### EDA 1: Word Cloud"
   ]
  },
  {
   "cell_type": "code",
   "execution_count": 12,
   "metadata": {},
   "outputs": [
    {
     "data": {
      "image/png": "[encoded data removed]",
      "text/plain": [
       "<Figure size 432x288 with 1 Axes>"
      ]
     },
     "metadata": {
      "needs_background": "light"
     },
     "output_type": "display_data"
    }
   ],
   "source": [
    "wordcloud = WordCloud().generate(text)\n",
    "plt.imshow(wordcloud, interpolation = 'bilinear')\n",
    "plt.axis('off')\n",
    "plt.show()"
   ]
  },
  {
   "cell_type": "markdown",
   "metadata": {},
   "source": [
    "### EDA 2: Length and Word Count"
   ]
  },
  {
   "cell_type": "code",
   "execution_count": 13,
   "metadata": {},
   "outputs": [],
   "source": [
    "congress_tweets['tweet_len'] = congress_tweets['text_deEmojify'].apply(len)\n",
    "congress_tweets['word_count'] = congress_tweets['text_deEmojify'].apply(lambda x: len(str(x).split()))"
   ]
  },
  {
   "cell_type": "code",
   "execution_count": 14,
   "metadata": {},
   "outputs": [
    {
     "data": {
      "image/png": "[encoded data removed]",
      "text/plain": [
       "<Figure size 360x360 with 1 Axes>"
      ]
     },
     "metadata": {
      "needs_background": "light"
     },
     "output_type": "display_data"
    }
   ],
   "source": [
    "sns.displot(congress_tweets, x=\"tweet_len\")\n",
    "plt.show()"
   ]
  },
  {
   "cell_type": "code",
   "execution_count": 15,
   "metadata": {},
   "outputs": [
    {
     "data": {
      "image/png": "[encoded data removed]",
      "text/plain": [
       "<Figure size 360x360 with 1 Axes>"
      ]
     },
     "metadata": {
      "needs_background": "light"
     },
     "output_type": "display_data"
    }
   ],
   "source": [
    "sns.displot(congress_tweets, x=\"word_count\")\n",
    "plt.show()"
   ]
  },
  {
   "cell_type": "code",
   "execution_count": 16,
   "metadata": {
    "scrolled": true
   },
   "outputs": [
    {
     "data": {
      "image/png": "[encoded data removed]",
      "text/plain": [
       "<Figure size 1179.25x360 with 3 Axes>"
      ]
     },
     "metadata": {
      "needs_background": "light"
     },
     "output_type": "display_data"
    }
   ],
   "source": [
    "sns.displot(congress_tweets, x=\"word_count\", hue = \"party\", col = \"party\")\n",
    "plt.show()"
   ]
  },
  {
   "cell_type": "markdown",
   "metadata": {},
   "source": [
    "### Topic Modeling"
   ]
  },
  {
   "cell_type": "code",
   "execution_count": 17,
   "metadata": {},
   "outputs": [],
   "source": [
    "X = congress_tweets['text_deEmojify']\n",
    "tf = TfidfVectorizer(tokenizer = rem_punc_stop)\n",
    "\n",
    "tfidf_matrix =  tf.fit_transform(X)\n",
    "dense_matrix = tfidf_matrix.todense()"
   ]
  },
  {
   "cell_type": "code",
   "execution_count": 18,
   "metadata": {},
   "outputs": [],
   "source": [
    "lda = LatentDirichletAllocation(n_components=5, max_iter=20, random_state=0)\n",
    "lda = lda.fit(dense_matrix)"
   ]
  },
  {
   "cell_type": "code",
   "execution_count": 19,
   "metadata": {},
   "outputs": [],
   "source": [
    "def print_top_words(model, feature_names, n_top_words):\n",
    "    for topic_idx, topic in enumerate(model.components_):\n",
    "        print(\"\\nTopic #{}:\".format(topic_idx))\n",
    "        print(\" \".join([feature_names[i]\n",
    "                        for i in topic.argsort()[:-n_top_words - 1:-1]]))\n",
    "    print()"
   ]
  },
  {
   "cell_type": "code",
   "execution_count": 20,
   "metadata": {},
   "outputs": [
    {
     "name": "stdout",
     "output_type": "stream",
     "text": [
      "\n",
      "Topic #0:\n",
      "  work need week covid19 help jobs de country community happy thank congress americans care district people qt time trump\n",
      "\n",
      "Topic #1:\n",
      "  new health house qt “ president trump american administration ” workers congress covid19 continue work democrats veterans families week\n",
      "\n",
      "Topic #2:\n",
      "  act americans help new house qt work trump system president care important ’ ago health people thank senate 2020census\n",
      "\n",
      "Topic #3:\n",
      "  qt trump time need people families covid19 coronavirus president relief new act thank house nt read law — american\n",
      "\n",
      "Topic #4:\n",
      "american people   help thank president – county crisis work sen local great bill nation time act families community house\n",
      "\n"
     ]
    }
   ],
   "source": [
    "tf_feature_names = tf.get_feature_names()\n",
    "print_top_words(lda, tf_feature_names, 20)"
   ]
  },
  {
   "cell_type": "code",
   "execution_count": 21,
   "metadata": {},
   "outputs": [
    {
     "data": {
      "text/plain": [
       "array([[0.03834265, 0.03858455, 0.84580787, 0.03860847, 0.03865646],\n",
       "       [0.81537903, 0.04575907, 0.04607881, 0.04581743, 0.04696567],\n",
       "       [0.03570333, 0.85667382, 0.03622495, 0.03575626, 0.03564164],\n",
       "       ...,\n",
       "       [0.04083828, 0.04088593, 0.83636491, 0.04095678, 0.04095411],\n",
       "       [0.04086538, 0.04136615, 0.83557333, 0.04124446, 0.04095068],\n",
       "       [0.03656907, 0.0366098 , 0.8531591 , 0.03687188, 0.03679015]])"
      ]
     },
     "execution_count": 21,
     "metadata": {},
     "output_type": "execute_result"
    }
   ],
   "source": [
    "topic_dist = lda.transform(tfidf_matrix)\n",
    "topic_dist"
   ]
  },
  {
   "cell_type": "code",
   "execution_count": 22,
   "metadata": {},
   "outputs": [
    {
     "data": {
      "text/html": [
       "<div>\n",
       "<style scoped>\n",
       "    .dataframe tbody tr th:only-of-type {\n",
       "        vertical-align: middle;\n",
       "    }\n",
       "\n",
       "    .dataframe tbody tr th {\n",
       "        vertical-align: top;\n",
       "    }\n",
       "\n",
       "    .dataframe thead th {\n",
       "        text-align: right;\n",
       "    }\n",
       "</style>\n",
       "<table border=\"1\" class=\"dataframe\">\n",
       "  <thead>\n",
       "    <tr style=\"text-align: right;\">\n",
       "      <th></th>\n",
       "      <th>0</th>\n",
       "      <th>1</th>\n",
       "      <th>2</th>\n",
       "      <th>3</th>\n",
       "      <th>4</th>\n",
       "      <th>level_0</th>\n",
       "      <th>index</th>\n",
       "      <th>tweet_id</th>\n",
       "      <th>screen_name</th>\n",
       "      <th>datetime</th>\n",
       "      <th>...</th>\n",
       "      <th>district_number</th>\n",
       "      <th>party</th>\n",
       "      <th>trump_2016_state_share</th>\n",
       "      <th>clinton_2016_state_share</th>\n",
       "      <th>obama_2012_state_share</th>\n",
       "      <th>romney_2012_state_share</th>\n",
       "      <th>text_deEmojify</th>\n",
       "      <th>tokens</th>\n",
       "      <th>tweet_len</th>\n",
       "      <th>word_count</th>\n",
       "    </tr>\n",
       "  </thead>\n",
       "  <tbody>\n",
       "    <tr>\n",
       "      <th>0</th>\n",
       "      <td>0.038343</td>\n",
       "      <td>0.038585</td>\n",
       "      <td>0.845808</td>\n",
       "      <td>0.038608</td>\n",
       "      <td>0.038656</td>\n",
       "      <td>217331</td>\n",
       "      <td>217331</td>\n",
       "      <td>1.174780e+18</td>\n",
       "      <td>RepValDemings</td>\n",
       "      <td>2019-09-19T16:10:19-04:00</td>\n",
       "      <td>...</td>\n",
       "      <td>10</td>\n",
       "      <td>Democrat</td>\n",
       "      <td>4,617,886</td>\n",
       "      <td>4,504,975</td>\n",
       "      <td>4,237,756</td>\n",
       "      <td>4,163,447</td>\n",
       "      <td>Thank you for testifying today Mr. Blake. http...</td>\n",
       "      <td>[Thank, testifying, Mr, Blake, QT, JRBlake, Re...</td>\n",
       "      <td>233</td>\n",
       "      <td>30</td>\n",
       "    </tr>\n",
       "    <tr>\n",
       "      <th>1</th>\n",
       "      <td>0.815379</td>\n",
       "      <td>0.045759</td>\n",
       "      <td>0.046079</td>\n",
       "      <td>0.045817</td>\n",
       "      <td>0.046966</td>\n",
       "      <td>258764</td>\n",
       "      <td>258764</td>\n",
       "      <td>1.139590e+18</td>\n",
       "      <td>RepHankJohnson</td>\n",
       "      <td>2019-06-14T14:05:48-04:00</td>\n",
       "      <td>...</td>\n",
       "      <td>4</td>\n",
       "      <td>Democrat</td>\n",
       "      <td>2,089,104</td>\n",
       "      <td>1,877,963</td>\n",
       "      <td>1,773,827</td>\n",
       "      <td>2,078,688</td>\n",
       "      <td>My Twitter Town Hall on healthcare has begun a...</td>\n",
       "      <td>[My, Twitter, Town, Hall, healthcare, begun, I...</td>\n",
       "      <td>115</td>\n",
       "      <td>20</td>\n",
       "    </tr>\n",
       "    <tr>\n",
       "      <th>2</th>\n",
       "      <td>0.035703</td>\n",
       "      <td>0.856674</td>\n",
       "      <td>0.036225</td>\n",
       "      <td>0.035756</td>\n",
       "      <td>0.035642</td>\n",
       "      <td>50091</td>\n",
       "      <td>50091</td>\n",
       "      <td>1.217600e+18</td>\n",
       "      <td>RepFrenchHill</td>\n",
       "      <td>2020-01-15T19:02:21-05:00</td>\n",
       "      <td>...</td>\n",
       "      <td>2</td>\n",
       "      <td>Republican</td>\n",
       "      <td>684,872</td>\n",
       "      <td>380,494</td>\n",
       "      <td>394,409</td>\n",
       "      <td>647,744</td>\n",
       "      <td>Scipio Jones‘ fight for civil rights and equal...</td>\n",
       "      <td>[Scipio, Jones, ‘, fight, civil, rights, equal...</td>\n",
       "      <td>279</td>\n",
       "      <td>49</td>\n",
       "    </tr>\n",
       "    <tr>\n",
       "      <th>3</th>\n",
       "      <td>0.047693</td>\n",
       "      <td>0.808052</td>\n",
       "      <td>0.048647</td>\n",
       "      <td>0.047677</td>\n",
       "      <td>0.047931</td>\n",
       "      <td>205601</td>\n",
       "      <td>205601</td>\n",
       "      <td>1.120440e+18</td>\n",
       "      <td>RepTedDeutch</td>\n",
       "      <td>2019-04-22T17:49:57-04:00</td>\n",
       "      <td>...</td>\n",
       "      <td>22</td>\n",
       "      <td>Democrat</td>\n",
       "      <td>4,617,886</td>\n",
       "      <td>4,504,975</td>\n",
       "      <td>4,237,756</td>\n",
       "      <td>4,163,447</td>\n",
       "      <td>There is no better time to #ActOnClimate than ...</td>\n",
       "      <td>[There, better, time, ActOnClimate, EarthDay, ...</td>\n",
       "      <td>158</td>\n",
       "      <td>27</td>\n",
       "    </tr>\n",
       "    <tr>\n",
       "      <th>4</th>\n",
       "      <td>0.041472</td>\n",
       "      <td>0.041521</td>\n",
       "      <td>0.042081</td>\n",
       "      <td>0.041768</td>\n",
       "      <td>0.833157</td>\n",
       "      <td>85993</td>\n",
       "      <td>85993</td>\n",
       "      <td>1.167160e+18</td>\n",
       "      <td>RepLaMalfa</td>\n",
       "      <td>2019-08-29T15:43:43-04:00</td>\n",
       "      <td>...</td>\n",
       "      <td>1</td>\n",
       "      <td>Republican</td>\n",
       "      <td>4,483,814</td>\n",
       "      <td>8,753,792</td>\n",
       "      <td>7,854,285</td>\n",
       "      <td>4,839,958</td>\n",
       "      <td>I understand the VA often has problems recruit...</td>\n",
       "      <td>[I, understand, VA, problems, recruiting, qual...</td>\n",
       "      <td>202</td>\n",
       "      <td>32</td>\n",
       "    </tr>\n",
       "  </tbody>\n",
       "</table>\n",
       "<p>5 rows × 27 columns</p>\n",
       "</div>"
      ],
      "text/plain": [
       "          0         1         2         3         4  level_0   index  \\\n",
       "0  0.038343  0.038585  0.845808  0.038608  0.038656   217331  217331   \n",
       "1  0.815379  0.045759  0.046079  0.045817  0.046966   258764  258764   \n",
       "2  0.035703  0.856674  0.036225  0.035756  0.035642    50091   50091   \n",
       "3  0.047693  0.808052  0.048647  0.047677  0.047931   205601  205601   \n",
       "4  0.041472  0.041521  0.042081  0.041768  0.833157    85993   85993   \n",
       "\n",
       "       tweet_id     screen_name                   datetime  ...  \\\n",
       "0  1.174780e+18   RepValDemings  2019-09-19T16:10:19-04:00  ...   \n",
       "1  1.139590e+18  RepHankJohnson  2019-06-14T14:05:48-04:00  ...   \n",
       "2  1.217600e+18   RepFrenchHill  2020-01-15T19:02:21-05:00  ...   \n",
       "3  1.120440e+18    RepTedDeutch  2019-04-22T17:49:57-04:00  ...   \n",
       "4  1.167160e+18      RepLaMalfa  2019-08-29T15:43:43-04:00  ...   \n",
       "\n",
       "  district_number       party trump_2016_state_share clinton_2016_state_share  \\\n",
       "0              10    Democrat              4,617,886                4,504,975   \n",
       "1               4    Democrat              2,089,104                1,877,963   \n",
       "2               2  Republican                684,872                  380,494   \n",
       "3              22    Democrat              4,617,886                4,504,975   \n",
       "4               1  Republican              4,483,814                8,753,792   \n",
       "\n",
       "  obama_2012_state_share romney_2012_state_share  \\\n",
       "0              4,237,756               4,163,447   \n",
       "1              1,773,827               2,078,688   \n",
       "2                394,409                 647,744   \n",
       "3              4,237,756               4,163,447   \n",
       "4              7,854,285               4,839,958   \n",
       "\n",
       "                                      text_deEmojify  \\\n",
       "0  Thank you for testifying today Mr. Blake. http...   \n",
       "1  My Twitter Town Hall on healthcare has begun a...   \n",
       "2  Scipio Jones‘ fight for civil rights and equal...   \n",
       "3  There is no better time to #ActOnClimate than ...   \n",
       "4  I understand the VA often has problems recruit...   \n",
       "\n",
       "                                              tokens tweet_len word_count  \n",
       "0  [Thank, testifying, Mr, Blake, QT, JRBlake, Re...       233         30  \n",
       "1  [My, Twitter, Town, Hall, healthcare, begun, I...       115         20  \n",
       "2  [Scipio, Jones, ‘, fight, civil, rights, equal...       279         49  \n",
       "3  [There, better, time, ActOnClimate, EarthDay, ...       158         27  \n",
       "4  [I, understand, VA, problems, recruiting, qual...       202         32  \n",
       "\n",
       "[5 rows x 27 columns]"
      ]
     },
     "execution_count": 22,
     "metadata": {},
     "output_type": "execute_result"
    }
   ],
   "source": [
    "topic_dist_df = pd.DataFrame(topic_dist)\n",
    "df_w_topics = topic_dist_df.join(congress_tweets.reset_index())\n",
    "df_w_topics.head()"
   ]
  },
  {
   "cell_type": "code",
   "execution_count": 23,
   "metadata": {},
   "outputs": [
    {
     "name": "stdout",
     "output_type": "stream",
     "text": [
      "party\n",
      "Independent    0.306694\n",
      "Republican     0.178090\n",
      "Democrat       0.166231\n",
      "Name: 0, dtype: float64\n",
      "party\n",
      "Democrat       0.184993\n",
      "Republican     0.181577\n",
      "Independent    0.036185\n",
      "Name: 1, dtype: float64\n",
      "party\n",
      "Republican     0.220183\n",
      "Democrat       0.200140\n",
      "Independent    0.036215\n",
      "Name: 2, dtype: float64\n",
      "party\n",
      "Independent    0.306977\n",
      "Democrat       0.240644\n",
      "Republican     0.190992\n",
      "Name: 3, dtype: float64\n",
      "party\n",
      "Independent    0.313929\n",
      "Republican     0.229158\n",
      "Democrat       0.207992\n",
      "Name: 4, dtype: float64\n"
     ]
    }
   ],
   "source": [
    "grouped = df_w_topics.groupby('party')\n",
    "for i in range(0, 5):\n",
    "    print(grouped[i].mean().sort_values(ascending=False))"
   ]
  },
  {
   "cell_type": "code",
   "execution_count": 24,
   "metadata": {},
   "outputs": [
    {
     "data": {
      "image/png": "[encoded data removed]",
      "text/plain": [
       "<Figure size 459.25x360 with 1 Axes>"
      ]
     },
     "metadata": {
      "needs_background": "light"
     },
     "output_type": "display_data"
    }
   ],
   "source": [
    "sns.displot(df_w_topics, x=df_w_topics[3], hue = \"party\", kind = 'kde', fill = 'true')\n",
    "plt.show()"
   ]
  },
  {
   "cell_type": "code",
   "execution_count": 25,
   "metadata": {},
   "outputs": [
    {
     "data": {
      "image/png": "[encoded data removed]",
      "text/plain": [
       "<Figure size 459.25x360 with 1 Axes>"
      ]
     },
     "metadata": {
      "needs_background": "light"
     },
     "output_type": "display_data"
    }
   ],
   "source": [
    "sns.displot(df_w_topics, x=df_w_topics[4], hue = \"party\", kind = 'kde', fill = 'true')\n",
    "plt.show()"
   ]
  },
  {
   "cell_type": "markdown",
   "metadata": {},
   "source": [
    "## 5. Sentiment Analysis"
   ]
  },
  {
   "cell_type": "markdown",
   "metadata": {},
   "source": [
    "Next, let's analyze the sentiments contained within the tweets. You may use TextBlob or another library for these tasks. Do the following:\n",
    "\n",
    "* Choose two legislators, one who you think will be more liberal and one who you think will be more conservative, and analyze their sentiment and/or subjectivity scores per tweet. For instance, you might do two scatterplots that plot each legislator's sentiment against their subjectivity, or two density plots for their sentiments. Do the scores match what you thought?\n",
    "* Plot two more visualizations like the ones you chose in the first part, but do them to compare (1) Democrats v. Republicans and (2) Senators v. Representatives \n",
    "\n",
    "`TextBlob` has already been imported in the top cell."
   ]
  },
  {
   "cell_type": "markdown",
   "metadata": {},
   "source": [
    "### 5.1: Tammy Duckworth (D-IL) vs. Ted Cruz (R-TX)"
   ]
  },
  {
   "cell_type": "code",
   "execution_count": 26,
   "metadata": {},
   "outputs": [
    {
     "data": {
      "text/html": [
       "<div>\n",
       "<style scoped>\n",
       "    .dataframe tbody tr th:only-of-type {\n",
       "        vertical-align: middle;\n",
       "    }\n",
       "\n",
       "    .dataframe tbody tr th {\n",
       "        vertical-align: top;\n",
       "    }\n",
       "\n",
       "    .dataframe thead th {\n",
       "        text-align: right;\n",
       "    }\n",
       "</style>\n",
       "<table border=\"1\" class=\"dataframe\">\n",
       "  <thead>\n",
       "    <tr style=\"text-align: right;\">\n",
       "      <th></th>\n",
       "      <th>index</th>\n",
       "      <th>tweet_id</th>\n",
       "      <th>screen_name</th>\n",
       "      <th>datetime</th>\n",
       "      <th>text</th>\n",
       "      <th>name_wikipedia</th>\n",
       "      <th>position</th>\n",
       "      <th>joined_congress_date</th>\n",
       "      <th>birthday</th>\n",
       "      <th>gender</th>\n",
       "      <th>...</th>\n",
       "      <th>trump_2016_state_share</th>\n",
       "      <th>clinton_2016_state_share</th>\n",
       "      <th>obama_2012_state_share</th>\n",
       "      <th>romney_2012_state_share</th>\n",
       "      <th>text_deEmojify</th>\n",
       "      <th>tokens</th>\n",
       "      <th>tweet_len</th>\n",
       "      <th>word_count</th>\n",
       "      <th>polarity</th>\n",
       "      <th>subjectivity</th>\n",
       "    </tr>\n",
       "  </thead>\n",
       "  <tbody>\n",
       "    <tr>\n",
       "      <th>820487</th>\n",
       "      <td>820487</td>\n",
       "      <td>1.279160e+18</td>\n",
       "      <td>SenTedCruz</td>\n",
       "      <td>2020-07-03T17:11:55-04:00</td>\n",
       "      <td>This weekend, we celebrate the birth of our na...</td>\n",
       "      <td>Ted Cruz</td>\n",
       "      <td>Sen</td>\n",
       "      <td>3-Jan-13</td>\n",
       "      <td>12/22/1970</td>\n",
       "      <td>M</td>\n",
       "      <td>...</td>\n",
       "      <td>4,685,047</td>\n",
       "      <td>3,877,868</td>\n",
       "      <td>3,308,124</td>\n",
       "      <td>4,569,843</td>\n",
       "      <td>This weekend, we celebrate the birth of our na...</td>\n",
       "      <td>This weekend celebrate birth nation gift indep...</td>\n",
       "      <td>246</td>\n",
       "      <td>41</td>\n",
       "      <td>0.000000</td>\n",
       "      <td>0.000000</td>\n",
       "    </tr>\n",
       "    <tr>\n",
       "      <th>811947</th>\n",
       "      <td>811947</td>\n",
       "      <td>1.256300e+18</td>\n",
       "      <td>SenTedCruz</td>\n",
       "      <td>2020-05-01T15:29:55-04:00</td>\n",
       "      <td>RT @EricTrump Challenge accepted @SeanHannity!...</td>\n",
       "      <td>Ted Cruz</td>\n",
       "      <td>Sen</td>\n",
       "      <td>3-Jan-13</td>\n",
       "      <td>12/22/1970</td>\n",
       "      <td>M</td>\n",
       "      <td>...</td>\n",
       "      <td>4,685,047</td>\n",
       "      <td>3,877,868</td>\n",
       "      <td>3,308,124</td>\n",
       "      <td>4,569,843</td>\n",
       "      <td>RT @EricTrump Challenge accepted @SeanHannity!...</td>\n",
       "      <td>EricTrump Challenge accepted SeanHannity Along...</td>\n",
       "      <td>703</td>\n",
       "      <td>92</td>\n",
       "      <td>0.500000</td>\n",
       "      <td>0.600000</td>\n",
       "    </tr>\n",
       "    <tr>\n",
       "      <th>797929</th>\n",
       "      <td>797929</td>\n",
       "      <td>1.220850e+18</td>\n",
       "      <td>SenTedCruz</td>\n",
       "      <td>2020-01-24T18:29:25-05:00</td>\n",
       "      <td>My thoughts &amp;amp; prayers are with the familie...</td>\n",
       "      <td>Ted Cruz</td>\n",
       "      <td>Sen</td>\n",
       "      <td>3-Jan-13</td>\n",
       "      <td>12/22/1970</td>\n",
       "      <td>M</td>\n",
       "      <td>...</td>\n",
       "      <td>4,685,047</td>\n",
       "      <td>3,877,868</td>\n",
       "      <td>3,308,124</td>\n",
       "      <td>4,569,843</td>\n",
       "      <td>My thoughts &amp;amp; prayers are with the familie...</td>\n",
       "      <td>My thoughts prayers families 2 Houstonians liv...</td>\n",
       "      <td>688</td>\n",
       "      <td>84</td>\n",
       "      <td>-0.059524</td>\n",
       "      <td>0.238095</td>\n",
       "    </tr>\n",
       "    <tr>\n",
       "      <th>787860</th>\n",
       "      <td>787860</td>\n",
       "      <td>1.187810e+18</td>\n",
       "      <td>SenTedCruz</td>\n",
       "      <td>2019-10-25T15:26:23-04:00</td>\n",
       "      <td>It’s time for Congress and the American people...</td>\n",
       "      <td>Ted Cruz</td>\n",
       "      <td>Sen</td>\n",
       "      <td>3-Jan-13</td>\n",
       "      <td>12/22/1970</td>\n",
       "      <td>M</td>\n",
       "      <td>...</td>\n",
       "      <td>4,685,047</td>\n",
       "      <td>3,877,868</td>\n",
       "      <td>3,308,124</td>\n",
       "      <td>4,569,843</td>\n",
       "      <td>It’s time for Congress and the American people...</td>\n",
       "      <td>It time Congress American people hear directly...</td>\n",
       "      <td>251</td>\n",
       "      <td>44</td>\n",
       "      <td>0.150000</td>\n",
       "      <td>0.225000</td>\n",
       "    </tr>\n",
       "    <tr>\n",
       "      <th>760177</th>\n",
       "      <td>760177</td>\n",
       "      <td>1.088950e+18</td>\n",
       "      <td>SenTedCruz</td>\n",
       "      <td>2019-01-25T18:47:06-05:00</td>\n",
       "      <td>Yesterday, I fought hard to immediately pay ev...</td>\n",
       "      <td>Ted Cruz</td>\n",
       "      <td>Sen</td>\n",
       "      <td>3-Jan-13</td>\n",
       "      <td>12/22/1970</td>\n",
       "      <td>M</td>\n",
       "      <td>...</td>\n",
       "      <td>4,685,047</td>\n",
       "      <td>3,877,868</td>\n",
       "      <td>3,308,124</td>\n",
       "      <td>4,569,843</td>\n",
       "      <td>Yesterday, I fought hard to immediately pay ev...</td>\n",
       "      <td>Yesterday I fought hard immediately pay single...</td>\n",
       "      <td>248</td>\n",
       "      <td>37</td>\n",
       "      <td>-0.090774</td>\n",
       "      <td>0.338988</td>\n",
       "    </tr>\n",
       "  </tbody>\n",
       "</table>\n",
       "<p>5 rows × 23 columns</p>\n",
       "</div>"
      ],
      "text/plain": [
       "         index      tweet_id screen_name                   datetime  \\\n",
       "820487  820487  1.279160e+18  SenTedCruz  2020-07-03T17:11:55-04:00   \n",
       "811947  811947  1.256300e+18  SenTedCruz  2020-05-01T15:29:55-04:00   \n",
       "797929  797929  1.220850e+18  SenTedCruz  2020-01-24T18:29:25-05:00   \n",
       "787860  787860  1.187810e+18  SenTedCruz  2019-10-25T15:26:23-04:00   \n",
       "760177  760177  1.088950e+18  SenTedCruz  2019-01-25T18:47:06-05:00   \n",
       "\n",
       "                                                     text name_wikipedia  \\\n",
       "820487  This weekend, we celebrate the birth of our na...       Ted Cruz   \n",
       "811947  RT @EricTrump Challenge accepted @SeanHannity!...       Ted Cruz   \n",
       "797929  My thoughts &amp; prayers are with the familie...       Ted Cruz   \n",
       "787860  It’s time for Congress and the American people...       Ted Cruz   \n",
       "760177  Yesterday, I fought hard to immediately pay ev...       Ted Cruz   \n",
       "\n",
       "       position joined_congress_date    birthday gender  ...  \\\n",
       "820487      Sen             3-Jan-13  12/22/1970      M  ...   \n",
       "811947      Sen             3-Jan-13  12/22/1970      M  ...   \n",
       "797929      Sen             3-Jan-13  12/22/1970      M  ...   \n",
       "787860      Sen             3-Jan-13  12/22/1970      M  ...   \n",
       "760177      Sen             3-Jan-13  12/22/1970      M  ...   \n",
       "\n",
       "       trump_2016_state_share clinton_2016_state_share obama_2012_state_share  \\\n",
       "820487              4,685,047                3,877,868              3,308,124   \n",
       "811947              4,685,047                3,877,868              3,308,124   \n",
       "797929              4,685,047                3,877,868              3,308,124   \n",
       "787860              4,685,047                3,877,868              3,308,124   \n",
       "760177              4,685,047                3,877,868              3,308,124   \n",
       "\n",
       "       romney_2012_state_share  \\\n",
       "820487               4,569,843   \n",
       "811947               4,569,843   \n",
       "797929               4,569,843   \n",
       "787860               4,569,843   \n",
       "760177               4,569,843   \n",
       "\n",
       "                                           text_deEmojify  \\\n",
       "820487  This weekend, we celebrate the birth of our na...   \n",
       "811947  RT @EricTrump Challenge accepted @SeanHannity!...   \n",
       "797929  My thoughts &amp; prayers are with the familie...   \n",
       "787860  It’s time for Congress and the American people...   \n",
       "760177  Yesterday, I fought hard to immediately pay ev...   \n",
       "\n",
       "                                                   tokens tweet_len  \\\n",
       "820487  This weekend celebrate birth nation gift indep...       246   \n",
       "811947  EricTrump Challenge accepted SeanHannity Along...       703   \n",
       "797929  My thoughts prayers families 2 Houstonians liv...       688   \n",
       "787860  It time Congress American people hear directly...       251   \n",
       "760177  Yesterday I fought hard immediately pay single...       248   \n",
       "\n",
       "       word_count  polarity  subjectivity  \n",
       "820487         41  0.000000      0.000000  \n",
       "811947         92  0.500000      0.600000  \n",
       "797929         84 -0.059524      0.238095  \n",
       "787860         44  0.150000      0.225000  \n",
       "760177         37 -0.090774      0.338988  \n",
       "\n",
       "[5 rows x 23 columns]"
      ]
     },
     "execution_count": 26,
     "metadata": {},
     "output_type": "execute_result"
    }
   ],
   "source": [
    "congress_tweets['tokens'] = congress_tweets['tokens'].map(lambda text: ' '.join(text))\n",
    "\n",
    "#Ted Cruz and Tammy Duckworth Tweets\n",
    "cruz_tweets = congress_tweets[congress_tweets.name_wikipedia == 'Ted Cruz']\n",
    "duckworth_tweets = congress_tweets[congress_tweets.name_wikipedia == \"Tammy Duckworth\"]\n",
    "\n",
    "#Combining dataframes\n",
    "cruz_duck_df = [cruz_tweets, duckworth_tweets]\n",
    "cruz_duck_tweets = pd.concat(cruz_duck_df)\n",
    "\n",
    "#Polarity and Subjectivity\n",
    "cruz_duck_tweets['polarity'] = cruz_duck_tweets['tokens'].map(lambda text: TextBlob(text).sentiment.polarity)\n",
    "cruz_duck_tweets['subjectivity'] = cruz_duck_tweets['tokens'].map(lambda text: TextBlob(text).sentiment.subjectivity)\n",
    "\n",
    "cruz_duck_tweets.head()"
   ]
  },
  {
   "cell_type": "markdown",
   "metadata": {},
   "source": [
    "### Polarity"
   ]
  },
  {
   "cell_type": "code",
   "execution_count": 27,
   "metadata": {},
   "outputs": [
    {
     "data": {
      "image/png": "[encoded data removed]",
      "text/plain": [
       "<Figure size 848.625x360 with 2 Axes>"
      ]
     },
     "metadata": {
      "needs_background": "light"
     },
     "output_type": "display_data"
    }
   ],
   "source": [
    "sns.displot(cruz_duck_tweets, x=\"polarity\", hue = \"name_wikipedia\", col = \"name_wikipedia\")\n",
    "plt.show()"
   ]
  },
  {
   "cell_type": "markdown",
   "metadata": {},
   "source": [
    "### Tweets with the largest polarity"
   ]
  },
  {
   "cell_type": "markdown",
   "metadata": {},
   "source": [
    "**Tammy Duckworth:**"
   ]
  },
  {
   "cell_type": "code",
   "execution_count": 28,
   "metadata": {},
   "outputs": [
    {
     "name": "stdout",
     "output_type": "stream",
     "text": [
      "We can do so much more to help survivors of breast cancer return to health and achieve the best quality of life. That's why I'm introducing the Breast Cancer Patient Equity Act with @lisamurkowski, @RepJudyChu &amp; @RepWalorski https://www.duckworth.senate.gov/news/press-releases/-duckworth-murkowski-chu-and-walorski-re-introduce-bipartisan-bicameral-bill-to-expand-coverage-for-breast-cancer-patients-and-survivors\n",
      "\n"
     ]
    },
    {
     "name": "stderr",
     "output_type": "stream",
     "text": [
      "<ipython-input-28-647af7a0291e>:1: SettingWithCopyWarning: \n",
      "A value is trying to be set on a copy of a slice from a DataFrame.\n",
      "Try using .loc[row_indexer,col_indexer] = value instead\n",
      "\n",
      "See the caveats in the documentation: https://pandas.pydata.org/pandas-docs/stable/user_guide/indexing.html#returning-a-view-versus-a-copy\n",
      "  duckworth_tweets['polarity'] = duckworth_tweets['tokens'].map(lambda text: TextBlob(text).sentiment.polarity)\n"
     ]
    }
   ],
   "source": [
    "duckworth_tweets['polarity'] = duckworth_tweets['tokens'].map(lambda text: TextBlob(text).sentiment.polarity)\n",
    "for tweets in duckworth_tweets.nlargest(1, \"polarity\")['text']:\n",
    "    print(tweets + \"\\n\")"
   ]
  },
  {
   "cell_type": "markdown",
   "metadata": {},
   "source": [
    "**Ted Cruz:**"
   ]
  },
  {
   "cell_type": "code",
   "execution_count": 29,
   "metadata": {},
   "outputs": [
    {
     "name": "stdout",
     "output_type": "stream",
     "text": [
      "RT @EricTrump Challenge accepted @SeanHannity! Along with the amazing team from @TrumpNationalNY, we are providing food to all police, firefighters and first responders in our town today! They are incredible men and women who have been in the front lines since the begining. @LaraLeaTrump https://twitter.com/seanhannity/status/1254552056347664384 QT @seanhannity Challenge met. I called my friend Randy Levine of the NY .@Yankees and  purchased 500 Yankee Tkts for The Hero medical workers all over NY. Randy and Hal Steinbrenner and the Yankees immediately donated 500 more tkts!! \n",
      "\n",
      "I now Challenge My friends\n",
      ".@LaraLeaTrump  and .@EricTrump https://twitter.com/ainsleyearhardt/status/1253833611469520897\n",
      "\n"
     ]
    },
    {
     "name": "stderr",
     "output_type": "stream",
     "text": [
      "<ipython-input-29-0809f2072989>:1: SettingWithCopyWarning: \n",
      "A value is trying to be set on a copy of a slice from a DataFrame.\n",
      "Try using .loc[row_indexer,col_indexer] = value instead\n",
      "\n",
      "See the caveats in the documentation: https://pandas.pydata.org/pandas-docs/stable/user_guide/indexing.html#returning-a-view-versus-a-copy\n",
      "  cruz_tweets['polarity'] = cruz_tweets['tokens'].map(lambda text: TextBlob(text).sentiment.polarity)\n"
     ]
    }
   ],
   "source": [
    "cruz_tweets['polarity'] = cruz_tweets['tokens'].map(lambda text: TextBlob(text).sentiment.polarity)\n",
    "for tweets in cruz_tweets.nlargest(1, \"polarity\")['text']:\n",
    "    print(tweets + \"\\n\")"
   ]
  },
  {
   "cell_type": "markdown",
   "metadata": {},
   "source": [
    "### Tweets with the smallest polarity"
   ]
  },
  {
   "cell_type": "markdown",
   "metadata": {},
   "source": [
    "**Tammy Duckworth:**"
   ]
  },
  {
   "cell_type": "code",
   "execution_count": 30,
   "metadata": {},
   "outputs": [
    {
     "name": "stdout",
     "output_type": "stream",
     "text": [
      "Three years ago today, days after the horrific #PulseShooting, dozens of Congresspeople led by civil rights hero @repjohnlewis gathered on the House floor to stage an historic, 25-hour sit-in demanding a House vote to #EndGunViolence &amp; an end to GOP efforts to block those votes.\n",
      "\n"
     ]
    }
   ],
   "source": [
    "for tweets in duckworth_tweets.nsmallest(1, \"polarity\")['text']:\n",
    "    print(tweets + \"\\n\")"
   ]
  },
  {
   "cell_type": "markdown",
   "metadata": {},
   "source": [
    "**Ted Cruz:**"
   ]
  },
  {
   "cell_type": "code",
   "execution_count": 31,
   "metadata": {},
   "outputs": [
    {
     "name": "stdout",
     "output_type": "stream",
     "text": [
      "Yesterday, I fought hard to immediately pay every single essential federal employee – every essential employee at the Coast Guard, the TSA, air traffic controllers, Border Patrol agents, ICE agents, FBI agents, and those throughout law enforcement.\n",
      "\n"
     ]
    }
   ],
   "source": [
    "for tweets in cruz_tweets.nsmallest(1, \"polarity\")['text']:\n",
    "    print(tweets + \"\\n\")"
   ]
  },
  {
   "cell_type": "markdown",
   "metadata": {},
   "source": [
    "### Subjectivity"
   ]
  },
  {
   "cell_type": "code",
   "execution_count": 32,
   "metadata": {},
   "outputs": [
    {
     "data": {
      "image/png": "[encoded data removed]",
      "text/plain": [
       "<Figure size 848.625x360 with 2 Axes>"
      ]
     },
     "metadata": {
      "needs_background": "light"
     },
     "output_type": "display_data"
    }
   ],
   "source": [
    "sns.displot(cruz_duck_tweets, x=\"subjectivity\", hue = \"name_wikipedia\", col = \"name_wikipedia\")\n",
    "plt.show()"
   ]
  },
  {
   "cell_type": "markdown",
   "metadata": {},
   "source": [
    "### Tweets with the largest subjectivity"
   ]
  },
  {
   "cell_type": "markdown",
   "metadata": {},
   "source": [
    "**Tammy Duckworth:**"
   ]
  },
  {
   "cell_type": "code",
   "execution_count": 33,
   "metadata": {},
   "outputs": [
    {
     "name": "stdout",
     "output_type": "stream",
     "text": [
      "I will keep working to ensure every family in America – no matter where they live – has access to clean and safe drinking water, and I’m proud to introduce this bill with @RepDanKildee to better protect our children from lead-contaminated water. https://www.duckworth.senate.gov/news/press-releases/07/11/2019/duckworth-kildee-re-introduce-legislation-to-help-protect-families-from-lead-contaminated-water\n",
      "\n"
     ]
    },
    {
     "name": "stderr",
     "output_type": "stream",
     "text": [
      "<ipython-input-33-5401f4840256>:1: SettingWithCopyWarning: \n",
      "A value is trying to be set on a copy of a slice from a DataFrame.\n",
      "Try using .loc[row_indexer,col_indexer] = value instead\n",
      "\n",
      "See the caveats in the documentation: https://pandas.pydata.org/pandas-docs/stable/user_guide/indexing.html#returning-a-view-versus-a-copy\n",
      "  duckworth_tweets['subjectivity'] = duckworth_tweets['tokens'].map(lambda text: TextBlob(text).sentiment.subjectivity)\n"
     ]
    }
   ],
   "source": [
    "duckworth_tweets['subjectivity'] = duckworth_tweets['tokens'].map(lambda text: TextBlob(text).sentiment.subjectivity)\n",
    "for tweets in duckworth_tweets.nlargest(1, 'subjectivity')['text']:\n",
    "    print(tweets + \"\\n\")"
   ]
  },
  {
   "cell_type": "markdown",
   "metadata": {},
   "source": [
    "**Ted Cruz**"
   ]
  },
  {
   "cell_type": "code",
   "execution_count": 34,
   "metadata": {},
   "outputs": [
    {
     "name": "stdout",
     "output_type": "stream",
     "text": [
      "RT @EricTrump Challenge accepted @SeanHannity! Along with the amazing team from @TrumpNationalNY, we are providing food to all police, firefighters and first responders in our town today! They are incredible men and women who have been in the front lines since the begining. @LaraLeaTrump https://twitter.com/seanhannity/status/1254552056347664384 QT @seanhannity Challenge met. I called my friend Randy Levine of the NY .@Yankees and  purchased 500 Yankee Tkts for The Hero medical workers all over NY. Randy and Hal Steinbrenner and the Yankees immediately donated 500 more tkts!! \n",
      "\n",
      "I now Challenge My friends\n",
      ".@LaraLeaTrump  and .@EricTrump https://twitter.com/ainsleyearhardt/status/1253833611469520897\n",
      "\n"
     ]
    },
    {
     "name": "stderr",
     "output_type": "stream",
     "text": [
      "<ipython-input-34-d66c643106dc>:1: SettingWithCopyWarning: \n",
      "A value is trying to be set on a copy of a slice from a DataFrame.\n",
      "Try using .loc[row_indexer,col_indexer] = value instead\n",
      "\n",
      "See the caveats in the documentation: https://pandas.pydata.org/pandas-docs/stable/user_guide/indexing.html#returning-a-view-versus-a-copy\n",
      "  cruz_tweets['subjectivity'] = cruz_tweets['tokens'].map(lambda text: TextBlob(text).sentiment.subjectivity)\n"
     ]
    }
   ],
   "source": [
    "cruz_tweets['subjectivity'] = cruz_tweets['tokens'].map(lambda text: TextBlob(text).sentiment.subjectivity)\n",
    "for tweets in cruz_tweets.nlargest(1, \"subjectivity\")['text']:\n",
    "    print(tweets + \"\\n\")"
   ]
  },
  {
   "cell_type": "markdown",
   "metadata": {},
   "source": [
    "### Tweets with the smallest subjectivity"
   ]
  },
  {
   "cell_type": "markdown",
   "metadata": {},
   "source": [
    "**Tammy Duckworth:**"
   ]
  },
  {
   "cell_type": "code",
   "execution_count": 35,
   "metadata": {},
   "outputs": [
    {
     "name": "stdout",
     "output_type": "stream",
     "text": [
      "After my father lost his job when I was a teenager, food stamps and reduced price meals at school helped keep me from going hungry. I wasn’t alone, either: millions of children across our nation rely on #SchoolBreakfast and other nutritious meals too.\n",
      "\n"
     ]
    }
   ],
   "source": [
    "for tweets in duckworth_tweets.nsmallest(1, \"subjectivity\")['text']:\n",
    "    print(tweets + \"\\n\")"
   ]
  },
  {
   "cell_type": "markdown",
   "metadata": {},
   "source": [
    "**Ted Cruz:**"
   ]
  },
  {
   "cell_type": "code",
   "execution_count": 36,
   "metadata": {},
   "outputs": [
    {
     "name": "stdout",
     "output_type": "stream",
     "text": [
      "This weekend, we celebrate the birth of our nation and the gift of independence. Throughout the history of mankind, freedom has been the exception. And yet, here in America, freedom has been delivered and defended for every man, women, and child.\n",
      "\n"
     ]
    }
   ],
   "source": [
    "for tweets in cruz_tweets.nsmallest(1, \"subjectivity\")['text']:\n",
    "    print(tweets + \"\\n\")"
   ]
  },
  {
   "cell_type": "markdown",
   "metadata": {},
   "source": [
    "### Sujectivity vs. Polarity"
   ]
  },
  {
   "cell_type": "code",
   "execution_count": 37,
   "metadata": {},
   "outputs": [
    {
     "data": {
      "text/plain": [
       "<AxesSubplot:xlabel='polarity', ylabel='subjectivity'>"
      ]
     },
     "execution_count": 37,
     "metadata": {},
     "output_type": "execute_result"
    },
    {
     "data": {
      "image/png": "[encoded data removed]",
      "text/plain": [
       "<Figure size 432x288 with 1 Axes>"
      ]
     },
     "metadata": {
      "needs_background": "light"
     },
     "output_type": "display_data"
    }
   ],
   "source": [
    "sns.scatterplot(x = cruz_duck_tweets['polarity'], y = cruz_duck_tweets['subjectivity'], hue = cruz_duck_tweets['name_wikipedia'])"
   ]
  },
  {
   "cell_type": "markdown",
   "metadata": {},
   "source": [
    "### 5.2: Party Affiliation and Bodies of Congress"
   ]
  },
  {
   "cell_type": "markdown",
   "metadata": {},
   "source": [
    "### Polarity "
   ]
  },
  {
   "cell_type": "code",
   "execution_count": 38,
   "metadata": {},
   "outputs": [],
   "source": [
    "congress_tweets['polarity'] = congress_tweets['tokens'].map(lambda text: TextBlob(text).sentiment.polarity)"
   ]
  },
  {
   "cell_type": "markdown",
   "metadata": {},
   "source": [
    "**Party Affiliation**"
   ]
  },
  {
   "cell_type": "code",
   "execution_count": 39,
   "metadata": {},
   "outputs": [
    {
     "data": {
      "image/png": "[encoded data removed]",
      "text/plain": [
       "<Figure size 1179.25x360 with 3 Axes>"
      ]
     },
     "metadata": {
      "needs_background": "light"
     },
     "output_type": "display_data"
    }
   ],
   "source": [
    "#By Party\n",
    "sns.displot(congress_tweets, x=\"polarity\", hue = \"party\", col = \"party\")\n",
    "plt.show()"
   ]
  },
  {
   "cell_type": "markdown",
   "metadata": {},
   "source": [
    "**Bodies of Congress**"
   ]
  },
  {
   "cell_type": "code",
   "execution_count": 40,
   "metadata": {},
   "outputs": [
    {
     "data": {
      "image/png": "[encoded data removed]",
      "text/plain": [
       "<Figure size 774.75x360 with 2 Axes>"
      ]
     },
     "metadata": {
      "needs_background": "light"
     },
     "output_type": "display_data"
    }
   ],
   "source": [
    "sns.displot(congress_tweets, x=\"polarity\", hue = \"position\", col = \"position\")\n",
    "plt.show()"
   ]
  },
  {
   "cell_type": "markdown",
   "metadata": {},
   "source": [
    "### Subjectivity"
   ]
  },
  {
   "cell_type": "code",
   "execution_count": 41,
   "metadata": {},
   "outputs": [],
   "source": [
    "congress_tweets['subjectivity'] = congress_tweets['tokens'].map(lambda text: TextBlob(text).sentiment.subjectivity)"
   ]
  },
  {
   "cell_type": "markdown",
   "metadata": {},
   "source": [
    "**Party Affiliation**"
   ]
  },
  {
   "cell_type": "code",
   "execution_count": 42,
   "metadata": {},
   "outputs": [
    {
     "data": {
      "image/png": "[encoded data removed]",
      "text/plain": [
       "<Figure size 1179.25x360 with 3 Axes>"
      ]
     },
     "metadata": {
      "needs_background": "light"
     },
     "output_type": "display_data"
    }
   ],
   "source": [
    "#by party\n",
    "sns.displot(congress_tweets, x=\"subjectivity\", hue = \"party\", col = \"party\")\n",
    "plt.show()"
   ]
  },
  {
   "cell_type": "markdown",
   "metadata": {},
   "source": [
    "**Bodies of Congress**"
   ]
  },
  {
   "cell_type": "code",
   "execution_count": 43,
   "metadata": {},
   "outputs": [
    {
     "data": {
      "image/png": "[encoded data removed]",
      "text/plain": [
       "<Figure size 774.75x360 with 2 Axes>"
      ]
     },
     "metadata": {
      "needs_background": "light"
     },
     "output_type": "display_data"
    }
   ],
   "source": [
    "sns.displot(congress_tweets, x=\"subjectivity\", hue = \"position\", col = \"position\")\n",
    "plt.show()"
   ]
  },
  {
   "cell_type": "markdown",
   "metadata": {},
   "source": [
    "## 6. Featurization"
   ]
  },
  {
   "cell_type": "markdown",
   "metadata": {},
   "source": [
    "Before going to classification, explore different featurization techniques. Create three dataframes or arrays to represent your text features, specifically:\n",
    "\n",
    "* Features engineered from your previous analysis. For example, word counts, sentiment scores, topic model etc.\n",
    "* A term frequency-inverse document frequency matrix. \n",
    "* An embedding-based featurization (like a document averaged word2vec)\n",
    "\n",
    "In the next section, you will experiment with each of these featurization techniques to see which one produces the best classifications."
   ]
  },
  {
   "cell_type": "markdown",
   "metadata": {},
   "source": [
    "### Engineered Text Features"
   ]
  },
  {
   "cell_type": "code",
   "execution_count": 44,
   "metadata": {},
   "outputs": [],
   "source": [
    "# Engineered Features\n",
    "congress_tweets['subjectivity'] = congress_tweets['tokens'].map(lambda text: TextBlob(text).sentiment.subjectivity)"
   ]
  },
  {
   "cell_type": "code",
   "execution_count": 45,
   "metadata": {},
   "outputs": [
    {
     "name": "stderr",
     "output_type": "stream",
     "text": [
      "C:\\Users\\diana\\anaconda3\\lib\\site-packages\\sklearn\\feature_extraction\\text.py:383: UserWarning: Your stop_words may be inconsistent with your preprocessing. Tokenizing the stop words generated tokens ['ll', 've'] not in stop_words.\n",
      "  warnings.warn('Your stop_words may be inconsistent with '\n"
     ]
    }
   ],
   "source": [
    "countvec = CountVectorizer(stop_words=STOP_WORDS, ngram_range=(2,3))\n",
    "ngrams = countvec.fit_transform(congress_tweets['tokens'])\n",
    "\n",
    "dictionary_dataframe = pd.DataFrame(ngrams.todense(), columns = countvec.get_feature_names())\n",
    "\n",
    "df_ngram = pd.DataFrame(dictionary_dataframe.sum().reset_index()).rename(columns={'index': 'ngrams', 0:'freq'})\n",
    "df_ngram = df_ngram.sort_values(by = ['freq'], ascending = False).reset_index(drop = True)\n",
    "\n",
    "top_25_ngrams = dictionary_dataframe.loc[:,df_ngram[0:25]['ngrams']]\n"
   ]
  },
  {
   "cell_type": "code",
   "execution_count": 46,
   "metadata": {},
   "outputs": [],
   "source": [
    "def print_top_words(model, feature_names, n_top_words):\n",
    "    for topic_idx, topic in enumerate(model.components_):\n",
    "        print(\"\\nTopic #{}:\".format(topic_idx))\n",
    "        print(\" \".join([feature_names[i]\n",
    "                        for i in topic.argsort()[:-n_top_words - 1:-1]]))\n",
    "    print()"
   ]
  },
  {
   "cell_type": "code",
   "execution_count": 47,
   "metadata": {},
   "outputs": [
    {
     "name": "stdout",
     "output_type": "stream",
     "text": [
      "\n",
      "Topic #0:\n",
      "need help    people house health country american legislation water work qt families new bill trump thank president proud federal\n",
      "\n",
      "Topic #1:\n",
      "work    time qt house americans families trump people thank — need members “ fill live health public week ”\n",
      "\n",
      "Topic #2:\n",
      "   covid19 trump president new qt continue people tax congress protect work workers time security de american – realdonaldtrump need\n",
      "\n",
      "Topic #3:\n",
      "act care    local president american crisis bill new health states immigration bipartisan legislation join qt senate ” communities work\n",
      "\n",
      "Topic #4:\n",
      "   community help thank trump covid19 happy read day new coronavirus house qt    senate act funding visit passed nt\n",
      "\n"
     ]
    }
   ],
   "source": [
    "X = congress_tweets['tokens']\n",
    "tf = TfidfVectorizer(tokenizer = rem_punc_stop)\n",
    "tfidf_matrix =  tf.fit_transform(X)\n",
    "dense_matrix = tfidf_matrix.todense()\n",
    "lda = LatentDirichletAllocation(n_components=5, max_iter=20, random_state=0)\n",
    "lda = lda.fit(dense_matrix)\n",
    "\n",
    "\n",
    "\n",
    "tf_feature_names = tf.get_feature_names()\n",
    "print_top_words(lda, tf_feature_names, 20)\n",
    "\n",
    "topic_dist = lda.transform(tfidf_matrix)\n",
    "topic_dist_df = pd.DataFrame(topic_dist).reset_index(drop = True)"
   ]
  },
  {
   "cell_type": "code",
   "execution_count": 52,
   "metadata": {},
   "outputs": [
    {
     "name": "stdout",
     "output_type": "stream",
     "text": [
      "\n",
      "Topic #0:\n",
      "house senate passed act bill bipartisan time vote legislation    senatemajldr rights housedemocrats white ago people support government weeks floor\n",
      "\n",
      "Topic #1:\n",
      "care health need covid19 new help crisis small coronavirus businesses families relief    workers pandemic testing funding americans states federal\n",
      "\n",
      "Topic #2:\n",
      "de la y el en su del que o por sus ser las los una se entre estado para   \n",
      "\n",
      "Topic #3:\n",
      "trump president “ ” administration qt america realdonaldtrump — congress election people impeachment american mr stop country democrats said investigation\n",
      "\n",
      "Topic #4:\n",
      "thank work day veterans community great honor happy hall lives town nation week want    women questions family county live\n",
      "\n"
     ]
    }
   ],
   "source": [
    "X = congress_tweets['tokens']\n",
    "tf = TfidfVectorizer(tokenizer = rem_punc_stop)\n",
    "tfidf_matrix =  tf.fit_transform(X)\n",
    "dense_matrix = tfidf_matrix.todense()\n",
    "nmf = NMF(n_components=5, init='random', random_state=0)\n",
    "nmf = nmf.fit(dense_matrix)\n",
    "\n",
    "\n",
    "tf_feature_names = tf.get_feature_names()\n",
    "print_top_words(nmf, tf_feature_names, 20)\n",
    "\n",
    "nmf_topic_dist = nmf.transform(tfidf_matrix)\n",
    "nmf_topic_dist_df = pd.DataFrame(nmf_topic_dist).reset_index(drop = True)"
   ]
  },
  {
   "cell_type": "code",
   "execution_count": 53,
   "metadata": {},
   "outputs": [
    {
     "data": {
      "text/plain": [
       "Index(['index', 'tweet_id', 'screen_name', 'datetime', 'text',\n",
       "       'name_wikipedia', 'position', 'joined_congress_date', 'birthday',\n",
       "       'gender', 'state', 'district_number', 'party', 'trump_2016_state_share',\n",
       "       'clinton_2016_state_share', 'obama_2012_state_share',\n",
       "       'romney_2012_state_share', 'text_deEmojify', 'tokens', 'tweet_len',\n",
       "       'word_count', 'polarity', 'subjectivity'],\n",
       "      dtype='object')"
      ]
     },
     "execution_count": 53,
     "metadata": {},
     "output_type": "execute_result"
    }
   ],
   "source": [
    "congress_tweets.columns"
   ]
  },
  {
   "cell_type": "code",
   "execution_count": 54,
   "metadata": {},
   "outputs": [],
   "source": [
    "# Engineered Text Features\n",
    "engineered_features = congress_tweets[['tweet_len', 'word_count', 'polarity', 'subjectivity']].reset_index(drop = True)\n",
    "\n",
    "# Topic Model + Engineered Features\n",
    "engineered_features_with_topics = topic_dist_df.join(engineered_features.reset_index(drop = True))\n",
    "\n",
    "# Non-text features\n",
    "non_text_features = congress_tweets[['position', 'joined_congress_date',\n",
    "       'gender', 'state','party', 'trump_2016_state_share', 'clinton_2016_state_share']]\n",
    "non_text_features_dummies = pd.get_dummies(non_text_features).reset_index(drop = True)\n",
    "\n",
    "# Non-text features + engineered features\n",
    "non_text_engineered_features = non_text_features_dummies.reset_index(drop = True).join(engineered_features_with_topics)\n",
    "\n",
    "# Non-text features + tfidf\n",
    "tfidf_df = pd.DataFrame(tfidf_matrix.todense(), columns = tf.get_feature_names())\n",
    "non_text_plus_tfidf = non_text_features_dummies.reset_index(drop = True).join(tfidf_df)\n",
    "\n",
    "# Top 25 ngrams + non-text\n",
    "non_text_with_ngrams = non_text_features_dummies.reset_index(drop = True).join(top_25_ngrams)"
   ]
  },
  {
   "cell_type": "code",
   "execution_count": 55,
   "metadata": {},
   "outputs": [],
   "source": [
    "dataframes = [engineered_features, \n",
    "              engineered_features_with_topics,\n",
    "              non_text_features_dummies,\n",
    "              non_text_engineered_features,\n",
    "              tfidf_df, \n",
    "              non_text_plus_tfidf,\n",
    "             top_25_ngrams,\n",
    "             non_text_with_ngrams]\n",
    "\n",
    "featurization_technique = ['Engineered Text Features',\n",
    "                            'Engineered Features + Topic Model',\n",
    "                           'Non-Text Features',\n",
    "                           'Non-Text + Engineered Text Features',\n",
    "                           'Tf-idf Features',\n",
    "                           'Non-Text + Tf-idf Features',\n",
    "                          'Top 25 N-Gram Features',\n",
    "                          'Non-Text + Top 25 N-Gram Features']"
   ]
  },
  {
   "cell_type": "markdown",
   "metadata": {},
   "source": [
    "### Bag-of-words or Tf-idf"
   ]
  },
  {
   "cell_type": "code",
   "execution_count": 56,
   "metadata": {},
   "outputs": [],
   "source": [
    "# Frequency Based featurization\n",
    "..."
   ]
  },
  {
   "cell_type": "code",
   "execution_count": 57,
   "metadata": {},
   "outputs": [],
   "source": [
    "bow_vector = CountVectorizer(tokenizer = rem_punc_stop, ngram_range=(1,1))"
   ]
  },
  {
   "cell_type": "code",
   "execution_count": 59,
   "metadata": {},
   "outputs": [],
   "source": [
    "bow_matrix = bow_vector.fit_transform(congress_tweets['text_deEmojify'][0:5])\n",
    "\n",
    "#bow_matrix = bow_vector.fit_transform(cfpb['Consumer complaint narrative'][0:5])"
   ]
  },
  {
   "cell_type": "code",
   "execution_count": 60,
   "metadata": {},
   "outputs": [
    {
     "data": {
      "text/plain": [
       "matrix([[1, 0, 1, 0, 0, 0, 0, 0, 0, 0, 1, 0, 0, 0, 0, 0, 0, 0, 1, 0, 0,\n",
       "         1, 1, 0, 0, 1, 0, 0, 0, 0, 0, 0, 1, 0, 0, 1, 0, 0, 0, 0, 0, 0,\n",
       "         1, 0, 0, 0, 0, 1, 0, 1, 0, 0, 0, 0, 1, 0, 0, 0, 0, 1, 0, 0, 0,\n",
       "         0, 1, 1, 1, 2, 0, 0, 0, 0, 0, 0, 0, 1, 0],\n",
       "        [0, 0, 0, 0, 0, 1, 0, 1, 1, 0, 0, 0, 0, 0, 0, 0, 0, 0, 0, 0, 0,\n",
       "         0, 0, 0, 1, 0, 1, 0, 0, 0, 1, 0, 0, 0, 0, 0, 0, 0, 0, 1, 1, 0,\n",
       "         0, 0, 0, 0, 0, 0, 0, 0, 0, 0, 0, 0, 0, 0, 1, 0, 0, 0, 0, 0, 0,\n",
       "         0, 0, 0, 0, 0, 0, 1, 1, 0, 0, 1, 0, 0, 0],\n",
       "        [0, 1, 0, 0, 0, 0, 1, 0, 0, 0, 0, 1, 0, 0, 1, 0, 0, 1, 0, 1, 1,\n",
       "         0, 0, 1, 0, 0, 0, 0, 0, 1, 0, 1, 0, 1, 1, 0, 1, 1, 1, 0, 0, 1,\n",
       "         0, 0, 1, 0, 0, 0, 0, 0, 0, 0, 0, 1, 0, 0, 0, 1, 0, 0, 0, 1, 0,\n",
       "         1, 0, 0, 0, 1, 0, 0, 0, 0, 0, 0, 0, 0, 1],\n",
       "        [0, 0, 0, 1, 0, 0, 0, 0, 0, 1, 0, 0, 0, 0, 0, 1, 1, 0, 0, 0, 0,\n",
       "         0, 0, 0, 0, 0, 0, 0, 0, 0, 0, 0, 0, 1, 0, 0, 0, 0, 0, 0, 0, 0,\n",
       "         0, 1, 0, 0, 0, 0, 1, 0, 0, 0, 1, 0, 0, 0, 0, 0, 0, 0, 1, 0, 1,\n",
       "         0, 0, 0, 0, 0, 1, 0, 0, 0, 0, 0, 0, 0, 0],\n",
       "        [0, 0, 0, 0, 1, 0, 0, 0, 0, 0, 0, 0, 1, 1, 0, 0, 0, 0, 0, 0, 0,\n",
       "         0, 0, 0, 0, 0, 0, 1, 1, 0, 0, 0, 0, 0, 0, 0, 1, 0, 0, 0, 1, 0,\n",
       "         0, 0, 0, 1, 1, 0, 0, 0, 1, 1, 0, 0, 0, 1, 0, 0, 1, 0, 0, 0, 0,\n",
       "         0, 0, 0, 0, 0, 0, 0, 0, 1, 2, 0, 1, 0, 0]], dtype=int64)"
      ]
     },
     "execution_count": 60,
     "metadata": {},
     "output_type": "execute_result"
    }
   ],
   "source": [
    "bow_matrix.todense()"
   ]
  },
  {
   "cell_type": "code",
   "execution_count": 61,
   "metadata": {},
   "outputs": [
    {
     "data": {
      "text/plain": [
       "[' ',\n",
       " '22',\n",
       " '27',\n",
       " 'actonclimate',\n",
       " 'alleviate',\n",
       " 'answering',\n",
       " 'arkansas',\n",
       " 'askhank',\n",
       " 'begun',\n",
       " 'better']"
      ]
     },
     "execution_count": 61,
     "metadata": {},
     "output_type": "execute_result"
    }
   ],
   "source": [
    "feature_names = bow_vector.get_feature_names()\n",
    "feature_names[0:10]"
   ]
  },
  {
   "cell_type": "markdown",
   "metadata": {},
   "source": [
    "### Word Embedding"
   ]
  },
  {
   "cell_type": "code",
   "execution_count": 62,
   "metadata": {},
   "outputs": [],
   "source": [
    "# Load Word2Vec model from Google; OPTIONAL depending on your computational resources (the file is ~1 GB)\n",
    "# Also note that this file path assumes that the word vectors are underneath 'data'; you may wish to point to the CSS course repo and change the path\n",
    "# or move the vector file to the project repo \n",
    "\n",
    "#model = gensim.models.KeyedVectors.load_word2vec_format('data/GoogleNews-vectors-negative300.bin.gz', binary = True) "
   ]
  },
  {
   "cell_type": "code",
   "execution_count": 63,
   "metadata": {},
   "outputs": [],
   "source": [
    "# Function to average word embeddings for a document; use examples from lab to apply this function. You can use also other techniques such as PCA and doc2vec instead.\n",
    "def document_vector(word2vec_model, doc):\n",
    "    doc = [word for word in doc if word in model.vocab]\n",
    "    return np.mean(model[doc], axis=0)"
   ]
  },
  {
   "cell_type": "code",
   "execution_count": 64,
   "metadata": {},
   "outputs": [],
   "source": [
    "# embedding based featurization\n",
    "..."
   ]
  },
  {
   "cell_type": "markdown",
   "metadata": {},
   "source": [
    "## 7. Classification"
   ]
  },
  {
   "cell_type": "markdown",
   "metadata": {},
   "source": [
    "Either use cross-validation or partition your data with training/validation/test sets for this section. Do the following:\n",
    "\n",
    "* Choose a supervised learning algorithm such as logistic regression, random forest etc. \n",
    "* Train six models. For each of the three dataframes you created in the featurization part, train one model to predict whether the author of the tweet is a Democrat or Republican, and a second model to predict whether the author is a Senator or Representative.\n",
    "* Report the accuracy and other relevant metrics for each of these six models.\n",
    "* Choose the featurization technique associated with your best model. Combine those text features with non-text features. Train two more models: (1) A supervised learning algorithm that uses just the non-text features and (2) a supervised learning algorithm that combines text and non-text features. Report accuracy and other relevant metrics. \n",
    "\n",
    "If time permits, you are encouraged to use hyperparameter tuning or AutoML techniques like TPOT, but are not explicitly required to do so."
   ]
  },
  {
   "cell_type": "markdown",
   "metadata": {},
   "source": [
    "### Train Six Models with Just Text"
   ]
  },
  {
   "cell_type": "code",
   "execution_count": null,
   "metadata": {},
   "outputs": [],
   "source": [
    "# six models ([engineered features, frequency-based, embedding] * [democrat/republican, senator/representative])\n",
    "..."
   ]
  },
  {
   "cell_type": "markdown",
   "metadata": {},
   "source": [
    "### Two Combined Models"
   ]
  },
  {
   "cell_type": "code",
   "execution_count": null,
   "metadata": {},
   "outputs": [],
   "source": [
    "# two models ([best text features + non-text features] * [democrat/republican, senator/representative])\n",
    "..."
   ]
  },
  {
   "cell_type": "markdown",
   "metadata": {},
   "source": [
    "## 8. Discussion Questions"
   ]
  },
  {
   "cell_type": "markdown",
   "metadata": {},
   "source": [
    "1. Why do standard preprocessing techniques need to be further customized to a particular corpus?"
   ]
  },
  {
   "cell_type": "markdown",
   "metadata": {},
   "source": [
    "**Your Answer Here**"
   ]
  },
  {
   "cell_type": "markdown",
   "metadata": {},
   "source": [
    "2. Did you find evidence for the idea that Democrats and Republicans have different sentiments in their tweets? What about Senators and Representatives?"
   ]
  },
  {
   "cell_type": "markdown",
   "metadata": {},
   "source": [
    "**Your Answer Here**"
   ]
  },
  {
   "cell_type": "markdown",
   "metadata": {},
   "source": [
    "3. Why is validating your exploratory and unsupervised learning approaches with a supervised learning algorithm valuable?"
   ]
  },
  {
   "cell_type": "markdown",
   "metadata": {},
   "source": [
    "**Your Answer Here**"
   ]
  },
  {
   "cell_type": "markdown",
   "metadata": {},
   "source": [
    "4. Did text only, non-text only, or text and non-text features together perform the best? What is the intuition behind combining text and non-text features in a supervised learning algorithm?"
   ]
  },
  {
   "cell_type": "markdown",
   "metadata": {},
   "source": [
    "**Your Answer Here**"
   ]
  }
 ],
 "metadata": {
  "kernelspec": {
   "display_name": "Python 3",
   "language": "python",
   "name": "python3"
  },
  "language_info": {
   "codemirror_mode": {
    "name": "ipython",
    "version": 3
   },
   "file_extension": ".py",
   "mimetype": "text/x-python",
   "name": "python",
   "nbconvert_exporter": "python",
   "pygments_lexer": "ipython3",
   "version": "3.8.5"
  }
 },
 "nbformat": 4,
 "nbformat_minor": 4
}
